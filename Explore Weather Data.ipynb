{
 "cells": [
  {
   "cell_type": "markdown",
   "metadata": {
    "toc-hr-collapsed": false
   },
   "source": [
    "Absolving **Udacity's Data Analyst Nanodegree Programm**, I did the project **\"Exploring Weather Data\"**.\n",
    "The project's goal is to create a visualization and to describe similarities and differences between global temperature and the temperature in Berlin, my home town.  \n",
    "This document is submitted as a pdf, but can also be found on [github±±±±±]()"
   ]
  },
  {
   "cell_type": "markdown",
   "metadata": {
    "toc-hr-collapsed": false
   },
   "source": [
    "# Key **Findings**\n",
    "\n",
    "## Key Visualization\n",
    "![./pics/weather_data_berlin_vs_world.png](./pics/weather_data_berlin_vs_world.png)\n",
    "\n",
    "## Key Conclusions"
   ]
  },
  {
   "cell_type": "markdown",
   "metadata": {
    "toc-hr-collapsed": false
   },
   "source": [
    "# **Outline** of the Project"
   ]
  },
  {
   "cell_type": "markdown",
   "metadata": {
    "toc-hr-collapsed": false
   },
   "source": [
    "## **Tools** Used and **Code**"
   ]
  },
  {
   "cell_type": "markdown",
   "metadata": {},
   "source": [
    "### **SQL** Code Applied to **Extract Data** from Udacity's SQL Database\n",
    "#### Basic Considerations\n",
    "The instruction says that the local reference city shall be the \"closest city\" to where I live. As I live in Berlin, Germany, I first see in `city_list` which cities in Germany are included, before pulling the according weather data. Next, I pull the local weather data from `city_data` and the global weather data from `global_data` and join them together. Assuming, the provided data is clean (no duplicates, wrong types etc.) I skip the data cleansing part.\n",
    "\n",
    "#### The Code\n",
    "**Looking up cities in Germany**\n",
    "\n",
    "```\n",
    "SELECT *\n",
    "    FROM city_list\n",
    "    WHERE country='Germany'\n",
    "```\n",
    "\n",
    "It turns out, that Berlin (my hometown) is included in the list\n",
    "\n",
    "**Retrieving Berlin Weather Data**\n",
    "\n",
    "```\n",
    "SELECT year, avg_temp AS berlin\n",
    "    FROM city_data\n",
    "    WHERE country='Germany' AND city='Berlin'\n",
    "```\n",
    "\n",
    "Note, that one can see that there are missing data right at the first years (174x).\n",
    "\n",
    "**Retrieving Global Weather Data**\n",
    "\n",
    "```\n",
    "SELECT year, avg_temp AS global\n",
    "    FROM global_data\n",
    "```\n",
    "Note, that one can see that the global data starts later than Berlins data (1750).\n",
    "\n",
    "**Joining the Resulting Tables to One Table**\n",
    "\n",
    "```\n",
    "SELECT *\n",
    "    FROM (\n",
    "        SELECT year AS year, avg_temp AS berlin\n",
    "            FROM city_data\n",
    "            WHERE country='Germany' AND city='Berlin'\n",
    "    ) AS my_city\n",
    "    JOIN (\n",
    "        SELECT year AS year, avg_temp AS world\n",
    "            FROM global_data\n",
    "        ) AS world\n",
    "    ON my_city.year = world.year\n",
    "```\n",
    "\n",
    "This is the table, I actually **downloaded as CSV** (*results.csv*)."
   ]
  },
  {
   "cell_type": "markdown",
   "metadata": {},
   "source": [
    "### **Python** Code to Join Data and **Calculate Moving Average**\n",
    "#### Basic Considerations\n",
    "I use the `pandas` library to import the data (and check it a bit for consistency).  \n",
    "For calculating the moving average, I write a function returning a `pandas` `DataFrame`, which later allows me to investigate on different \"moving windows\". An explanation of the moving average can be found here: https://en.wikipedia.org/wiki/Moving_average.  \n",
    "There also the general formula can be found:  \n",
    "\n",
    "\n",
    "![moving average formula](https://wikimedia.org/api/rest_v1/media/math/render/svg/d6a4be8da388bfd94fc368c98db6e8064ecd2746)\n",
    "#### The Code"
   ]
  },
  {
   "cell_type": "code",
   "execution_count": 307,
   "metadata": {},
   "outputs": [],
   "source": [
    "# Importing pandas as importing (and manipulation) tool for the csv\n",
    "import pandas as pd"
   ]
  },
  {
   "cell_type": "code",
   "execution_count": 308,
   "metadata": {},
   "outputs": [],
   "source": [
    "# Reading the csv \"results.csv\" (retrival described above)\n",
    "raw_avg_temp = pd.read_csv(\"./data/results.csv\")"
   ]
  },
  {
   "cell_type": "code",
   "execution_count": 309,
   "metadata": {},
   "outputs": [
    {
     "data": {
      "text/html": [
       "<div>\n",
       "<style scoped>\n",
       "    .dataframe tbody tr th:only-of-type {\n",
       "        vertical-align: middle;\n",
       "    }\n",
       "\n",
       "    .dataframe tbody tr th {\n",
       "        vertical-align: top;\n",
       "    }\n",
       "\n",
       "    .dataframe thead th {\n",
       "        text-align: right;\n",
       "    }\n",
       "</style>\n",
       "<table border=\"1\" class=\"dataframe\">\n",
       "  <thead>\n",
       "    <tr style=\"text-align: right;\">\n",
       "      <th></th>\n",
       "      <th>year</th>\n",
       "      <th>berlin</th>\n",
       "      <th>world</th>\n",
       "    </tr>\n",
       "  </thead>\n",
       "  <tbody>\n",
       "    <tr>\n",
       "      <th>0</th>\n",
       "      <td>1750</td>\n",
       "      <td>9.83</td>\n",
       "      <td>8.72</td>\n",
       "    </tr>\n",
       "    <tr>\n",
       "      <th>1</th>\n",
       "      <td>1751</td>\n",
       "      <td>9.75</td>\n",
       "      <td>7.98</td>\n",
       "    </tr>\n",
       "    <tr>\n",
       "      <th>2</th>\n",
       "      <td>1752</td>\n",
       "      <td>4.84</td>\n",
       "      <td>5.78</td>\n",
       "    </tr>\n",
       "    <tr>\n",
       "      <th>261</th>\n",
       "      <td>2011</td>\n",
       "      <td>10.56</td>\n",
       "      <td>9.52</td>\n",
       "    </tr>\n",
       "    <tr>\n",
       "      <th>262</th>\n",
       "      <td>2012</td>\n",
       "      <td>9.96</td>\n",
       "      <td>9.51</td>\n",
       "    </tr>\n",
       "    <tr>\n",
       "      <th>263</th>\n",
       "      <td>2013</td>\n",
       "      <td>10.12</td>\n",
       "      <td>9.61</td>\n",
       "    </tr>\n",
       "  </tbody>\n",
       "</table>\n",
       "</div>"
      ],
      "text/plain": [
       "     year  berlin  world\n",
       "0    1750    9.83   8.72\n",
       "1    1751    9.75   7.98\n",
       "2    1752    4.84   5.78\n",
       "261  2011   10.56   9.52\n",
       "262  2012    9.96   9.51\n",
       "263  2013   10.12   9.61"
      ]
     },
     "execution_count": 309,
     "metadata": {},
     "output_type": "execute_result"
    }
   ],
   "source": [
    "# First look at the DataFrame\n",
    "pd.concat([raw_avg_temp.head(3), raw_avg_temp.tail(3)])"
   ]
  },
  {
   "cell_type": "code",
   "execution_count": 310,
   "metadata": {},
   "outputs": [
    {
     "data": {
      "text/plain": [
       "False"
      ]
     },
     "execution_count": 310,
     "metadata": {},
     "output_type": "execute_result"
    }
   ],
   "source": [
    "# Checking for duplicates (in years)\n",
    "any(raw_avg_temp['year'].duplicated())"
   ]
  },
  {
   "cell_type": "code",
   "execution_count": 311,
   "metadata": {},
   "outputs": [],
   "source": [
    "# As nothing is duplicated we set index to 'years'\n",
    "avg_temp = raw_avg_temp.set_index(['year']).copy()"
   ]
  },
  {
   "cell_type": "code",
   "execution_count": 312,
   "metadata": {},
   "outputs": [],
   "source": [
    "# Now looking at moving averages using pandas build-in 'rolling_mean' function\n",
    "def moving_avg(df, window_size):\n",
    "    return df.rolling(window_size).mean().dropna().copy()"
   ]
  },
  {
   "cell_type": "markdown",
   "metadata": {},
   "source": [
    "With the Code above, we can return a generic rolling average with arbitrary window size. Let's give it a try with window size of 5."
   ]
  },
  {
   "cell_type": "code",
   "execution_count": 313,
   "metadata": {},
   "outputs": [
    {
     "data": {
      "text/html": [
       "<div>\n",
       "<style scoped>\n",
       "    .dataframe tbody tr th:only-of-type {\n",
       "        vertical-align: middle;\n",
       "    }\n",
       "\n",
       "    .dataframe tbody tr th {\n",
       "        vertical-align: top;\n",
       "    }\n",
       "\n",
       "    .dataframe thead th {\n",
       "        text-align: right;\n",
       "    }\n",
       "</style>\n",
       "<table border=\"1\" class=\"dataframe\">\n",
       "  <thead>\n",
       "    <tr style=\"text-align: right;\">\n",
       "      <th></th>\n",
       "      <th>berlin</th>\n",
       "      <th>world</th>\n",
       "    </tr>\n",
       "    <tr>\n",
       "      <th>year</th>\n",
       "      <th></th>\n",
       "      <th></th>\n",
       "    </tr>\n",
       "  </thead>\n",
       "  <tbody>\n",
       "    <tr>\n",
       "      <th>1754</th>\n",
       "      <td>8.326</td>\n",
       "      <td>7.868</td>\n",
       "    </tr>\n",
       "    <tr>\n",
       "      <th>1755</th>\n",
       "      <td>8.012</td>\n",
       "      <td>7.796</td>\n",
       "    </tr>\n",
       "    <tr>\n",
       "      <th>1756</th>\n",
       "      <td>7.986</td>\n",
       "      <td>7.970</td>\n",
       "    </tr>\n",
       "    <tr>\n",
       "      <th>1757</th>\n",
       "      <td>8.848</td>\n",
       "      <td>8.618</td>\n",
       "    </tr>\n",
       "    <tr>\n",
       "      <th>1758</th>\n",
       "      <td>8.754</td>\n",
       "      <td>8.288</td>\n",
       "    </tr>\n",
       "  </tbody>\n",
       "</table>\n",
       "</div>"
      ],
      "text/plain": [
       "      berlin  world\n",
       "year               \n",
       "1754   8.326  7.868\n",
       "1755   8.012  7.796\n",
       "1756   7.986  7.970\n",
       "1757   8.848  8.618\n",
       "1758   8.754  8.288"
      ]
     },
     "execution_count": 313,
     "metadata": {},
     "output_type": "execute_result"
    }
   ],
   "source": [
    "moving_avg_temp = moving_avg(avg_temp, 5)\n",
    "moving_avg_temp.head()"
   ]
  },
  {
   "cell_type": "markdown",
   "metadata": {},
   "source": [
    "As expected, averaged temperaturs are being shown in 1754 (just five years after the \"begin of records\")"
   ]
  },
  {
   "cell_type": "markdown",
   "metadata": {
    "toc-hr-collapsed": false
   },
   "source": [
    "### **Python** Code to **Create Line Chart**\n",
    "#### Basic Considerations\n",
    "For visualizing the data, I choose the Altair library. This library comes in handy, as it \"complies\" with basic visualization principles (\"grammar of visualization\"). However, as Altair needs \"normalized\" tables, some further wrangling is necessary.\n",
    "#### The Code"
   ]
  },
  {
   "cell_type": "code",
   "execution_count": 314,
   "metadata": {},
   "outputs": [
    {
     "data": {
      "text/html": [
       "<div>\n",
       "<style scoped>\n",
       "    .dataframe tbody tr th:only-of-type {\n",
       "        vertical-align: middle;\n",
       "    }\n",
       "\n",
       "    .dataframe tbody tr th {\n",
       "        vertical-align: top;\n",
       "    }\n",
       "\n",
       "    .dataframe thead th {\n",
       "        text-align: right;\n",
       "    }\n",
       "</style>\n",
       "<table border=\"1\" class=\"dataframe\">\n",
       "  <thead>\n",
       "    <tr style=\"text-align: right;\">\n",
       "      <th></th>\n",
       "      <th>year</th>\n",
       "      <th>level</th>\n",
       "      <th>avg_temp</th>\n",
       "    </tr>\n",
       "  </thead>\n",
       "  <tbody>\n",
       "    <tr>\n",
       "      <th>0</th>\n",
       "      <td>1754-01-01</td>\n",
       "      <td>berlin</td>\n",
       "      <td>8.326</td>\n",
       "    </tr>\n",
       "    <tr>\n",
       "      <th>1</th>\n",
       "      <td>1754-01-01</td>\n",
       "      <td>world</td>\n",
       "      <td>7.868</td>\n",
       "    </tr>\n",
       "    <tr>\n",
       "      <th>2</th>\n",
       "      <td>1755-01-01</td>\n",
       "      <td>berlin</td>\n",
       "      <td>8.012</td>\n",
       "    </tr>\n",
       "    <tr>\n",
       "      <th>3</th>\n",
       "      <td>1755-01-01</td>\n",
       "      <td>world</td>\n",
       "      <td>7.796</td>\n",
       "    </tr>\n",
       "    <tr>\n",
       "      <th>4</th>\n",
       "      <td>1756-01-01</td>\n",
       "      <td>berlin</td>\n",
       "      <td>7.986</td>\n",
       "    </tr>\n",
       "  </tbody>\n",
       "</table>\n",
       "</div>"
      ],
      "text/plain": [
       "        year   level  avg_temp\n",
       "0 1754-01-01  berlin     8.326\n",
       "1 1754-01-01   world     7.868\n",
       "2 1755-01-01  berlin     8.012\n",
       "3 1755-01-01   world     7.796\n",
       "4 1756-01-01  berlin     7.986"
      ]
     },
     "execution_count": 314,
     "metadata": {},
     "output_type": "execute_result"
    }
   ],
   "source": [
    "# Creating a normalized DataFrame (when all columns are to be stacked)\n",
    "def create_normalized_df(df):\n",
    "    return df.stack().reset_index().copy()\n",
    "\n",
    "# Rename the columns\n",
    "def rename_columns(df, col_names):\n",
    "    df.columns = col_names\n",
    "    return df\n",
    "\n",
    "# Combining the above\n",
    "def create_normalized_df_with_col_names(df, col_names):\n",
    "    return rename_columns(create_normalized_df(df), col_names).copy()\n",
    "\n",
    "# Function for this specific transformation (and creating datetime for 'year')\n",
    "def create_moving_avg_temp(df, window_size):\n",
    "    create_moving_avg_temp = create_normalized_df_with_col_names(moving_avg(df, window_size), ['year', 'level', 'avg_temp'])\n",
    "    create_moving_avg_temp['year'] = pd.to_datetime(create_moving_avg_temp['year'], format='%Y')\n",
    "    return create_moving_avg_temp\n",
    "\n",
    "create_moving_avg_temp(avg_temp, 5).head()"
   ]
  },
  {
   "cell_type": "code",
   "execution_count": 315,
   "metadata": {},
   "outputs": [],
   "source": [
    "import altair as alt"
   ]
  },
  {
   "cell_type": "code",
   "execution_count": 316,
   "metadata": {},
   "outputs": [],
   "source": [
    "def avg_chart(moving_window):\n",
    "    avg_chart = alt.Chart(create_moving_avg_temp(avg_temp, moving_window)).mark_line().encode(\n",
    "        alt.X(\n",
    "            'year:T', \n",
    "                title='Year'\n",
    "        ),\n",
    "        alt.Y(\n",
    "            'avg_temp:Q', \n",
    "            title='Avg. Temp. [°C]', \n",
    "            scale=alt.Scale(zero=False)),\n",
    "        alt.Color(\n",
    "            'level:N'\n",
    "        )\n",
    "    ).properties(\n",
    "        title='Avg. Temp. World vs. Berlin (Moving Window ' + str(moving_window) + ')'\n",
    "    )\n",
    "    return avg_chart"
   ]
  },
  {
   "cell_type": "code",
   "execution_count": 318,
   "metadata": {},
   "outputs": [
    {
     "data": {
      "application/vnd.vegalite.v2+json": {
       "$schema": "https://vega.github.io/schema/vega-lite/v2.6.0.json",
       "config": {
        "view": {
         "height": 300,
         "width": 400
        }
       },
       "datasets": {
        "data-06fc11db8703b8141bf9e67ec7e9cfd4": [
         {
          "avg_temp": 8.759687499999998,
          "level": "berlin",
          "year": "1813-01-01T00:00:00"
         },
         {
          "avg_temp": 8.131406249999998,
          "level": "world",
          "year": "1813-01-01T00:00:00"
         },
         {
          "avg_temp": 8.722656249999998,
          "level": "berlin",
          "year": "1814-01-01T00:00:00"
         },
         {
          "avg_temp": 8.113749999999998,
          "level": "world",
          "year": "1814-01-01T00:00:00"
         },
         {
          "avg_temp": 8.701249999999998,
          "level": "berlin",
          "year": "1815-01-01T00:00:00"
         },
         {
          "avg_temp": 8.102187499999998,
          "level": "world",
          "year": "1815-01-01T00:00:00"
         },
         {
          "avg_temp": 8.746718749999998,
          "level": "berlin",
          "year": "1816-01-01T00:00:00"
         },
         {
          "avg_temp": 8.120312499999999,
          "level": "world",
          "year": "1816-01-01T00:00:00"
         },
         {
          "avg_temp": 8.749843749999997,
          "level": "berlin",
          "year": "1817-01-01T00:00:00"
         },
         {
          "avg_temp": 8.09828125,
          "level": "world",
          "year": "1817-01-01T00:00:00"
         },
         {
          "avg_temp": 8.757812499999996,
          "level": "berlin",
          "year": "1818-01-01T00:00:00"
         },
         {
          "avg_temp": 8.08828125,
          "level": "world",
          "year": "1818-01-01T00:00:00"
         },
         {
          "avg_temp": 8.776093749999996,
          "level": "berlin",
          "year": "1819-01-01T00:00:00"
         },
         {
          "avg_temp": 8.0728125,
          "level": "world",
          "year": "1819-01-01T00:00:00"
         },
         {
          "avg_temp": 8.748593749999996,
          "level": "berlin",
          "year": "1820-01-01T00:00:00"
         },
         {
          "avg_temp": 8.05359375,
          "level": "world",
          "year": "1820-01-01T00:00:00"
         },
         {
          "avg_temp": 8.748593749999996,
          "level": "berlin",
          "year": "1821-01-01T00:00:00"
         },
         {
          "avg_temp": 8.0390625,
          "level": "world",
          "year": "1821-01-01T00:00:00"
         },
         {
          "avg_temp": 8.776718749999995,
          "level": "berlin",
          "year": "1822-01-01T00:00:00"
         },
         {
          "avg_temp": 8.06171875,
          "level": "world",
          "year": "1822-01-01T00:00:00"
         },
         {
          "avg_temp": 8.764531249999996,
          "level": "berlin",
          "year": "1823-01-01T00:00:00"
         },
         {
          "avg_temp": 8.057500000000001,
          "level": "world",
          "year": "1823-01-01T00:00:00"
         },
         {
          "avg_temp": 8.774218749999996,
          "level": "berlin",
          "year": "1824-01-01T00:00:00"
         },
         {
          "avg_temp": 8.07875,
          "level": "world",
          "year": "1824-01-01T00:00:00"
         },
         {
          "avg_temp": 8.771874999999996,
          "level": "berlin",
          "year": "1825-01-01T00:00:00"
         },
         {
          "avg_temp": 8.0728125,
          "level": "world",
          "year": "1825-01-01T00:00:00"
         },
         {
          "avg_temp": 8.784687499999997,
          "level": "berlin",
          "year": "1826-01-01T00:00:00"
         },
         {
          "avg_temp": 8.06890625,
          "level": "world",
          "year": "1826-01-01T00:00:00"
         },
         {
          "avg_temp": 8.790468749999997,
          "level": "berlin",
          "year": "1827-01-01T00:00:00"
         },
         {
          "avg_temp": 8.089374999999999,
          "level": "world",
          "year": "1827-01-01T00:00:00"
         },
         {
          "avg_temp": 8.790937499999998,
          "level": "berlin",
          "year": "1828-01-01T00:00:00"
         },
         {
          "avg_temp": 8.085781249999998,
          "level": "world",
          "year": "1828-01-01T00:00:00"
         },
         {
          "avg_temp": 8.759374999999999,
          "level": "berlin",
          "year": "1829-01-01T00:00:00"
         },
         {
          "avg_temp": 8.0809375,
          "level": "world",
          "year": "1829-01-01T00:00:00"
         },
         {
          "avg_temp": 8.74703125,
          "level": "berlin",
          "year": "1830-01-01T00:00:00"
         },
         {
          "avg_temp": 8.08265625,
          "level": "world",
          "year": "1830-01-01T00:00:00"
         },
         {
          "avg_temp": 8.759374999999999,
          "level": "berlin",
          "year": "1831-01-01T00:00:00"
         },
         {
          "avg_temp": 8.073593749999999,
          "level": "world",
          "year": "1831-01-01T00:00:00"
         },
         {
          "avg_temp": 8.76421875,
          "level": "berlin",
          "year": "1832-01-01T00:00:00"
         },
         {
          "avg_temp": 8.0840625,
          "level": "world",
          "year": "1832-01-01T00:00:00"
         },
         {
          "avg_temp": 8.770937499999999,
          "level": "berlin",
          "year": "1833-01-01T00:00:00"
         },
         {
          "avg_temp": 8.089062499999999,
          "level": "world",
          "year": "1833-01-01T00:00:00"
         },
         {
          "avg_temp": 8.800624999999998,
          "level": "berlin",
          "year": "1834-01-01T00:00:00"
         },
         {
          "avg_temp": 8.096249999999998,
          "level": "world",
          "year": "1834-01-01T00:00:00"
         },
         {
          "avg_temp": 8.821874999999997,
          "level": "berlin",
          "year": "1835-01-01T00:00:00"
         },
         {
          "avg_temp": 8.089062499999997,
          "level": "world",
          "year": "1835-01-01T00:00:00"
         },
         {
          "avg_temp": 8.817968749999997,
          "level": "berlin",
          "year": "1836-01-01T00:00:00"
         },
         {
          "avg_temp": 8.081406249999997,
          "level": "world",
          "year": "1836-01-01T00:00:00"
         },
         {
          "avg_temp": 8.796093749999997,
          "level": "berlin",
          "year": "1837-01-01T00:00:00"
         },
         {
          "avg_temp": 8.068281249999997,
          "level": "world",
          "year": "1837-01-01T00:00:00"
         },
         {
          "avg_temp": 8.772968749999997,
          "level": "berlin",
          "year": "1838-01-01T00:00:00"
         },
         {
          "avg_temp": 8.048593749999997,
          "level": "world",
          "year": "1838-01-01T00:00:00"
         },
         {
          "avg_temp": 8.749999999999996,
          "level": "berlin",
          "year": "1839-01-01T00:00:00"
         },
         {
          "avg_temp": 8.024374999999997,
          "level": "world",
          "year": "1839-01-01T00:00:00"
         },
         {
          "avg_temp": 8.740312499999996,
          "level": "berlin",
          "year": "1840-01-01T00:00:00"
         },
         {
          "avg_temp": 8.016562499999997,
          "level": "world",
          "year": "1840-01-01T00:00:00"
         },
         {
          "avg_temp": 8.752343749999996,
          "level": "berlin",
          "year": "1841-01-01T00:00:00"
         },
         {
          "avg_temp": 8.007656249999998,
          "level": "world",
          "year": "1841-01-01T00:00:00"
         },
         {
          "avg_temp": 8.737968749999997,
          "level": "berlin",
          "year": "1842-01-01T00:00:00"
         },
         {
          "avg_temp": 7.999531249999998,
          "level": "world",
          "year": "1842-01-01T00:00:00"
         },
         {
          "avg_temp": 8.717812499999996,
          "level": "berlin",
          "year": "1843-01-01T00:00:00"
         },
         {
          "avg_temp": 7.986874999999998,
          "level": "world",
          "year": "1843-01-01T00:00:00"
         },
         {
          "avg_temp": 8.703281249999996,
          "level": "berlin",
          "year": "1844-01-01T00:00:00"
         },
         {
          "avg_temp": 7.959062499999997,
          "level": "world",
          "year": "1844-01-01T00:00:00"
         },
         {
          "avg_temp": 8.671093749999995,
          "level": "berlin",
          "year": "1845-01-01T00:00:00"
         },
         {
          "avg_temp": 7.955156249999996,
          "level": "world",
          "year": "1845-01-01T00:00:00"
         },
         {
          "avg_temp": 8.690312499999996,
          "level": "berlin",
          "year": "1846-01-01T00:00:00"
         },
         {
          "avg_temp": 7.965312499999996,
          "level": "world",
          "year": "1846-01-01T00:00:00"
         },
         {
          "avg_temp": 8.666562499999996,
          "level": "berlin",
          "year": "1847-01-01T00:00:00"
         },
         {
          "avg_temp": 7.971718749999996,
          "level": "world",
          "year": "1847-01-01T00:00:00"
         },
         {
          "avg_temp": 8.683437499999997,
          "level": "berlin",
          "year": "1848-01-01T00:00:00"
         },
         {
          "avg_temp": 7.973593749999996,
          "level": "world",
          "year": "1848-01-01T00:00:00"
         },
         {
          "avg_temp": 8.692968749999997,
          "level": "berlin",
          "year": "1849-01-01T00:00:00"
         },
         {
          "avg_temp": 7.983281249999996,
          "level": "world",
          "year": "1849-01-01T00:00:00"
         },
         {
          "avg_temp": 8.701093749999998,
          "level": "berlin",
          "year": "1850-01-01T00:00:00"
         },
         {
          "avg_temp": 7.9776562499999955,
          "level": "world",
          "year": "1850-01-01T00:00:00"
         },
         {
          "avg_temp": 8.689062499999999,
          "level": "berlin",
          "year": "1851-01-01T00:00:00"
         },
         {
          "avg_temp": 7.979999999999995,
          "level": "world",
          "year": "1851-01-01T00:00:00"
         },
         {
          "avg_temp": 8.707968749999997,
          "level": "berlin",
          "year": "1852-01-01T00:00:00"
         },
         {
          "avg_temp": 7.974531249999996,
          "level": "world",
          "year": "1852-01-01T00:00:00"
         },
         {
          "avg_temp": 8.685468749999997,
          "level": "berlin",
          "year": "1853-01-01T00:00:00"
         },
         {
          "avg_temp": 7.969999999999996,
          "level": "world",
          "year": "1853-01-01T00:00:00"
         },
         {
          "avg_temp": 8.679218749999997,
          "level": "berlin",
          "year": "1854-01-01T00:00:00"
         },
         {
          "avg_temp": 7.973593749999996,
          "level": "world",
          "year": "1854-01-01T00:00:00"
         },
         {
          "avg_temp": 8.640468749999998,
          "level": "berlin",
          "year": "1855-01-01T00:00:00"
         },
         {
          "avg_temp": 7.9717187499999955,
          "level": "world",
          "year": "1855-01-01T00:00:00"
         },
         {
          "avg_temp": 8.634218749999999,
          "level": "berlin",
          "year": "1856-01-01T00:00:00"
         },
         {
          "avg_temp": 7.970312499999996,
          "level": "world",
          "year": "1856-01-01T00:00:00"
         },
         {
          "avg_temp": 8.6375,
          "level": "berlin",
          "year": "1857-01-01T00:00:00"
         },
         {
          "avg_temp": 7.962968749999996,
          "level": "world",
          "year": "1857-01-01T00:00:00"
         },
         {
          "avg_temp": 8.60546875,
          "level": "berlin",
          "year": "1858-01-01T00:00:00"
         },
         {
          "avg_temp": 7.956249999999997,
          "level": "world",
          "year": "1858-01-01T00:00:00"
         },
         {
          "avg_temp": 8.616875,
          "level": "berlin",
          "year": "1859-01-01T00:00:00"
         },
         {
          "avg_temp": 7.954687499999997,
          "level": "world",
          "year": "1859-01-01T00:00:00"
         },
         {
          "avg_temp": 8.60109375,
          "level": "berlin",
          "year": "1860-01-01T00:00:00"
         },
         {
          "avg_temp": 7.949843749999998,
          "level": "world",
          "year": "1860-01-01T00:00:00"
         },
         {
          "avg_temp": 8.58234375,
          "level": "berlin",
          "year": "1861-01-01T00:00:00"
         },
         {
          "avg_temp": 7.939531249999998,
          "level": "world",
          "year": "1861-01-01T00:00:00"
         },
         {
          "avg_temp": 8.575781249999999,
          "level": "berlin",
          "year": "1862-01-01T00:00:00"
         },
         {
          "avg_temp": 7.922187499999997,
          "level": "world",
          "year": "1862-01-01T00:00:00"
         },
         {
          "avg_temp": 8.624062499999997,
          "level": "berlin",
          "year": "1863-01-01T00:00:00"
         },
         {
          "avg_temp": 7.9159374999999965,
          "level": "world",
          "year": "1863-01-01T00:00:00"
         },
         {
          "avg_temp": 8.598906249999997,
          "level": "berlin",
          "year": "1864-01-01T00:00:00"
         },
         {
          "avg_temp": 7.9081249999999965,
          "level": "world",
          "year": "1864-01-01T00:00:00"
         },
         {
          "avg_temp": 8.587499999999997,
          "level": "berlin",
          "year": "1865-01-01T00:00:00"
         },
         {
          "avg_temp": 7.901718749999996,
          "level": "world",
          "year": "1865-01-01T00:00:00"
         },
         {
          "avg_temp": 8.593124999999997,
          "level": "berlin",
          "year": "1866-01-01T00:00:00"
         },
         {
          "avg_temp": 7.897187499999997,
          "level": "world",
          "year": "1866-01-01T00:00:00"
         },
         {
          "avg_temp": 8.599218749999997,
          "level": "berlin",
          "year": "1867-01-01T00:00:00"
         },
         {
          "avg_temp": 7.896249999999997,
          "level": "world",
          "year": "1867-01-01T00:00:00"
         },
         {
          "avg_temp": 8.628593749999997,
          "level": "berlin",
          "year": "1868-01-01T00:00:00"
         },
         {
          "avg_temp": 7.887031249999997,
          "level": "world",
          "year": "1868-01-01T00:00:00"
         },
         {
          "avg_temp": 8.657656249999995,
          "level": "berlin",
          "year": "1869-01-01T00:00:00"
         },
         {
          "avg_temp": 7.884999999999997,
          "level": "world",
          "year": "1869-01-01T00:00:00"
         },
         {
          "avg_temp": 8.624843749999997,
          "level": "berlin",
          "year": "1870-01-01T00:00:00"
         },
         {
          "avg_temp": 7.881406249999997,
          "level": "world",
          "year": "1870-01-01T00:00:00"
         },
         {
          "avg_temp": 8.588281249999998,
          "level": "berlin",
          "year": "1871-01-01T00:00:00"
         },
         {
          "avg_temp": 7.8789062499999964,
          "level": "world",
          "year": "1871-01-01T00:00:00"
         },
         {
          "avg_temp": 8.616718749999999,
          "level": "berlin",
          "year": "1872-01-01T00:00:00"
         },
         {
          "avg_temp": 7.887656249999997,
          "level": "world",
          "year": "1872-01-01T00:00:00"
         },
         {
          "avg_temp": 8.626249999999999,
          "level": "berlin",
          "year": "1873-01-01T00:00:00"
         },
         {
          "avg_temp": 7.907499999999998,
          "level": "world",
          "year": "1873-01-01T00:00:00"
         },
         {
          "avg_temp": 8.635937499999999,
          "level": "berlin",
          "year": "1874-01-01T00:00:00"
         },
         {
          "avg_temp": 7.931093749999998,
          "level": "world",
          "year": "1874-01-01T00:00:00"
         },
         {
          "avg_temp": 8.60640625,
          "level": "berlin",
          "year": "1875-01-01T00:00:00"
         },
         {
          "avg_temp": 7.946718749999997,
          "level": "world",
          "year": "1875-01-01T00:00:00"
         },
         {
          "avg_temp": 8.626562499999999,
          "level": "berlin",
          "year": "1876-01-01T00:00:00"
         },
         {
          "avg_temp": 7.962812499999997,
          "level": "world",
          "year": "1876-01-01T00:00:00"
         },
         {
          "avg_temp": 8.63109375,
          "level": "berlin",
          "year": "1877-01-01T00:00:00"
         },
         {
          "avg_temp": 7.975312499999998,
          "level": "world",
          "year": "1877-01-01T00:00:00"
         },
         {
          "avg_temp": 8.66109375,
          "level": "berlin",
          "year": "1878-01-01T00:00:00"
         },
         {
          "avg_temp": 7.994687499999999,
          "level": "world",
          "year": "1878-01-01T00:00:00"
         },
         {
          "avg_temp": 8.64671875,
          "level": "berlin",
          "year": "1879-01-01T00:00:00"
         },
         {
          "avg_temp": 8.009218749999999,
          "level": "world",
          "year": "1879-01-01T00:00:00"
         },
         {
          "avg_temp": 8.6675,
          "level": "berlin",
          "year": "1880-01-01T00:00:00"
         },
         {
          "avg_temp": 8.027656249999998,
          "level": "world",
          "year": "1880-01-01T00:00:00"
         },
         {
          "avg_temp": 8.649218750000001,
          "level": "berlin",
          "year": "1881-01-01T00:00:00"
         },
         {
          "avg_temp": 8.047812499999997,
          "level": "world",
          "year": "1881-01-01T00:00:00"
         },
         {
          "avg_temp": 8.65359375,
          "level": "berlin",
          "year": "1882-01-01T00:00:00"
         },
         {
          "avg_temp": 8.052499999999997,
          "level": "world",
          "year": "1882-01-01T00:00:00"
         },
         {
          "avg_temp": 8.6396875,
          "level": "berlin",
          "year": "1883-01-01T00:00:00"
         },
         {
          "avg_temp": 8.062031249999997,
          "level": "world",
          "year": "1883-01-01T00:00:00"
         },
         {
          "avg_temp": 8.660625000000001,
          "level": "berlin",
          "year": "1884-01-01T00:00:00"
         },
         {
          "avg_temp": 8.064374999999997,
          "level": "world",
          "year": "1884-01-01T00:00:00"
         },
         {
          "avg_temp": 8.650000000000002,
          "level": "berlin",
          "year": "1885-01-01T00:00:00"
         },
         {
          "avg_temp": 8.061718749999995,
          "level": "world",
          "year": "1885-01-01T00:00:00"
         },
         {
          "avg_temp": 8.626562500000002,
          "level": "berlin",
          "year": "1886-01-01T00:00:00"
         },
         {
          "avg_temp": 8.057968749999995,
          "level": "world",
          "year": "1886-01-01T00:00:00"
         },
         {
          "avg_temp": 8.621406250000001,
          "level": "berlin",
          "year": "1887-01-01T00:00:00"
         },
         {
          "avg_temp": 8.060937499999994,
          "level": "world",
          "year": "1887-01-01T00:00:00"
         },
         {
          "avg_temp": 8.590156250000001,
          "level": "berlin",
          "year": "1888-01-01T00:00:00"
         },
         {
          "avg_temp": 8.053749999999996,
          "level": "world",
          "year": "1888-01-01T00:00:00"
         },
         {
          "avg_temp": 8.574843750000001,
          "level": "berlin",
          "year": "1889-01-01T00:00:00"
         },
         {
          "avg_temp": 8.052656249999997,
          "level": "world",
          "year": "1889-01-01T00:00:00"
         },
         {
          "avg_temp": 8.559218750000001,
          "level": "berlin",
          "year": "1890-01-01T00:00:00"
         },
         {
          "avg_temp": 8.046562499999997,
          "level": "world",
          "year": "1890-01-01T00:00:00"
         },
         {
          "avg_temp": 8.551250000000001,
          "level": "berlin",
          "year": "1891-01-01T00:00:00"
         },
         {
          "avg_temp": 8.034218749999997,
          "level": "world",
          "year": "1891-01-01T00:00:00"
         },
         {
          "avg_temp": 8.5409375,
          "level": "berlin",
          "year": "1892-01-01T00:00:00"
         },
         {
          "avg_temp": 8.032656249999999,
          "level": "world",
          "year": "1892-01-01T00:00:00"
         },
         {
          "avg_temp": 8.571875,
          "level": "berlin",
          "year": "1893-01-01T00:00:00"
         },
         {
          "avg_temp": 8.034531249999997,
          "level": "world",
          "year": "1893-01-01T00:00:00"
         },
         {
          "avg_temp": 8.585625,
          "level": "berlin",
          "year": "1894-01-01T00:00:00"
         },
         {
          "avg_temp": 8.028906249999997,
          "level": "world",
          "year": "1894-01-01T00:00:00"
         },
         {
          "avg_temp": 8.57546875,
          "level": "berlin",
          "year": "1895-01-01T00:00:00"
         },
         {
          "avg_temp": 8.036874999999997,
          "level": "world",
          "year": "1895-01-01T00:00:00"
         },
         {
          "avg_temp": 8.579062500000001,
          "level": "berlin",
          "year": "1896-01-01T00:00:00"
         },
         {
          "avg_temp": 8.048749999999997,
          "level": "world",
          "year": "1896-01-01T00:00:00"
         },
         {
          "avg_temp": 8.575937500000002,
          "level": "berlin",
          "year": "1897-01-01T00:00:00"
         },
         {
          "avg_temp": 8.053124999999996,
          "level": "world",
          "year": "1897-01-01T00:00:00"
         },
         {
          "avg_temp": 8.560625000000002,
          "level": "berlin",
          "year": "1898-01-01T00:00:00"
         },
         {
          "avg_temp": 8.053593749999996,
          "level": "world",
          "year": "1898-01-01T00:00:00"
         },
         {
          "avg_temp": 8.562968750000003,
          "level": "berlin",
          "year": "1899-01-01T00:00:00"
         },
         {
          "avg_temp": 8.069374999999996,
          "level": "world",
          "year": "1899-01-01T00:00:00"
         },
         {
          "avg_temp": 8.567343750000003,
          "level": "berlin",
          "year": "1900-01-01T00:00:00"
         },
         {
          "avg_temp": 8.081874999999995,
          "level": "world",
          "year": "1900-01-01T00:00:00"
         },
         {
          "avg_temp": 8.574531250000003,
          "level": "berlin",
          "year": "1901-01-01T00:00:00"
         },
         {
          "avg_temp": 8.099999999999994,
          "level": "world",
          "year": "1901-01-01T00:00:00"
         },
         {
          "avg_temp": 8.584687500000003,
          "level": "berlin",
          "year": "1902-01-01T00:00:00"
         },
         {
          "avg_temp": 8.112343749999994,
          "level": "world",
          "year": "1902-01-01T00:00:00"
         },
         {
          "avg_temp": 8.594843750000003,
          "level": "berlin",
          "year": "1903-01-01T00:00:00"
         },
         {
          "avg_temp": 8.121562499999994,
          "level": "world",
          "year": "1903-01-01T00:00:00"
         },
         {
          "avg_temp": 8.616875000000002,
          "level": "berlin",
          "year": "1904-01-01T00:00:00"
         },
         {
          "avg_temp": 8.126093749999995,
          "level": "world",
          "year": "1904-01-01T00:00:00"
         },
         {
          "avg_temp": 8.614375000000003,
          "level": "berlin",
          "year": "1905-01-01T00:00:00"
         },
         {
          "avg_temp": 8.134531249999995,
          "level": "world",
          "year": "1905-01-01T00:00:00"
         },
         {
          "avg_temp": 8.626875000000002,
          "level": "berlin",
          "year": "1906-01-01T00:00:00"
         },
         {
          "avg_temp": 8.140156249999995,
          "level": "world",
          "year": "1906-01-01T00:00:00"
         },
         {
          "avg_temp": 8.616562500000002,
          "level": "berlin",
          "year": "1907-01-01T00:00:00"
         },
         {
          "avg_temp": 8.136718749999996,
          "level": "world",
          "year": "1907-01-01T00:00:00"
         },
         {
          "avg_temp": 8.624375000000002,
          "level": "berlin",
          "year": "1908-01-01T00:00:00"
         },
         {
          "avg_temp": 8.145156249999998,
          "level": "world",
          "year": "1908-01-01T00:00:00"
         },
         {
          "avg_temp": 8.628125000000002,
          "level": "berlin",
          "year": "1909-01-01T00:00:00"
         },
         {
          "avg_temp": 8.150312499999997,
          "level": "world",
          "year": "1909-01-01T00:00:00"
         },
         {
          "avg_temp": 8.620156250000003,
          "level": "berlin",
          "year": "1910-01-01T00:00:00"
         },
         {
          "avg_temp": 8.145156249999998,
          "level": "world",
          "year": "1910-01-01T00:00:00"
         },
         {
          "avg_temp": 8.645937500000002,
          "level": "berlin",
          "year": "1911-01-01T00:00:00"
         },
         {
          "avg_temp": 8.146562499999996,
          "level": "world",
          "year": "1911-01-01T00:00:00"
         },
         {
          "avg_temp": 8.641875000000002,
          "level": "berlin",
          "year": "1912-01-01T00:00:00"
         },
         {
          "avg_temp": 8.149531249999995,
          "level": "world",
          "year": "1912-01-01T00:00:00"
         },
         {
          "avg_temp": 8.663437500000002,
          "level": "berlin",
          "year": "1913-01-01T00:00:00"
         },
         {
          "avg_temp": 8.154531249999994,
          "level": "world",
          "year": "1913-01-01T00:00:00"
         },
         {
          "avg_temp": 8.683750000000002,
          "level": "berlin",
          "year": "1914-01-01T00:00:00"
         },
         {
          "avg_temp": 8.165312499999995,
          "level": "world",
          "year": "1914-01-01T00:00:00"
         },
         {
          "avg_temp": 8.6846875,
          "level": "berlin",
          "year": "1915-01-01T00:00:00"
         },
         {
          "avg_temp": 8.171718749999997,
          "level": "world",
          "year": "1915-01-01T00:00:00"
         },
         {
          "avg_temp": 8.6809375,
          "level": "berlin",
          "year": "1916-01-01T00:00:00"
         },
         {
          "avg_temp": 8.173749999999997,
          "level": "world",
          "year": "1916-01-01T00:00:00"
         },
         {
          "avg_temp": 8.694062500000001,
          "level": "berlin",
          "year": "1917-01-01T00:00:00"
         },
         {
          "avg_temp": 8.173437499999997,
          "level": "world",
          "year": "1917-01-01T00:00:00"
         },
         {
          "avg_temp": 8.70546875,
          "level": "berlin",
          "year": "1918-01-01T00:00:00"
         },
         {
          "avg_temp": 8.172187499999996,
          "level": "world",
          "year": "1918-01-01T00:00:00"
         },
         {
          "avg_temp": 8.719999999999999,
          "level": "berlin",
          "year": "1919-01-01T00:00:00"
         },
         {
          "avg_temp": 8.176406249999996,
          "level": "world",
          "year": "1919-01-01T00:00:00"
         },
         {
          "avg_temp": 8.733593749999999,
          "level": "berlin",
          "year": "1920-01-01T00:00:00"
         },
         {
          "avg_temp": 8.182031249999996,
          "level": "world",
          "year": "1920-01-01T00:00:00"
         },
         {
          "avg_temp": 8.739687499999999,
          "level": "berlin",
          "year": "1921-01-01T00:00:00"
         },
         {
          "avg_temp": 8.194687499999997,
          "level": "world",
          "year": "1921-01-01T00:00:00"
         },
         {
          "avg_temp": 8.736406249999998,
          "level": "berlin",
          "year": "1922-01-01T00:00:00"
         },
         {
          "avg_temp": 8.199531249999996,
          "level": "world",
          "year": "1922-01-01T00:00:00"
         },
         {
          "avg_temp": 8.720468749999998,
          "level": "berlin",
          "year": "1923-01-01T00:00:00"
         },
         {
          "avg_temp": 8.202187499999996,
          "level": "world",
          "year": "1923-01-01T00:00:00"
         },
         {
          "avg_temp": 8.725156249999998,
          "level": "berlin",
          "year": "1924-01-01T00:00:00"
         },
         {
          "avg_temp": 8.210781249999995,
          "level": "world",
          "year": "1924-01-01T00:00:00"
         },
         {
          "avg_temp": 8.732187499999998,
          "level": "berlin",
          "year": "1925-01-01T00:00:00"
         },
         {
          "avg_temp": 8.221406249999994,
          "level": "world",
          "year": "1925-01-01T00:00:00"
         },
         {
          "avg_temp": 8.7425,
          "level": "berlin",
          "year": "1926-01-01T00:00:00"
         },
         {
          "avg_temp": 8.239687499999995,
          "level": "world",
          "year": "1926-01-01T00:00:00"
         },
         {
          "avg_temp": 8.725468750000001,
          "level": "berlin",
          "year": "1927-01-01T00:00:00"
         },
         {
          "avg_temp": 8.246093749999995,
          "level": "world",
          "year": "1927-01-01T00:00:00"
         },
         {
          "avg_temp": 8.755625,
          "level": "berlin",
          "year": "1928-01-01T00:00:00"
         },
         {
          "avg_temp": 8.256249999999994,
          "level": "world",
          "year": "1928-01-01T00:00:00"
         },
         {
          "avg_temp": 8.74171875,
          "level": "berlin",
          "year": "1929-01-01T00:00:00"
         },
         {
          "avg_temp": 8.257187499999995,
          "level": "world",
          "year": "1929-01-01T00:00:00"
         },
         {
          "avg_temp": 8.74234375,
          "level": "berlin",
          "year": "1930-01-01T00:00:00"
         },
         {
          "avg_temp": 8.262499999999996,
          "level": "world",
          "year": "1930-01-01T00:00:00"
         },
         {
          "avg_temp": 8.74140625,
          "level": "berlin",
          "year": "1931-01-01T00:00:00"
         },
         {
          "avg_temp": 8.266874999999995,
          "level": "world",
          "year": "1931-01-01T00:00:00"
         },
         {
          "avg_temp": 8.725625,
          "level": "berlin",
          "year": "1932-01-01T00:00:00"
         },
         {
          "avg_temp": 8.274062499999996,
          "level": "world",
          "year": "1932-01-01T00:00:00"
         },
         {
          "avg_temp": 8.714062500000002,
          "level": "berlin",
          "year": "1933-01-01T00:00:00"
         },
         {
          "avg_temp": 8.272656249999997,
          "level": "world",
          "year": "1933-01-01T00:00:00"
         },
         {
          "avg_temp": 8.762812500000003,
          "level": "berlin",
          "year": "1934-01-01T00:00:00"
         },
         {
          "avg_temp": 8.279374999999996,
          "level": "world",
          "year": "1934-01-01T00:00:00"
         },
         {
          "avg_temp": 8.798125000000002,
          "level": "berlin",
          "year": "1935-01-01T00:00:00"
         },
         {
          "avg_temp": 8.285624999999996,
          "level": "world",
          "year": "1935-01-01T00:00:00"
         },
         {
          "avg_temp": 8.787656250000001,
          "level": "berlin",
          "year": "1936-01-01T00:00:00"
         },
         {
          "avg_temp": 8.291249999999994,
          "level": "world",
          "year": "1936-01-01T00:00:00"
         },
         {
          "avg_temp": 8.789843750000001,
          "level": "berlin",
          "year": "1937-01-01T00:00:00"
         },
         {
          "avg_temp": 8.296718749999995,
          "level": "world",
          "year": "1937-01-01T00:00:00"
         },
         {
          "avg_temp": 8.800625,
          "level": "berlin",
          "year": "1938-01-01T00:00:00"
         },
         {
          "avg_temp": 8.303437499999996,
          "level": "world",
          "year": "1938-01-01T00:00:00"
         },
         {
          "avg_temp": 8.820625000000001,
          "level": "berlin",
          "year": "1939-01-01T00:00:00"
         },
         {
          "avg_temp": 8.317499999999995,
          "level": "world",
          "year": "1939-01-01T00:00:00"
         },
         {
          "avg_temp": 8.795625000000001,
          "level": "berlin",
          "year": "1940-01-01T00:00:00"
         },
         {
          "avg_temp": 8.328124999999995,
          "level": "world",
          "year": "1940-01-01T00:00:00"
         },
         {
          "avg_temp": 8.77484375,
          "level": "berlin",
          "year": "1941-01-01T00:00:00"
         },
         {
          "avg_temp": 8.331718749999995,
          "level": "world",
          "year": "1941-01-01T00:00:00"
         },
         {
          "avg_temp": 8.75015625,
          "level": "berlin",
          "year": "1942-01-01T00:00:00"
         },
         {
          "avg_temp": 8.330156249999995,
          "level": "world",
          "year": "1942-01-01T00:00:00"
         },
         {
          "avg_temp": 8.784687499999999,
          "level": "berlin",
          "year": "1943-01-01T00:00:00"
         },
         {
          "avg_temp": 8.339374999999995,
          "level": "world",
          "year": "1943-01-01T00:00:00"
         },
         {
          "avg_temp": 8.788281249999997,
          "level": "berlin",
          "year": "1944-01-01T00:00:00"
         },
         {
          "avg_temp": 8.350781249999995,
          "level": "world",
          "year": "1944-01-01T00:00:00"
         },
         {
          "avg_temp": 8.817812499999997,
          "level": "berlin",
          "year": "1945-01-01T00:00:00"
         },
         {
          "avg_temp": 8.355624999999996,
          "level": "world",
          "year": "1945-01-01T00:00:00"
         },
         {
          "avg_temp": 8.815312499999997,
          "level": "berlin",
          "year": "1946-01-01T00:00:00"
         },
         {
          "avg_temp": 8.364218749999996,
          "level": "world",
          "year": "1946-01-01T00:00:00"
         },
         {
          "avg_temp": 8.819218749999997,
          "level": "berlin",
          "year": "1947-01-01T00:00:00"
         },
         {
          "avg_temp": 8.377031249999995,
          "level": "world",
          "year": "1947-01-01T00:00:00"
         },
         {
          "avg_temp": 8.831093749999997,
          "level": "berlin",
          "year": "1948-01-01T00:00:00"
         },
         {
          "avg_temp": 8.392343749999995,
          "level": "world",
          "year": "1948-01-01T00:00:00"
         },
         {
          "avg_temp": 8.855624999999996,
          "level": "berlin",
          "year": "1949-01-01T00:00:00"
         },
         {
          "avg_temp": 8.402812499999996,
          "level": "world",
          "year": "1949-01-01T00:00:00"
         },
         {
          "avg_temp": 8.868437499999997,
          "level": "berlin",
          "year": "1950-01-01T00:00:00"
         },
         {
          "avg_temp": 8.409374999999995,
          "level": "world",
          "year": "1950-01-01T00:00:00"
         },
         {
          "avg_temp": 8.896406249999998,
          "level": "berlin",
          "year": "1951-01-01T00:00:00"
         },
         {
          "avg_temp": 8.420624999999996,
          "level": "world",
          "year": "1951-01-01T00:00:00"
         },
         {
          "avg_temp": 8.912031249999998,
          "level": "berlin",
          "year": "1952-01-01T00:00:00"
         },
         {
          "avg_temp": 8.429218749999995,
          "level": "world",
          "year": "1952-01-01T00:00:00"
         },
         {
          "avg_temp": 8.939999999999998,
          "level": "berlin",
          "year": "1953-01-01T00:00:00"
         },
         {
          "avg_temp": 8.437812499999994,
          "level": "world",
          "year": "1953-01-01T00:00:00"
         },
         {
          "avg_temp": 8.940937499999997,
          "level": "berlin",
          "year": "1954-01-01T00:00:00"
         },
         {
          "avg_temp": 8.447031249999993,
          "level": "world",
          "year": "1954-01-01T00:00:00"
         },
         {
          "avg_temp": 8.939062499999997,
          "level": "berlin",
          "year": "1955-01-01T00:00:00"
         },
         {
          "avg_temp": 8.456562499999993,
          "level": "world",
          "year": "1955-01-01T00:00:00"
         },
         {
          "avg_temp": 8.927968749999998,
          "level": "berlin",
          "year": "1956-01-01T00:00:00"
         },
         {
          "avg_temp": 8.459843749999992,
          "level": "world",
          "year": "1956-01-01T00:00:00"
         },
         {
          "avg_temp": 8.942968749999999,
          "level": "berlin",
          "year": "1957-01-01T00:00:00"
         },
         {
          "avg_temp": 8.470312499999993,
          "level": "world",
          "year": "1957-01-01T00:00:00"
         },
         {
          "avg_temp": 8.944374999999997,
          "level": "berlin",
          "year": "1958-01-01T00:00:00"
         },
         {
          "avg_temp": 8.479843749999993,
          "level": "world",
          "year": "1958-01-01T00:00:00"
         },
         {
          "avg_temp": 8.969374999999998,
          "level": "berlin",
          "year": "1959-01-01T00:00:00"
         },
         {
          "avg_temp": 8.488906249999994,
          "level": "world",
          "year": "1959-01-01T00:00:00"
         },
         {
          "avg_temp": 8.979531249999997,
          "level": "berlin",
          "year": "1960-01-01T00:00:00"
         },
         {
          "avg_temp": 8.494687499999994,
          "level": "world",
          "year": "1960-01-01T00:00:00"
         },
         {
          "avg_temp": 8.997031249999996,
          "level": "berlin",
          "year": "1961-01-01T00:00:00"
         },
         {
          "avg_temp": 8.502656249999994,
          "level": "world",
          "year": "1961-01-01T00:00:00"
         },
         {
          "avg_temp": 8.976874999999996,
          "level": "berlin",
          "year": "1962-01-01T00:00:00"
         },
         {
          "avg_temp": 8.511562499999995,
          "level": "world",
          "year": "1962-01-01T00:00:00"
         },
         {
          "avg_temp": 8.963749999999996,
          "level": "berlin",
          "year": "1963-01-01T00:00:00"
         },
         {
          "avg_temp": 8.518749999999995,
          "level": "world",
          "year": "1963-01-01T00:00:00"
         },
         {
          "avg_temp": 8.958749999999997,
          "level": "berlin",
          "year": "1964-01-01T00:00:00"
         },
         {
          "avg_temp": 8.517343749999995,
          "level": "world",
          "year": "1964-01-01T00:00:00"
         },
         {
          "avg_temp": 8.954843749999997,
          "level": "berlin",
          "year": "1965-01-01T00:00:00"
         },
         {
          "avg_temp": 8.517187499999995,
          "level": "world",
          "year": "1965-01-01T00:00:00"
         },
         {
          "avg_temp": 8.981562499999997,
          "level": "berlin",
          "year": "1966-01-01T00:00:00"
         },
         {
          "avg_temp": 8.521874999999996,
          "level": "world",
          "year": "1966-01-01T00:00:00"
         },
         {
          "avg_temp": 8.994062499999998,
          "level": "berlin",
          "year": "1967-01-01T00:00:00"
         },
         {
          "avg_temp": 8.529374999999996,
          "level": "world",
          "year": "1967-01-01T00:00:00"
         },
         {
          "avg_temp": 8.996093749999998,
          "level": "berlin",
          "year": "1968-01-01T00:00:00"
         },
         {
          "avg_temp": 8.536093749999996,
          "level": "world",
          "year": "1968-01-01T00:00:00"
         },
         {
          "avg_temp": 8.988749999999998,
          "level": "berlin",
          "year": "1969-01-01T00:00:00"
         },
         {
          "avg_temp": 8.541874999999996,
          "level": "world",
          "year": "1969-01-01T00:00:00"
         },
         {
          "avg_temp": 8.974999999999998,
          "level": "berlin",
          "year": "1970-01-01T00:00:00"
         },
         {
          "avg_temp": 8.546874999999996,
          "level": "world",
          "year": "1970-01-01T00:00:00"
         },
         {
          "avg_temp": 8.990937499999998,
          "level": "berlin",
          "year": "1971-01-01T00:00:00"
         },
         {
          "avg_temp": 8.557031249999996,
          "level": "world",
          "year": "1971-01-01T00:00:00"
         },
         {
          "avg_temp": 8.999218749999997,
          "level": "berlin",
          "year": "1972-01-01T00:00:00"
         },
         {
          "avg_temp": 8.561874999999995,
          "level": "world",
          "year": "1972-01-01T00:00:00"
         },
         {
          "avg_temp": 9.016093749999998,
          "level": "berlin",
          "year": "1973-01-01T00:00:00"
         },
         {
          "avg_temp": 8.573906249999997,
          "level": "world",
          "year": "1973-01-01T00:00:00"
         },
         {
          "avg_temp": 9.024843749999997,
          "level": "berlin",
          "year": "1974-01-01T00:00:00"
         },
         {
          "avg_temp": 8.577812499999997,
          "level": "world",
          "year": "1974-01-01T00:00:00"
         },
         {
          "avg_temp": 9.027812499999998,
          "level": "berlin",
          "year": "1975-01-01T00:00:00"
         },
         {
          "avg_temp": 8.586562499999998,
          "level": "world",
          "year": "1975-01-01T00:00:00"
         },
         {
          "avg_temp": 9.038124999999997,
          "level": "berlin",
          "year": "1976-01-01T00:00:00"
         },
         {
          "avg_temp": 8.589374999999999,
          "level": "world",
          "year": "1976-01-01T00:00:00"
         },
         {
          "avg_temp": 9.040156249999997,
          "level": "berlin",
          "year": "1977-01-01T00:00:00"
         },
         {
          "avg_temp": 8.59796875,
          "level": "world",
          "year": "1977-01-01T00:00:00"
         },
         {
          "avg_temp": 9.030156249999997,
          "level": "berlin",
          "year": "1978-01-01T00:00:00"
         },
         {
          "avg_temp": 8.59953125,
          "level": "world",
          "year": "1978-01-01T00:00:00"
         },
         {
          "avg_temp": 9.029687499999998,
          "level": "berlin",
          "year": "1979-01-01T00:00:00"
         },
         {
          "avg_temp": 8.60171875,
          "level": "world",
          "year": "1979-01-01T00:00:00"
         },
         {
          "avg_temp": 9.013437499999998,
          "level": "berlin",
          "year": "1980-01-01T00:00:00"
         },
         {
          "avg_temp": 8.6134375,
          "level": "world",
          "year": "1980-01-01T00:00:00"
         },
         {
          "avg_temp": 9.025781249999998,
          "level": "berlin",
          "year": "1981-01-01T00:00:00"
         },
         {
          "avg_temp": 8.63140625,
          "level": "world",
          "year": "1981-01-01T00:00:00"
         },
         {
          "avg_temp": 9.03609375,
          "level": "berlin",
          "year": "1982-01-01T00:00:00"
         },
         {
          "avg_temp": 8.639375,
          "level": "world",
          "year": "1982-01-01T00:00:00"
         },
         {
          "avg_temp": 9.070625,
          "level": "berlin",
          "year": "1983-01-01T00:00:00"
         },
         {
          "avg_temp": 8.649531249999999,
          "level": "world",
          "year": "1983-01-01T00:00:00"
         },
         {
          "avg_temp": 9.06390625,
          "level": "berlin",
          "year": "1984-01-01T00:00:00"
         },
         {
          "avg_temp": 8.6546875,
          "level": "world",
          "year": "1984-01-01T00:00:00"
         },
         {
          "avg_temp": 9.043281250000001,
          "level": "berlin",
          "year": "1985-01-01T00:00:00"
         },
         {
          "avg_temp": 8.656093749999998,
          "level": "world",
          "year": "1985-01-01T00:00:00"
         },
         {
          "avg_temp": 9.059218750000001,
          "level": "berlin",
          "year": "1986-01-01T00:00:00"
         },
         {
          "avg_temp": 8.66265625,
          "level": "world",
          "year": "1986-01-01T00:00:00"
         },
         {
          "avg_temp": 9.051562500000001,
          "level": "berlin",
          "year": "1987-01-01T00:00:00"
         },
         {
          "avg_temp": 8.6715625,
          "level": "world",
          "year": "1987-01-01T00:00:00"
         },
         {
          "avg_temp": 9.078437500000001,
          "level": "berlin",
          "year": "1988-01-01T00:00:00"
         },
         {
          "avg_temp": 8.682343750000001,
          "level": "world",
          "year": "1988-01-01T00:00:00"
         },
         {
          "avg_temp": 9.100312500000001,
          "level": "berlin",
          "year": "1989-01-01T00:00:00"
         },
         {
          "avg_temp": 8.688437500000001,
          "level": "world",
          "year": "1989-01-01T00:00:00"
         },
         {
          "avg_temp": 9.118125000000001,
          "level": "berlin",
          "year": "1990-01-01T00:00:00"
         },
         {
          "avg_temp": 8.696250000000001,
          "level": "world",
          "year": "1990-01-01T00:00:00"
         },
         {
          "avg_temp": 9.128125,
          "level": "berlin",
          "year": "1991-01-01T00:00:00"
         },
         {
          "avg_temp": 8.7065625,
          "level": "world",
          "year": "1991-01-01T00:00:00"
         },
         {
          "avg_temp": 9.150937500000001,
          "level": "berlin",
          "year": "1992-01-01T00:00:00"
         },
         {
          "avg_temp": 8.709843750000001,
          "level": "world",
          "year": "1992-01-01T00:00:00"
         },
         {
          "avg_temp": 9.172031250000002,
          "level": "berlin",
          "year": "1993-01-01T00:00:00"
         },
         {
          "avg_temp": 8.719687500000001,
          "level": "world",
          "year": "1993-01-01T00:00:00"
         },
         {
          "avg_temp": 9.186875,
          "level": "berlin",
          "year": "1994-01-01T00:00:00"
         },
         {
          "avg_temp": 8.72609375,
          "level": "world",
          "year": "1994-01-01T00:00:00"
         },
         {
          "avg_temp": 9.20875,
          "level": "berlin",
          "year": "1995-01-01T00:00:00"
         },
         {
          "avg_temp": 8.7359375,
          "level": "world",
          "year": "1995-01-01T00:00:00"
         },
         {
          "avg_temp": 9.18765625,
          "level": "berlin",
          "year": "1996-01-01T00:00:00"
         },
         {
          "avg_temp": 8.74109375,
          "level": "world",
          "year": "1996-01-01T00:00:00"
         },
         {
          "avg_temp": 9.2096875,
          "level": "berlin",
          "year": "1997-01-01T00:00:00"
         },
         {
          "avg_temp": 8.75453125,
          "level": "world",
          "year": "1997-01-01T00:00:00"
         },
         {
          "avg_temp": 9.199687499999998,
          "level": "berlin",
          "year": "1998-01-01T00:00:00"
         },
         {
          "avg_temp": 8.7684375,
          "level": "world",
          "year": "1998-01-01T00:00:00"
         },
         {
          "avg_temp": 9.219062499999998,
          "level": "berlin",
          "year": "1999-01-01T00:00:00"
         },
         {
          "avg_temp": 8.780468749999999,
          "level": "world",
          "year": "1999-01-01T00:00:00"
         },
         {
          "avg_temp": 9.245,
          "level": "berlin",
          "year": "2000-01-01T00:00:00"
         },
         {
          "avg_temp": 8.790625,
          "level": "world",
          "year": "2000-01-01T00:00:00"
         },
         {
          "avg_temp": 9.249375,
          "level": "berlin",
          "year": "2001-01-01T00:00:00"
         },
         {
          "avg_temp": 8.80171875,
          "level": "world",
          "year": "2001-01-01T00:00:00"
         },
         {
          "avg_temp": 9.25703125,
          "level": "berlin",
          "year": "2002-01-01T00:00:00"
         },
         {
          "avg_temp": 8.8128125,
          "level": "world",
          "year": "2002-01-01T00:00:00"
         },
         {
          "avg_temp": 9.26875,
          "level": "berlin",
          "year": "2003-01-01T00:00:00"
         },
         {
          "avg_temp": 8.82484375,
          "level": "world",
          "year": "2003-01-01T00:00:00"
         },
         {
          "avg_temp": 9.312187500000002,
          "level": "berlin",
          "year": "2004-01-01T00:00:00"
         },
         {
          "avg_temp": 8.83359375,
          "level": "world",
          "year": "2004-01-01T00:00:00"
         },
         {
          "avg_temp": 9.348125000000001,
          "level": "berlin",
          "year": "2005-01-01T00:00:00"
         },
         {
          "avg_temp": 8.848125000000001,
          "level": "world",
          "year": "2005-01-01T00:00:00"
         },
         {
          "avg_temp": 9.391093750000001,
          "level": "berlin",
          "year": "2006-01-01T00:00:00"
         },
         {
          "avg_temp": 8.860625,
          "level": "world",
          "year": "2006-01-01T00:00:00"
         },
         {
          "avg_temp": 9.410000000000002,
          "level": "berlin",
          "year": "2007-01-01T00:00:00"
         },
         {
          "avg_temp": 8.875781250000001,
          "level": "world",
          "year": "2007-01-01T00:00:00"
         },
         {
          "avg_temp": 9.431093750000002,
          "level": "berlin",
          "year": "2008-01-01T00:00:00"
         },
         {
          "avg_temp": 8.88484375,
          "level": "world",
          "year": "2008-01-01T00:00:00"
         },
         {
          "avg_temp": 9.437656250000002,
          "level": "berlin",
          "year": "2009-01-01T00:00:00"
         },
         {
          "avg_temp": 8.899375,
          "level": "world",
          "year": "2009-01-01T00:00:00"
         },
         {
          "avg_temp": 9.429687500000002,
          "level": "berlin",
          "year": "2010-01-01T00:00:00"
         },
         {
          "avg_temp": 8.9153125,
          "level": "world",
          "year": "2010-01-01T00:00:00"
         },
         {
          "avg_temp": 9.457343750000001,
          "level": "berlin",
          "year": "2011-01-01T00:00:00"
         },
         {
          "avg_temp": 8.926562500000001,
          "level": "world",
          "year": "2011-01-01T00:00:00"
         },
         {
          "avg_temp": 9.457343750000001,
          "level": "berlin",
          "year": "2012-01-01T00:00:00"
         },
         {
          "avg_temp": 8.938437500000001,
          "level": "world",
          "year": "2012-01-01T00:00:00"
         },
         {
          "avg_temp": 9.458593750000002,
          "level": "berlin",
          "year": "2013-01-01T00:00:00"
         },
         {
          "avg_temp": 8.954375,
          "level": "world",
          "year": "2013-01-01T00:00:00"
         }
        ],
        "data-8707f2b203f082fc63250791e2f3bcdc": [
         {
          "avg_temp": 9.83,
          "level": "berlin",
          "year": "1750-01-01T00:00:00"
         },
         {
          "avg_temp": 8.72,
          "level": "world",
          "year": "1750-01-01T00:00:00"
         },
         {
          "avg_temp": 9.749999999999998,
          "level": "berlin",
          "year": "1751-01-01T00:00:00"
         },
         {
          "avg_temp": 7.980000000000002,
          "level": "world",
          "year": "1751-01-01T00:00:00"
         },
         {
          "avg_temp": 4.839999999999998,
          "level": "berlin",
          "year": "1752-01-01T00:00:00"
         },
         {
          "avg_temp": 5.780000000000001,
          "level": "world",
          "year": "1752-01-01T00:00:00"
         },
         {
          "avg_temp": 8.719999999999999,
          "level": "berlin",
          "year": "1753-01-01T00:00:00"
         },
         {
          "avg_temp": 8.39,
          "level": "world",
          "year": "1753-01-01T00:00:00"
         },
         {
          "avg_temp": 8.49,
          "level": "berlin",
          "year": "1754-01-01T00:00:00"
         },
         {
          "avg_temp": 8.469999999999999,
          "level": "world",
          "year": "1754-01-01T00:00:00"
         },
         {
          "avg_temp": 8.26,
          "level": "berlin",
          "year": "1755-01-01T00:00:00"
         },
         {
          "avg_temp": 8.359999999999998,
          "level": "world",
          "year": "1755-01-01T00:00:00"
         },
         {
          "avg_temp": 9.62,
          "level": "berlin",
          "year": "1756-01-01T00:00:00"
         },
         {
          "avg_temp": 8.849999999999998,
          "level": "world",
          "year": "1756-01-01T00:00:00"
         },
         {
          "avg_temp": 9.15,
          "level": "berlin",
          "year": "1757-01-01T00:00:00"
         },
         {
          "avg_temp": 9.019999999999998,
          "level": "world",
          "year": "1757-01-01T00:00:00"
         },
         {
          "avg_temp": 8.249999999999998,
          "level": "berlin",
          "year": "1758-01-01T00:00:00"
         },
         {
          "avg_temp": 6.739999999999998,
          "level": "world",
          "year": "1758-01-01T00:00:00"
         },
         {
          "avg_temp": 9.04,
          "level": "berlin",
          "year": "1759-01-01T00:00:00"
         },
         {
          "avg_temp": 7.989999999999998,
          "level": "world",
          "year": "1759-01-01T00:00:00"
         },
         {
          "avg_temp": 8.990000000000002,
          "level": "berlin",
          "year": "1760-01-01T00:00:00"
         },
         {
          "avg_temp": 7.1899999999999995,
          "level": "world",
          "year": "1760-01-01T00:00:00"
         },
         {
          "avg_temp": 9.47,
          "level": "berlin",
          "year": "1761-01-01T00:00:00"
         },
         {
          "avg_temp": 8.77,
          "level": "world",
          "year": "1761-01-01T00:00:00"
         },
         {
          "avg_temp": 8.53,
          "level": "berlin",
          "year": "1762-01-01T00:00:00"
         },
         {
          "avg_temp": 8.61,
          "level": "world",
          "year": "1762-01-01T00:00:00"
         },
         {
          "avg_temp": 8.62,
          "level": "berlin",
          "year": "1763-01-01T00:00:00"
         },
         {
          "avg_temp": 7.5,
          "level": "world",
          "year": "1763-01-01T00:00:00"
         },
         {
          "avg_temp": 8.910000000000002,
          "level": "berlin",
          "year": "1764-01-01T00:00:00"
         },
         {
          "avg_temp": 8.4,
          "level": "world",
          "year": "1764-01-01T00:00:00"
         },
         {
          "avg_temp": 8.540000000000003,
          "level": "berlin",
          "year": "1765-01-01T00:00:00"
         },
         {
          "avg_temp": 8.249999999999998,
          "level": "world",
          "year": "1765-01-01T00:00:00"
         },
         {
          "avg_temp": 8.870000000000005,
          "level": "berlin",
          "year": "1766-01-01T00:00:00"
         },
         {
          "avg_temp": 8.409999999999997,
          "level": "world",
          "year": "1766-01-01T00:00:00"
         },
         {
          "avg_temp": 8.140000000000006,
          "level": "berlin",
          "year": "1767-01-01T00:00:00"
         },
         {
          "avg_temp": 8.219999999999995,
          "level": "world",
          "year": "1767-01-01T00:00:00"
         },
         {
          "avg_temp": 8.030000000000005,
          "level": "berlin",
          "year": "1768-01-01T00:00:00"
         },
         {
          "avg_temp": 6.779999999999996,
          "level": "world",
          "year": "1768-01-01T00:00:00"
         },
         {
          "avg_temp": 8.460000000000006,
          "level": "berlin",
          "year": "1769-01-01T00:00:00"
         },
         {
          "avg_temp": 7.689999999999995,
          "level": "world",
          "year": "1769-01-01T00:00:00"
         },
         {
          "avg_temp": 8.500000000000007,
          "level": "berlin",
          "year": "1770-01-01T00:00:00"
         },
         {
          "avg_temp": 7.689999999999995,
          "level": "world",
          "year": "1770-01-01T00:00:00"
         },
         {
          "avg_temp": 7.450000000000006,
          "level": "berlin",
          "year": "1771-01-01T00:00:00"
         },
         {
          "avg_temp": 7.849999999999995,
          "level": "world",
          "year": "1771-01-01T00:00:00"
         },
         {
          "avg_temp": 9.130000000000006,
          "level": "berlin",
          "year": "1772-01-01T00:00:00"
         },
         {
          "avg_temp": 8.189999999999996,
          "level": "world",
          "year": "1772-01-01T00:00:00"
         },
         {
          "avg_temp": 9.520000000000005,
          "level": "berlin",
          "year": "1773-01-01T00:00:00"
         },
         {
          "avg_temp": 8.219999999999997,
          "level": "world",
          "year": "1773-01-01T00:00:00"
         },
         {
          "avg_temp": 8.460000000000004,
          "level": "berlin",
          "year": "1774-01-01T00:00:00"
         },
         {
          "avg_temp": 8.769999999999994,
          "level": "world",
          "year": "1774-01-01T00:00:00"
         },
         {
          "avg_temp": 10.100000000000001,
          "level": "berlin",
          "year": "1775-01-01T00:00:00"
         },
         {
          "avg_temp": 9.179999999999996,
          "level": "world",
          "year": "1775-01-01T00:00:00"
         },
         {
          "avg_temp": 8.360000000000001,
          "level": "berlin",
          "year": "1776-01-01T00:00:00"
         },
         {
          "avg_temp": 8.299999999999997,
          "level": "world",
          "year": "1776-01-01T00:00:00"
         },
         {
          "avg_temp": 8.29,
          "level": "berlin",
          "year": "1777-01-01T00:00:00"
         },
         {
          "avg_temp": 8.259999999999994,
          "level": "world",
          "year": "1777-01-01T00:00:00"
         },
         {
          "avg_temp": 9.43,
          "level": "berlin",
          "year": "1778-01-01T00:00:00"
         },
         {
          "avg_temp": 8.539999999999994,
          "level": "world",
          "year": "1778-01-01T00:00:00"
         },
         {
          "avg_temp": 10.469999999999999,
          "level": "berlin",
          "year": "1779-01-01T00:00:00"
         },
         {
          "avg_temp": 8.979999999999997,
          "level": "world",
          "year": "1779-01-01T00:00:00"
         },
         {
          "avg_temp": 8.78,
          "level": "berlin",
          "year": "1780-01-01T00:00:00"
         },
         {
          "avg_temp": 9.429999999999996,
          "level": "world",
          "year": "1780-01-01T00:00:00"
         },
         {
          "avg_temp": 9.979999999999999,
          "level": "berlin",
          "year": "1781-01-01T00:00:00"
         },
         {
          "avg_temp": 8.099999999999994,
          "level": "world",
          "year": "1781-01-01T00:00:00"
         },
         {
          "avg_temp": 8.609999999999996,
          "level": "berlin",
          "year": "1782-01-01T00:00:00"
         },
         {
          "avg_temp": 7.899999999999995,
          "level": "world",
          "year": "1782-01-01T00:00:00"
         },
         {
          "avg_temp": 9.759999999999998,
          "level": "berlin",
          "year": "1783-01-01T00:00:00"
         },
         {
          "avg_temp": 7.679999999999994,
          "level": "world",
          "year": "1783-01-01T00:00:00"
         },
         {
          "avg_temp": 7.67,
          "level": "berlin",
          "year": "1784-01-01T00:00:00"
         },
         {
          "avg_temp": 7.859999999999996,
          "level": "world",
          "year": "1784-01-01T00:00:00"
         },
         {
          "avg_temp": 7.42,
          "level": "berlin",
          "year": "1785-01-01T00:00:00"
         },
         {
          "avg_temp": 7.359999999999995,
          "level": "world",
          "year": "1785-01-01T00:00:00"
         },
         {
          "avg_temp": 7.68,
          "level": "berlin",
          "year": "1786-01-01T00:00:00"
         },
         {
          "avg_temp": 8.259999999999994,
          "level": "world",
          "year": "1786-01-01T00:00:00"
         },
         {
          "avg_temp": 9.27,
          "level": "berlin",
          "year": "1787-01-01T00:00:00"
         },
         {
          "avg_temp": 8.029999999999992,
          "level": "world",
          "year": "1787-01-01T00:00:00"
         },
         {
          "avg_temp": 8.330000000000002,
          "level": "berlin",
          "year": "1788-01-01T00:00:00"
         },
         {
          "avg_temp": 8.44999999999999,
          "level": "world",
          "year": "1788-01-01T00:00:00"
         },
         {
          "avg_temp": 8.99,
          "level": "berlin",
          "year": "1789-01-01T00:00:00"
         },
         {
          "avg_temp": 8.329999999999991,
          "level": "world",
          "year": "1789-01-01T00:00:00"
         },
         {
          "avg_temp": 9.089999999999998,
          "level": "berlin",
          "year": "1790-01-01T00:00:00"
         },
         {
          "avg_temp": 7.9799999999999915,
          "level": "world",
          "year": "1790-01-01T00:00:00"
         },
         {
          "avg_temp": 9.55,
          "level": "berlin",
          "year": "1791-01-01T00:00:00"
         },
         {
          "avg_temp": 8.229999999999993,
          "level": "world",
          "year": "1791-01-01T00:00:00"
         },
         {
          "avg_temp": 8.900000000000002,
          "level": "berlin",
          "year": "1792-01-01T00:00:00"
         },
         {
          "avg_temp": 8.089999999999993,
          "level": "world",
          "year": "1792-01-01T00:00:00"
         },
         {
          "avg_temp": 9.180000000000001,
          "level": "berlin",
          "year": "1793-01-01T00:00:00"
         },
         {
          "avg_temp": 8.229999999999993,
          "level": "world",
          "year": "1793-01-01T00:00:00"
         },
         {
          "avg_temp": 10.020000000000003,
          "level": "berlin",
          "year": "1794-01-01T00:00:00"
         },
         {
          "avg_temp": 8.52999999999999,
          "level": "world",
          "year": "1794-01-01T00:00:00"
         },
         {
          "avg_temp": 8.870000000000001,
          "level": "berlin",
          "year": "1795-01-01T00:00:00"
         },
         {
          "avg_temp": 8.349999999999989,
          "level": "world",
          "year": "1795-01-01T00:00:00"
         },
         {
          "avg_temp": 9.010000000000003,
          "level": "berlin",
          "year": "1796-01-01T00:00:00"
         },
         {
          "avg_temp": 8.26999999999999,
          "level": "world",
          "year": "1796-01-01T00:00:00"
         },
         {
          "avg_temp": 10.070000000000006,
          "level": "berlin",
          "year": "1797-01-01T00:00:00"
         },
         {
          "avg_temp": 8.509999999999991,
          "level": "world",
          "year": "1797-01-01T00:00:00"
         },
         {
          "avg_temp": 9.330000000000005,
          "level": "berlin",
          "year": "1798-01-01T00:00:00"
         },
         {
          "avg_temp": 8.669999999999993,
          "level": "world",
          "year": "1798-01-01T00:00:00"
         },
         {
          "avg_temp": 6.720000000000004,
          "level": "berlin",
          "year": "1799-01-01T00:00:00"
         },
         {
          "avg_temp": 8.509999999999993,
          "level": "world",
          "year": "1799-01-01T00:00:00"
         },
         {
          "avg_temp": 8.600000000000005,
          "level": "berlin",
          "year": "1800-01-01T00:00:00"
         },
         {
          "avg_temp": 8.479999999999995,
          "level": "world",
          "year": "1800-01-01T00:00:00"
         },
         {
          "avg_temp": 9.610000000000005,
          "level": "berlin",
          "year": "1801-01-01T00:00:00"
         },
         {
          "avg_temp": 8.589999999999993,
          "level": "world",
          "year": "1801-01-01T00:00:00"
         },
         {
          "avg_temp": 9.080000000000005,
          "level": "berlin",
          "year": "1802-01-01T00:00:00"
         },
         {
          "avg_temp": 8.579999999999995,
          "level": "world",
          "year": "1802-01-01T00:00:00"
         },
         {
          "avg_temp": 8.020000000000005,
          "level": "berlin",
          "year": "1803-01-01T00:00:00"
         },
         {
          "avg_temp": 8.499999999999995,
          "level": "world",
          "year": "1803-01-01T00:00:00"
         },
         {
          "avg_temp": 8.360000000000003,
          "level": "berlin",
          "year": "1804-01-01T00:00:00"
         },
         {
          "avg_temp": 8.839999999999996,
          "level": "world",
          "year": "1804-01-01T00:00:00"
         },
         {
          "avg_temp": 7.200000000000003,
          "level": "berlin",
          "year": "1805-01-01T00:00:00"
         },
         {
          "avg_temp": 8.559999999999999,
          "level": "world",
          "year": "1805-01-01T00:00:00"
         },
         {
          "avg_temp": 9.670000000000005,
          "level": "berlin",
          "year": "1806-01-01T00:00:00"
         },
         {
          "avg_temp": 8.429999999999998,
          "level": "world",
          "year": "1806-01-01T00:00:00"
         },
         {
          "avg_temp": 9.420000000000003,
          "level": "berlin",
          "year": "1807-01-01T00:00:00"
         },
         {
          "avg_temp": 8.279999999999998,
          "level": "world",
          "year": "1807-01-01T00:00:00"
         },
         {
          "avg_temp": 8.150000000000004,
          "level": "berlin",
          "year": "1808-01-01T00:00:00"
         },
         {
          "avg_temp": 7.629999999999997,
          "level": "world",
          "year": "1808-01-01T00:00:00"
         },
         {
          "avg_temp": 8.660000000000002,
          "level": "berlin",
          "year": "1809-01-01T00:00:00"
         },
         {
          "avg_temp": 7.079999999999997,
          "level": "world",
          "year": "1809-01-01T00:00:00"
         },
         {
          "avg_temp": 8.460000000000004,
          "level": "berlin",
          "year": "1810-01-01T00:00:00"
         },
         {
          "avg_temp": 6.919999999999996,
          "level": "world",
          "year": "1810-01-01T00:00:00"
         },
         {
          "avg_temp": 9.930000000000003,
          "level": "berlin",
          "year": "1811-01-01T00:00:00"
         },
         {
          "avg_temp": 6.859999999999998,
          "level": "world",
          "year": "1811-01-01T00:00:00"
         },
         {
          "avg_temp": 7.350000000000001,
          "level": "berlin",
          "year": "1812-01-01T00:00:00"
         },
         {
          "avg_temp": 7.049999999999996,
          "level": "world",
          "year": "1812-01-01T00:00:00"
         },
         {
          "avg_temp": 8.660000000000002,
          "level": "berlin",
          "year": "1813-01-01T00:00:00"
         },
         {
          "avg_temp": 7.739999999999996,
          "level": "world",
          "year": "1813-01-01T00:00:00"
         },
         {
          "avg_temp": 7.460000000000001,
          "level": "berlin",
          "year": "1814-01-01T00:00:00"
         },
         {
          "avg_temp": 7.5899999999999945,
          "level": "world",
          "year": "1814-01-01T00:00:00"
         },
         {
          "avg_temp": 8.380000000000003,
          "level": "berlin",
          "year": "1815-01-01T00:00:00"
         },
         {
          "avg_temp": 7.239999999999995,
          "level": "world",
          "year": "1815-01-01T00:00:00"
         },
         {
          "avg_temp": 7.750000000000002,
          "level": "berlin",
          "year": "1816-01-01T00:00:00"
         },
         {
          "avg_temp": 6.939999999999996,
          "level": "world",
          "year": "1816-01-01T00:00:00"
         },
         {
          "avg_temp": 8.920000000000002,
          "level": "berlin",
          "year": "1817-01-01T00:00:00"
         },
         {
          "avg_temp": 6.979999999999996,
          "level": "world",
          "year": "1817-01-01T00:00:00"
         },
         {
          "avg_temp": 9.000000000000002,
          "level": "berlin",
          "year": "1818-01-01T00:00:00"
         },
         {
          "avg_temp": 7.829999999999995,
          "level": "world",
          "year": "1818-01-01T00:00:00"
         },
         {
          "avg_temp": 9.43,
          "level": "berlin",
          "year": "1819-01-01T00:00:00"
         },
         {
          "avg_temp": 7.369999999999996,
          "level": "world",
          "year": "1819-01-01T00:00:00"
         },
         {
          "avg_temp": 7.859999999999999,
          "level": "berlin",
          "year": "1820-01-01T00:00:00"
         },
         {
          "avg_temp": 7.619999999999995,
          "level": "world",
          "year": "1820-01-01T00:00:00"
         },
         {
          "avg_temp": 9.149999999999999,
          "level": "berlin",
          "year": "1821-01-01T00:00:00"
         },
         {
          "avg_temp": 8.089999999999993,
          "level": "world",
          "year": "1821-01-01T00:00:00"
         },
         {
          "avg_temp": 10.049999999999999,
          "level": "berlin",
          "year": "1822-01-01T00:00:00"
         },
         {
          "avg_temp": 8.189999999999994,
          "level": "world",
          "year": "1822-01-01T00:00:00"
         },
         {
          "avg_temp": 8.259999999999998,
          "level": "berlin",
          "year": "1823-01-01T00:00:00"
         },
         {
          "avg_temp": 7.7199999999999935,
          "level": "world",
          "year": "1823-01-01T00:00:00"
         },
         {
          "avg_temp": 9.609999999999998,
          "level": "berlin",
          "year": "1824-01-01T00:00:00"
         },
         {
          "avg_temp": 8.549999999999997,
          "level": "world",
          "year": "1824-01-01T00:00:00"
         },
         {
          "avg_temp": 9.32,
          "level": "berlin",
          "year": "1825-01-01T00:00:00"
         },
         {
          "avg_temp": 8.389999999999997,
          "level": "world",
          "year": "1825-01-01T00:00:00"
         },
         {
          "avg_temp": 9.350000000000001,
          "level": "berlin",
          "year": "1826-01-01T00:00:00"
         },
         {
          "avg_temp": 8.359999999999996,
          "level": "world",
          "year": "1826-01-01T00:00:00"
         },
         {
          "avg_temp": 8.990000000000004,
          "level": "berlin",
          "year": "1827-01-01T00:00:00"
         },
         {
          "avg_temp": 8.809999999999995,
          "level": "world",
          "year": "1827-01-01T00:00:00"
         },
         {
          "avg_temp": 8.940000000000003,
          "level": "berlin",
          "year": "1828-01-01T00:00:00"
         },
         {
          "avg_temp": 8.169999999999996,
          "level": "world",
          "year": "1828-01-01T00:00:00"
         },
         {
          "avg_temp": 6.520000000000003,
          "level": "berlin",
          "year": "1829-01-01T00:00:00"
         },
         {
          "avg_temp": 7.939999999999996,
          "level": "world",
          "year": "1829-01-01T00:00:00"
         },
         {
          "avg_temp": 8.080000000000004,
          "level": "berlin",
          "year": "1830-01-01T00:00:00"
         },
         {
          "avg_temp": 8.519999999999992,
          "level": "world",
          "year": "1830-01-01T00:00:00"
         },
         {
          "avg_temp": 8.930000000000005,
          "level": "berlin",
          "year": "1831-01-01T00:00:00"
         },
         {
          "avg_temp": 7.6399999999999935,
          "level": "world",
          "year": "1831-01-01T00:00:00"
         },
         {
          "avg_temp": 8.340000000000003,
          "level": "berlin",
          "year": "1832-01-01T00:00:00"
         },
         {
          "avg_temp": 7.449999999999993,
          "level": "world",
          "year": "1832-01-01T00:00:00"
         },
         {
          "avg_temp": 8.890000000000004,
          "level": "berlin",
          "year": "1833-01-01T00:00:00"
         },
         {
          "avg_temp": 8.009999999999994,
          "level": "world",
          "year": "1833-01-01T00:00:00"
         },
         {
          "avg_temp": 10.400000000000006,
          "level": "berlin",
          "year": "1834-01-01T00:00:00"
         },
         {
          "avg_temp": 8.149999999999997,
          "level": "world",
          "year": "1834-01-01T00:00:00"
         },
         {
          "avg_temp": 8.810000000000008,
          "level": "berlin",
          "year": "1835-01-01T00:00:00"
         },
         {
          "avg_temp": 7.389999999999995,
          "level": "world",
          "year": "1835-01-01T00:00:00"
         },
         {
          "avg_temp": 8.880000000000008,
          "level": "berlin",
          "year": "1836-01-01T00:00:00"
         },
         {
          "avg_temp": 7.699999999999997,
          "level": "world",
          "year": "1836-01-01T00:00:00"
         },
         {
          "avg_temp": 8.120000000000006,
          "level": "berlin",
          "year": "1837-01-01T00:00:00"
         },
         {
          "avg_temp": 7.379999999999996,
          "level": "world",
          "year": "1837-01-01T00:00:00"
         },
         {
          "avg_temp": 6.9800000000000075,
          "level": "berlin",
          "year": "1838-01-01T00:00:00"
         },
         {
          "avg_temp": 7.509999999999997,
          "level": "world",
          "year": "1838-01-01T00:00:00"
         },
         {
          "avg_temp": 8.630000000000008,
          "level": "berlin",
          "year": "1839-01-01T00:00:00"
         },
         {
          "avg_temp": 7.629999999999997,
          "level": "world",
          "year": "1839-01-01T00:00:00"
         },
         {
          "avg_temp": 7.740000000000007,
          "level": "berlin",
          "year": "1840-01-01T00:00:00"
         },
         {
          "avg_temp": 7.799999999999996,
          "level": "world",
          "year": "1840-01-01T00:00:00"
         },
         {
          "avg_temp": 9.060000000000008,
          "level": "berlin",
          "year": "1841-01-01T00:00:00"
         },
         {
          "avg_temp": 7.689999999999997,
          "level": "world",
          "year": "1841-01-01T00:00:00"
         },
         {
          "avg_temp": 8.510000000000007,
          "level": "berlin",
          "year": "1842-01-01T00:00:00"
         },
         {
          "avg_temp": 8.019999999999996,
          "level": "world",
          "year": "1842-01-01T00:00:00"
         },
         {
          "avg_temp": 9.180000000000005,
          "level": "berlin",
          "year": "1843-01-01T00:00:00"
         },
         {
          "avg_temp": 8.169999999999998,
          "level": "world",
          "year": "1843-01-01T00:00:00"
         },
         {
          "avg_temp": 7.850000000000005,
          "level": "berlin",
          "year": "1844-01-01T00:00:00"
         },
         {
          "avg_temp": 7.649999999999999,
          "level": "world",
          "year": "1844-01-01T00:00:00"
         },
         {
          "avg_temp": 7.920000000000005,
          "level": "berlin",
          "year": "1845-01-01T00:00:00"
         },
         {
          "avg_temp": 7.849999999999998,
          "level": "world",
          "year": "1845-01-01T00:00:00"
         },
         {
          "avg_temp": 9.840000000000005,
          "level": "berlin",
          "year": "1846-01-01T00:00:00"
         },
         {
          "avg_temp": 8.549999999999999,
          "level": "world",
          "year": "1846-01-01T00:00:00"
         },
         {
          "avg_temp": 8.240000000000006,
          "level": "berlin",
          "year": "1847-01-01T00:00:00"
         },
         {
          "avg_temp": 8.09,
          "level": "world",
          "year": "1847-01-01T00:00:00"
         },
         {
          "avg_temp": 8.750000000000005,
          "level": "berlin",
          "year": "1848-01-01T00:00:00"
         },
         {
          "avg_temp": 7.98,
          "level": "world",
          "year": "1848-01-01T00:00:00"
         },
         {
          "avg_temp": 8.030000000000005,
          "level": "berlin",
          "year": "1849-01-01T00:00:00"
         },
         {
          "avg_temp": 7.98,
          "level": "world",
          "year": "1849-01-01T00:00:00"
         },
         {
          "avg_temp": 8.200000000000005,
          "level": "berlin",
          "year": "1850-01-01T00:00:00"
         },
         {
          "avg_temp": 7.9,
          "level": "world",
          "year": "1850-01-01T00:00:00"
         },
         {
          "avg_temp": 8.500000000000004,
          "level": "berlin",
          "year": "1851-01-01T00:00:00"
         },
         {
          "avg_temp": 8.179999999999998,
          "level": "world",
          "year": "1851-01-01T00:00:00"
         },
         {
          "avg_temp": 9.540000000000003,
          "level": "berlin",
          "year": "1852-01-01T00:00:00"
         },
         {
          "avg_temp": 8.099999999999998,
          "level": "world",
          "year": "1852-01-01T00:00:00"
         },
         {
          "avg_temp": 7.550000000000004,
          "level": "berlin",
          "year": "1853-01-01T00:00:00"
         },
         {
          "avg_temp": 8.039999999999997,
          "level": "world",
          "year": "1853-01-01T00:00:00"
         },
         {
          "avg_temp": 8.690000000000001,
          "level": "berlin",
          "year": "1854-01-01T00:00:00"
         },
         {
          "avg_temp": 8.21,
          "level": "world",
          "year": "1854-01-01T00:00:00"
         },
         {
          "avg_temp": 7.070000000000002,
          "level": "berlin",
          "year": "1855-01-01T00:00:00"
         },
         {
          "avg_temp": 8.11,
          "level": "world",
          "year": "1855-01-01T00:00:00"
         },
         {
          "avg_temp": 8.500000000000002,
          "level": "berlin",
          "year": "1856-01-01T00:00:00"
         },
         {
          "avg_temp": 8,
          "level": "world",
          "year": "1856-01-01T00:00:00"
         },
         {
          "avg_temp": 9.39,
          "level": "berlin",
          "year": "1857-01-01T00:00:00"
         },
         {
          "avg_temp": 7.76,
          "level": "world",
          "year": "1857-01-01T00:00:00"
         },
         {
          "avg_temp": 7.969999999999999,
          "level": "berlin",
          "year": "1858-01-01T00:00:00"
         },
         {
          "avg_temp": 8.1,
          "level": "world",
          "year": "1858-01-01T00:00:00"
         },
         {
          "avg_temp": 9.600000000000001,
          "level": "berlin",
          "year": "1859-01-01T00:00:00"
         },
         {
          "avg_temp": 8.250000000000002,
          "level": "world",
          "year": "1859-01-01T00:00:00"
         },
         {
          "avg_temp": 8.000000000000002,
          "level": "berlin",
          "year": "1860-01-01T00:00:00"
         },
         {
          "avg_temp": 7.960000000000001,
          "level": "world",
          "year": "1860-01-01T00:00:00"
         },
         {
          "avg_temp": 8.870000000000001,
          "level": "berlin",
          "year": "1861-01-01T00:00:00"
         },
         {
          "avg_temp": 7.8500000000000005,
          "level": "world",
          "year": "1861-01-01T00:00:00"
         },
         {
          "avg_temp": 8.910000000000002,
          "level": "berlin",
          "year": "1862-01-01T00:00:00"
         },
         {
          "avg_temp": 7.5600000000000005,
          "level": "world",
          "year": "1862-01-01T00:00:00"
         },
         {
          "avg_temp": 9.810000000000002,
          "level": "berlin",
          "year": "1863-01-01T00:00:00"
         },
         {
          "avg_temp": 8.11,
          "level": "world",
          "year": "1863-01-01T00:00:00"
         },
         {
          "avg_temp": 6.990000000000004,
          "level": "berlin",
          "year": "1864-01-01T00:00:00"
         },
         {
          "avg_temp": 7.98,
          "level": "world",
          "year": "1864-01-01T00:00:00"
         },
         {
          "avg_temp": 8.880000000000004,
          "level": "berlin",
          "year": "1865-01-01T00:00:00"
         },
         {
          "avg_temp": 8.18,
          "level": "world",
          "year": "1865-01-01T00:00:00"
         },
         {
          "avg_temp": 9.440000000000003,
          "level": "berlin",
          "year": "1866-01-01T00:00:00"
         },
         {
          "avg_temp": 8.29,
          "level": "world",
          "year": "1866-01-01T00:00:00"
         },
         {
          "avg_temp": 8.410000000000002,
          "level": "berlin",
          "year": "1867-01-01T00:00:00"
         },
         {
          "avg_temp": 8.439999999999998,
          "level": "world",
          "year": "1867-01-01T00:00:00"
         },
         {
          "avg_temp": 10.240000000000002,
          "level": "berlin",
          "year": "1868-01-01T00:00:00"
         },
         {
          "avg_temp": 8.249999999999998,
          "level": "world",
          "year": "1868-01-01T00:00:00"
         },
         {
          "avg_temp": 9.060000000000004,
          "level": "berlin",
          "year": "1869-01-01T00:00:00"
         },
         {
          "avg_temp": 8.43,
          "level": "world",
          "year": "1869-01-01T00:00:00"
         },
         {
          "avg_temp": 7.570000000000002,
          "level": "berlin",
          "year": "1870-01-01T00:00:00"
         },
         {
          "avg_temp": 8.2,
          "level": "world",
          "year": "1870-01-01T00:00:00"
         },
         {
          "avg_temp": 7.080000000000002,
          "level": "berlin",
          "year": "1871-01-01T00:00:00"
         },
         {
          "avg_temp": 8.120000000000001,
          "level": "world",
          "year": "1871-01-01T00:00:00"
         },
         {
          "avg_temp": 9.970000000000004,
          "level": "berlin",
          "year": "1872-01-01T00:00:00"
         },
         {
          "avg_temp": 8.190000000000003,
          "level": "world",
          "year": "1872-01-01T00:00:00"
         },
         {
          "avg_temp": 9.270000000000001,
          "level": "berlin",
          "year": "1873-01-01T00:00:00"
         },
         {
          "avg_temp": 8.350000000000003,
          "level": "world",
          "year": "1873-01-01T00:00:00"
         },
         {
          "avg_temp": 9.080000000000002,
          "level": "berlin",
          "year": "1874-01-01T00:00:00"
         },
         {
          "avg_temp": 8.430000000000001,
          "level": "world",
          "year": "1874-01-01T00:00:00"
         },
         {
          "avg_temp": 8.040000000000001,
          "level": "berlin",
          "year": "1875-01-01T00:00:00"
         },
         {
          "avg_temp": 7.860000000000003,
          "level": "world",
          "year": "1875-01-01T00:00:00"
         },
         {
          "avg_temp": 8.64,
          "level": "berlin",
          "year": "1876-01-01T00:00:00"
         },
         {
          "avg_temp": 8.080000000000002,
          "level": "world",
          "year": "1876-01-01T00:00:00"
         },
         {
          "avg_temp": 8.95,
          "level": "berlin",
          "year": "1877-01-01T00:00:00"
         },
         {
          "avg_temp": 8.540000000000001,
          "level": "world",
          "year": "1877-01-01T00:00:00"
         },
         {
          "avg_temp": 9.379999999999999,
          "level": "berlin",
          "year": "1878-01-01T00:00:00"
         },
         {
          "avg_temp": 8.830000000000002,
          "level": "world",
          "year": "1878-01-01T00:00:00"
         },
         {
          "avg_temp": 7.459999999999999,
          "level": "berlin",
          "year": "1879-01-01T00:00:00"
         },
         {
          "avg_temp": 8.17,
          "level": "world",
          "year": "1879-01-01T00:00:00"
         },
         {
          "avg_temp": 9.079999999999998,
          "level": "berlin",
          "year": "1880-01-01T00:00:00"
         },
         {
          "avg_temp": 8.12,
          "level": "world",
          "year": "1880-01-01T00:00:00"
         },
         {
          "avg_temp": 7.749999999999998,
          "level": "berlin",
          "year": "1881-01-01T00:00:00"
         },
         {
          "avg_temp": 8.270000000000001,
          "level": "world",
          "year": "1881-01-01T00:00:00"
         },
         {
          "avg_temp": 9.279999999999998,
          "level": "berlin",
          "year": "1882-01-01T00:00:00"
         },
         {
          "avg_temp": 8.130000000000003,
          "level": "world",
          "year": "1882-01-01T00:00:00"
         },
         {
          "avg_temp": 8.539999999999997,
          "level": "berlin",
          "year": "1883-01-01T00:00:00"
         },
         {
          "avg_temp": 7.980000000000002,
          "level": "world",
          "year": "1883-01-01T00:00:00"
         },
         {
          "avg_temp": 9.199999999999996,
          "level": "berlin",
          "year": "1884-01-01T00:00:00"
         },
         {
          "avg_temp": 7.770000000000001,
          "level": "world",
          "year": "1884-01-01T00:00:00"
         },
         {
          "avg_temp": 8.469999999999995,
          "level": "berlin",
          "year": "1885-01-01T00:00:00"
         },
         {
          "avg_temp": 7.920000000000002,
          "level": "world",
          "year": "1885-01-01T00:00:00"
         },
         {
          "avg_temp": 8.549999999999995,
          "level": "berlin",
          "year": "1886-01-01T00:00:00"
         },
         {
          "avg_temp": 7.950000000000001,
          "level": "world",
          "year": "1886-01-01T00:00:00"
         },
         {
          "avg_temp": 7.929999999999996,
          "level": "berlin",
          "year": "1887-01-01T00:00:00"
         },
         {
          "avg_temp": 7.910000000000001,
          "level": "world",
          "year": "1887-01-01T00:00:00"
         },
         {
          "avg_temp": 7.609999999999996,
          "level": "berlin",
          "year": "1888-01-01T00:00:00"
         },
         {
          "avg_temp": 8.09,
          "level": "world",
          "year": "1888-01-01T00:00:00"
         },
         {
          "avg_temp": 8.339999999999996,
          "level": "berlin",
          "year": "1889-01-01T00:00:00"
         },
         {
          "avg_temp": 8.32,
          "level": "world",
          "year": "1889-01-01T00:00:00"
         },
         {
          "avg_temp": 8.349999999999998,
          "level": "berlin",
          "year": "1890-01-01T00:00:00"
         },
         {
          "avg_temp": 7.969999999999999,
          "level": "world",
          "year": "1890-01-01T00:00:00"
         },
         {
          "avg_temp": 8.479999999999999,
          "level": "berlin",
          "year": "1891-01-01T00:00:00"
         },
         {
          "avg_temp": 8.02,
          "level": "world",
          "year": "1891-01-01T00:00:00"
         },
         {
          "avg_temp": 8.279999999999998,
          "level": "berlin",
          "year": "1892-01-01T00:00:00"
         },
         {
          "avg_temp": 8.07,
          "level": "world",
          "year": "1892-01-01T00:00:00"
         },
         {
          "avg_temp": 8.499999999999998,
          "level": "berlin",
          "year": "1893-01-01T00:00:00"
         },
         {
          "avg_temp": 8.060000000000002,
          "level": "world",
          "year": "1893-01-01T00:00:00"
         },
         {
          "avg_temp": 8.96,
          "level": "berlin",
          "year": "1894-01-01T00:00:00"
         },
         {
          "avg_temp": 8.160000000000002,
          "level": "world",
          "year": "1894-01-01T00:00:00"
         },
         {
          "avg_temp": 8.280000000000001,
          "level": "berlin",
          "year": "1895-01-01T00:00:00"
         },
         {
          "avg_temp": 8.150000000000002,
          "level": "world",
          "year": "1895-01-01T00:00:00"
         },
         {
          "avg_temp": 8.570000000000002,
          "level": "berlin",
          "year": "1896-01-01T00:00:00"
         },
         {
          "avg_temp": 8.210000000000003,
          "level": "world",
          "year": "1896-01-01T00:00:00"
         },
         {
          "avg_temp": 8.690000000000001,
          "level": "berlin",
          "year": "1897-01-01T00:00:00"
         },
         {
          "avg_temp": 8.29,
          "level": "world",
          "year": "1897-01-01T00:00:00"
         },
         {
          "avg_temp": 9.42,
          "level": "berlin",
          "year": "1898-01-01T00:00:00"
         },
         {
          "avg_temp": 8.18,
          "level": "world",
          "year": "1898-01-01T00:00:00"
         },
         {
          "avg_temp": 8.960000000000003,
          "level": "berlin",
          "year": "1899-01-01T00:00:00"
         },
         {
          "avg_temp": 8.399999999999999,
          "level": "world",
          "year": "1899-01-01T00:00:00"
         },
         {
          "avg_temp": 9.160000000000004,
          "level": "berlin",
          "year": "1900-01-01T00:00:00"
         },
         {
          "avg_temp": 8.499999999999998,
          "level": "world",
          "year": "1900-01-01T00:00:00"
         },
         {
          "avg_temp": 8.580000000000002,
          "level": "berlin",
          "year": "1901-01-01T00:00:00"
         },
         {
          "avg_temp": 8.54,
          "level": "world",
          "year": "1901-01-01T00:00:00"
         },
         {
          "avg_temp": 7.630000000000001,
          "level": "berlin",
          "year": "1902-01-01T00:00:00"
         },
         {
          "avg_temp": 8.3,
          "level": "world",
          "year": "1902-01-01T00:00:00"
         },
         {
          "avg_temp": 9.280000000000001,
          "level": "berlin",
          "year": "1903-01-01T00:00:00"
         },
         {
          "avg_temp": 8.220000000000002,
          "level": "world",
          "year": "1903-01-01T00:00:00"
         },
         {
          "avg_temp": 9.15,
          "level": "berlin",
          "year": "1904-01-01T00:00:00"
         },
         {
          "avg_temp": 8.090000000000002,
          "level": "world",
          "year": "1904-01-01T00:00:00"
         },
         {
          "avg_temp": 8.9,
          "level": "berlin",
          "year": "1905-01-01T00:00:00"
         },
         {
          "avg_temp": 8.23,
          "level": "world",
          "year": "1905-01-01T00:00:00"
         },
         {
          "avg_temp": 9.31,
          "level": "berlin",
          "year": "1906-01-01T00:00:00"
         },
         {
          "avg_temp": 8.379999999999999,
          "level": "world",
          "year": "1906-01-01T00:00:00"
         },
         {
          "avg_temp": 8.519999999999998,
          "level": "berlin",
          "year": "1907-01-01T00:00:00"
         },
         {
          "avg_temp": 7.9499999999999975,
          "level": "world",
          "year": "1907-01-01T00:00:00"
         },
         {
          "avg_temp": 8.349999999999998,
          "level": "berlin",
          "year": "1908-01-01T00:00:00"
         },
         {
          "avg_temp": 8.189999999999998,
          "level": "world",
          "year": "1908-01-01T00:00:00"
         },
         {
          "avg_temp": 8.159999999999998,
          "level": "berlin",
          "year": "1909-01-01T00:00:00"
         },
         {
          "avg_temp": 8.179999999999998,
          "level": "world",
          "year": "1909-01-01T00:00:00"
         },
         {
          "avg_temp": 9.329999999999998,
          "level": "berlin",
          "year": "1910-01-01T00:00:00"
         },
         {
          "avg_temp": 8.219999999999999,
          "level": "world",
          "year": "1910-01-01T00:00:00"
         },
         {
          "avg_temp": 9.889999999999999,
          "level": "berlin",
          "year": "1911-01-01T00:00:00"
         },
         {
          "avg_temp": 8.179999999999998,
          "level": "world",
          "year": "1911-01-01T00:00:00"
         },
         {
          "avg_temp": 8.489999999999998,
          "level": "berlin",
          "year": "1912-01-01T00:00:00"
         },
         {
          "avg_temp": 8.169999999999998,
          "level": "world",
          "year": "1912-01-01T00:00:00"
         },
         {
          "avg_temp": 9.409999999999998,
          "level": "berlin",
          "year": "1913-01-01T00:00:00"
         },
         {
          "avg_temp": 8.299999999999999,
          "level": "world",
          "year": "1913-01-01T00:00:00"
         },
         {
          "avg_temp": 9.499999999999996,
          "level": "berlin",
          "year": "1914-01-01T00:00:00"
         },
         {
          "avg_temp": 8.59,
          "level": "world",
          "year": "1914-01-01T00:00:00"
         },
         {
          "avg_temp": 8.559999999999995,
          "level": "berlin",
          "year": "1915-01-01T00:00:00"
         },
         {
          "avg_temp": 8.59,
          "level": "world",
          "year": "1915-01-01T00:00:00"
         },
         {
          "avg_temp": 9.299999999999995,
          "level": "berlin",
          "year": "1916-01-01T00:00:00"
         },
         {
          "avg_temp": 8.23,
          "level": "world",
          "year": "1916-01-01T00:00:00"
         },
         {
          "avg_temp": 8.389999999999997,
          "level": "berlin",
          "year": "1917-01-01T00:00:00"
         },
         {
          "avg_temp": 8.02,
          "level": "world",
          "year": "1917-01-01T00:00:00"
         },
         {
          "avg_temp": 9.419999999999995,
          "level": "berlin",
          "year": "1918-01-01T00:00:00"
         },
         {
          "avg_temp": 8.129999999999999,
          "level": "world",
          "year": "1918-01-01T00:00:00"
         },
         {
          "avg_temp": 7.999999999999995,
          "level": "berlin",
          "year": "1919-01-01T00:00:00"
         },
         {
          "avg_temp": 8.379999999999997,
          "level": "world",
          "year": "1919-01-01T00:00:00"
         },
         {
          "avg_temp": 9.369999999999994,
          "level": "berlin",
          "year": "1920-01-01T00:00:00"
         },
         {
          "avg_temp": 8.359999999999994,
          "level": "world",
          "year": "1920-01-01T00:00:00"
         },
         {
          "avg_temp": 9.779999999999992,
          "level": "berlin",
          "year": "1921-01-01T00:00:00"
         },
         {
          "avg_temp": 8.569999999999993,
          "level": "world",
          "year": "1921-01-01T00:00:00"
         },
         {
          "avg_temp": 7.759999999999993,
          "level": "berlin",
          "year": "1922-01-01T00:00:00"
         },
         {
          "avg_temp": 8.409999999999993,
          "level": "world",
          "year": "1922-01-01T00:00:00"
         },
         {
          "avg_temp": 8.579999999999993,
          "level": "berlin",
          "year": "1923-01-01T00:00:00"
         },
         {
          "avg_temp": 8.419999999999991,
          "level": "world",
          "year": "1923-01-01T00:00:00"
         },
         {
          "avg_temp": 8.299999999999995,
          "level": "berlin",
          "year": "1924-01-01T00:00:00"
         },
         {
          "avg_temp": 8.509999999999993,
          "level": "world",
          "year": "1924-01-01T00:00:00"
         },
         {
          "avg_temp": 9.319999999999997,
          "level": "berlin",
          "year": "1925-01-01T00:00:00"
         },
         {
          "avg_temp": 8.529999999999992,
          "level": "world",
          "year": "1925-01-01T00:00:00"
         },
         {
          "avg_temp": 9.569999999999997,
          "level": "berlin",
          "year": "1926-01-01T00:00:00"
         },
         {
          "avg_temp": 8.729999999999992,
          "level": "world",
          "year": "1926-01-01T00:00:00"
         },
         {
          "avg_temp": 8.719999999999999,
          "level": "berlin",
          "year": "1927-01-01T00:00:00"
         },
         {
          "avg_temp": 8.519999999999992,
          "level": "world",
          "year": "1927-01-01T00:00:00"
         },
         {
          "avg_temp": 8.92,
          "level": "berlin",
          "year": "1928-01-01T00:00:00"
         },
         {
          "avg_temp": 8.629999999999992,
          "level": "world",
          "year": "1928-01-01T00:00:00"
         },
         {
          "avg_temp": 7.99,
          "level": "berlin",
          "year": "1929-01-01T00:00:00"
         },
         {
          "avg_temp": 8.23999999999999,
          "level": "world",
          "year": "1929-01-01T00:00:00"
         },
         {
          "avg_temp": 9.479999999999999,
          "level": "berlin",
          "year": "1930-01-01T00:00:00"
         },
         {
          "avg_temp": 8.62999999999999,
          "level": "world",
          "year": "1930-01-01T00:00:00"
         },
         {
          "avg_temp": 8.349999999999998,
          "level": "berlin",
          "year": "1931-01-01T00:00:00"
         },
         {
          "avg_temp": 8.71999999999999,
          "level": "world",
          "year": "1931-01-01T00:00:00"
         },
         {
          "avg_temp": 9.229999999999999,
          "level": "berlin",
          "year": "1932-01-01T00:00:00"
         },
         {
          "avg_temp": 8.709999999999992,
          "level": "world",
          "year": "1932-01-01T00:00:00"
         },
         {
          "avg_temp": 8.319999999999997,
          "level": "berlin",
          "year": "1933-01-01T00:00:00"
         },
         {
          "avg_temp": 8.33999999999999,
          "level": "world",
          "year": "1933-01-01T00:00:00"
         },
         {
          "avg_temp": 10.689999999999998,
          "level": "berlin",
          "year": "1934-01-01T00:00:00"
         },
         {
          "avg_temp": 8.629999999999992,
          "level": "world",
          "year": "1934-01-01T00:00:00"
         },
         {
          "avg_temp": 9.339999999999998,
          "level": "berlin",
          "year": "1935-01-01T00:00:00"
         },
         {
          "avg_temp": 8.51999999999999,
          "level": "world",
          "year": "1935-01-01T00:00:00"
         },
         {
          "avg_temp": 9.3,
          "level": "berlin",
          "year": "1936-01-01T00:00:00"
         },
         {
          "avg_temp": 8.549999999999994,
          "level": "world",
          "year": "1936-01-01T00:00:00"
         },
         {
          "avg_temp": 9.41,
          "level": "berlin",
          "year": "1937-01-01T00:00:00"
         },
         {
          "avg_temp": 8.699999999999992,
          "level": "world",
          "year": "1937-01-01T00:00:00"
         },
         {
          "avg_temp": 9.77,
          "level": "berlin",
          "year": "1938-01-01T00:00:00"
         },
         {
          "avg_temp": 8.859999999999992,
          "level": "world",
          "year": "1938-01-01T00:00:00"
         },
         {
          "avg_temp": 9.32,
          "level": "berlin",
          "year": "1939-01-01T00:00:00"
         },
         {
          "avg_temp": 8.759999999999991,
          "level": "world",
          "year": "1939-01-01T00:00:00"
         },
         {
          "avg_temp": 7.039999999999999,
          "level": "berlin",
          "year": "1940-01-01T00:00:00"
         },
         {
          "avg_temp": 8.75999999999999,
          "level": "world",
          "year": "1940-01-01T00:00:00"
         },
         {
          "avg_temp": 7.62,
          "level": "berlin",
          "year": "1941-01-01T00:00:00"
         },
         {
          "avg_temp": 8.769999999999987,
          "level": "world",
          "year": "1941-01-01T00:00:00"
         },
         {
          "avg_temp": 7.8,
          "level": "berlin",
          "year": "1942-01-01T00:00:00"
         },
         {
          "avg_temp": 8.729999999999986,
          "level": "world",
          "year": "1942-01-01T00:00:00"
         },
         {
          "avg_temp": 9.669999999999998,
          "level": "berlin",
          "year": "1943-01-01T00:00:00"
         },
         {
          "avg_temp": 8.759999999999987,
          "level": "world",
          "year": "1943-01-01T00:00:00"
         },
         {
          "avg_temp": 9.309999999999997,
          "level": "berlin",
          "year": "1944-01-01T00:00:00"
         },
         {
          "avg_temp": 8.849999999999985,
          "level": "world",
          "year": "1944-01-01T00:00:00"
         },
         {
          "avg_temp": 9.639999999999995,
          "level": "berlin",
          "year": "1945-01-01T00:00:00"
         },
         {
          "avg_temp": 8.579999999999986,
          "level": "world",
          "year": "1945-01-01T00:00:00"
         },
         {
          "avg_temp": 9.119999999999994,
          "level": "berlin",
          "year": "1946-01-01T00:00:00"
         },
         {
          "avg_temp": 8.679999999999984,
          "level": "world",
          "year": "1946-01-01T00:00:00"
         },
         {
          "avg_temp": 8.789999999999994,
          "level": "berlin",
          "year": "1947-01-01T00:00:00"
         },
         {
          "avg_temp": 8.799999999999983,
          "level": "world",
          "year": "1947-01-01T00:00:00"
         },
         {
          "avg_temp": 9.959999999999994,
          "level": "berlin",
          "year": "1948-01-01T00:00:00"
         },
         {
          "avg_temp": 8.749999999999982,
          "level": "world",
          "year": "1948-01-01T00:00:00"
         },
         {
          "avg_temp": 10.039999999999992,
          "level": "berlin",
          "year": "1949-01-01T00:00:00"
         },
         {
          "avg_temp": 8.589999999999982,
          "level": "world",
          "year": "1949-01-01T00:00:00"
         },
         {
          "avg_temp": 9.36999999999999,
          "level": "berlin",
          "year": "1950-01-01T00:00:00"
         },
         {
          "avg_temp": 8.36999999999998,
          "level": "world",
          "year": "1950-01-01T00:00:00"
         },
         {
          "avg_temp": 9.71999999999999,
          "level": "berlin",
          "year": "1951-01-01T00:00:00"
         },
         {
          "avg_temp": 8.62999999999998,
          "level": "world",
          "year": "1951-01-01T00:00:00"
         },
         {
          "avg_temp": 8.60999999999999,
          "level": "berlin",
          "year": "1952-01-01T00:00:00"
         },
         {
          "avg_temp": 8.639999999999981,
          "level": "world",
          "year": "1952-01-01T00:00:00"
         },
         {
          "avg_temp": 10.129999999999992,
          "level": "berlin",
          "year": "1953-01-01T00:00:00"
         },
         {
          "avg_temp": 8.86999999999998,
          "level": "world",
          "year": "1953-01-01T00:00:00"
         },
         {
          "avg_temp": 8.409999999999991,
          "level": "berlin",
          "year": "1954-01-01T00:00:00"
         },
         {
          "avg_temp": 8.55999999999998,
          "level": "world",
          "year": "1954-01-01T00:00:00"
         },
         {
          "avg_temp": 8.359999999999989,
          "level": "berlin",
          "year": "1955-01-01T00:00:00"
         },
         {
          "avg_temp": 8.62999999999998,
          "level": "world",
          "year": "1955-01-01T00:00:00"
         },
         {
          "avg_temp": 7.56999999999999,
          "level": "berlin",
          "year": "1956-01-01T00:00:00"
         },
         {
          "avg_temp": 8.279999999999978,
          "level": "world",
          "year": "1956-01-01T00:00:00"
         },
         {
          "avg_temp": 9.45999999999999,
          "level": "berlin",
          "year": "1957-01-01T00:00:00"
         },
         {
          "avg_temp": 8.729999999999977,
          "level": "world",
          "year": "1957-01-01T00:00:00"
         },
         {
          "avg_temp": 9.04999999999999,
          "level": "berlin",
          "year": "1958-01-01T00:00:00"
         },
         {
          "avg_temp": 8.769999999999978,
          "level": "world",
          "year": "1958-01-01T00:00:00"
         },
         {
          "avg_temp": 9.879999999999992,
          "level": "berlin",
          "year": "1959-01-01T00:00:00"
         },
         {
          "avg_temp": 8.729999999999979,
          "level": "world",
          "year": "1959-01-01T00:00:00"
         },
         {
          "avg_temp": 9.219999999999994,
          "level": "berlin",
          "year": "1960-01-01T00:00:00"
         },
         {
          "avg_temp": 8.57999999999998,
          "level": "world",
          "year": "1960-01-01T00:00:00"
         },
         {
          "avg_temp": 9.809999999999993,
          "level": "berlin",
          "year": "1961-01-01T00:00:00"
         },
         {
          "avg_temp": 8.799999999999981,
          "level": "world",
          "year": "1961-01-01T00:00:00"
         },
         {
          "avg_temp": 8.129999999999994,
          "level": "berlin",
          "year": "1962-01-01T00:00:00"
         },
         {
          "avg_temp": 8.749999999999982,
          "level": "world",
          "year": "1962-01-01T00:00:00"
         },
         {
          "avg_temp": 8.119999999999992,
          "level": "berlin",
          "year": "1963-01-01T00:00:00"
         },
         {
          "avg_temp": 8.859999999999982,
          "level": "world",
          "year": "1963-01-01T00:00:00"
         },
         {
          "avg_temp": 8.839999999999995,
          "level": "berlin",
          "year": "1964-01-01T00:00:00"
         },
         {
          "avg_temp": 8.409999999999982,
          "level": "world",
          "year": "1964-01-01T00:00:00"
         },
         {
          "avg_temp": 8.329999999999995,
          "level": "berlin",
          "year": "1965-01-01T00:00:00"
         },
         {
          "avg_temp": 8.529999999999983,
          "level": "world",
          "year": "1965-01-01T00:00:00"
         },
         {
          "avg_temp": 9.339999999999995,
          "level": "berlin",
          "year": "1966-01-01T00:00:00"
         },
         {
          "avg_temp": 8.599999999999982,
          "level": "world",
          "year": "1966-01-01T00:00:00"
         },
         {
          "avg_temp": 10.079999999999995,
          "level": "berlin",
          "year": "1967-01-01T00:00:00"
         },
         {
          "avg_temp": 8.699999999999983,
          "level": "world",
          "year": "1967-01-01T00:00:00"
         },
         {
          "avg_temp": 9.279999999999992,
          "level": "berlin",
          "year": "1968-01-01T00:00:00"
         },
         {
          "avg_temp": 8.519999999999985,
          "level": "world",
          "year": "1968-01-01T00:00:00"
         },
         {
          "avg_temp": 8.429999999999994,
          "level": "berlin",
          "year": "1969-01-01T00:00:00"
         },
         {
          "avg_temp": 8.599999999999984,
          "level": "world",
          "year": "1969-01-01T00:00:00"
         },
         {
          "avg_temp": 8.429999999999993,
          "level": "berlin",
          "year": "1970-01-01T00:00:00"
         },
         {
          "avg_temp": 8.699999999999983,
          "level": "world",
          "year": "1970-01-01T00:00:00"
         },
         {
          "avg_temp": 9.539999999999992,
          "level": "berlin",
          "year": "1971-01-01T00:00:00"
         },
         {
          "avg_temp": 8.599999999999984,
          "level": "world",
          "year": "1971-01-01T00:00:00"
         },
         {
          "avg_temp": 8.879999999999995,
          "level": "berlin",
          "year": "1972-01-01T00:00:00"
         },
         {
          "avg_temp": 8.499999999999984,
          "level": "world",
          "year": "1972-01-01T00:00:00"
         },
         {
          "avg_temp": 9.239999999999997,
          "level": "berlin",
          "year": "1973-01-01T00:00:00"
         },
         {
          "avg_temp": 8.949999999999982,
          "level": "world",
          "year": "1973-01-01T00:00:00"
         },
         {
          "avg_temp": 9.889999999999995,
          "level": "berlin",
          "year": "1974-01-01T00:00:00"
         },
         {
          "avg_temp": 8.469999999999981,
          "level": "world",
          "year": "1974-01-01T00:00:00"
         },
         {
          "avg_temp": 10.079999999999995,
          "level": "berlin",
          "year": "1975-01-01T00:00:00"
         },
         {
          "avg_temp": 8.739999999999979,
          "level": "world",
          "year": "1975-01-01T00:00:00"
         },
         {
          "avg_temp": 9.149999999999997,
          "level": "berlin",
          "year": "1976-01-01T00:00:00"
         },
         {
          "avg_temp": 8.349999999999978,
          "level": "world",
          "year": "1976-01-01T00:00:00"
         },
         {
          "avg_temp": 9.539999999999997,
          "level": "berlin",
          "year": "1977-01-01T00:00:00"
         },
         {
          "avg_temp": 8.849999999999978,
          "level": "world",
          "year": "1977-01-01T00:00:00"
         },
         {
          "avg_temp": 8.86,
          "level": "berlin",
          "year": "1978-01-01T00:00:00"
         },
         {
          "avg_temp": 8.689999999999978,
          "level": "world",
          "year": "1978-01-01T00:00:00"
         },
         {
          "avg_temp": 8.530000000000001,
          "level": "berlin",
          "year": "1979-01-01T00:00:00"
         },
         {
          "avg_temp": 8.72999999999998,
          "level": "world",
          "year": "1979-01-01T00:00:00"
         },
         {
          "avg_temp": 8.26,
          "level": "berlin",
          "year": "1980-01-01T00:00:00"
         },
         {
          "avg_temp": 8.979999999999979,
          "level": "world",
          "year": "1980-01-01T00:00:00"
         },
         {
          "avg_temp": 9.179999999999998,
          "level": "berlin",
          "year": "1981-01-01T00:00:00"
         },
         {
          "avg_temp": 9.169999999999977,
          "level": "world",
          "year": "1981-01-01T00:00:00"
         },
         {
          "avg_temp": 10.079999999999998,
          "level": "berlin",
          "year": "1982-01-01T00:00:00"
         },
         {
          "avg_temp": 8.639999999999977,
          "level": "world",
          "year": "1982-01-01T00:00:00"
         },
         {
          "avg_temp": 10.209999999999999,
          "level": "berlin",
          "year": "1983-01-01T00:00:00"
         },
         {
          "avg_temp": 9.029999999999976,
          "level": "world",
          "year": "1983-01-01T00:00:00"
         },
         {
          "avg_temp": 8.939999999999998,
          "level": "berlin",
          "year": "1984-01-01T00:00:00"
         },
         {
          "avg_temp": 8.689999999999978,
          "level": "world",
          "year": "1984-01-01T00:00:00"
         },
         {
          "avg_temp": 8.459999999999999,
          "level": "berlin",
          "year": "1985-01-01T00:00:00"
         },
         {
          "avg_temp": 8.65999999999998,
          "level": "world",
          "year": "1985-01-01T00:00:00"
         },
         {
          "avg_temp": 8.779999999999998,
          "level": "berlin",
          "year": "1986-01-01T00:00:00"
         },
         {
          "avg_temp": 8.82999999999998,
          "level": "world",
          "year": "1986-01-01T00:00:00"
         },
         {
          "avg_temp": 8.089999999999998,
          "level": "berlin",
          "year": "1987-01-01T00:00:00"
         },
         {
          "avg_temp": 8.989999999999979,
          "level": "world",
          "year": "1987-01-01T00:00:00"
         },
         {
          "avg_temp": 10.02,
          "level": "berlin",
          "year": "1988-01-01T00:00:00"
         },
         {
          "avg_temp": 9.199999999999976,
          "level": "world",
          "year": "1988-01-01T00:00:00"
         },
         {
          "avg_temp": 10.720000000000002,
          "level": "berlin",
          "year": "1989-01-01T00:00:00"
         },
         {
          "avg_temp": 8.919999999999977,
          "level": "world",
          "year": "1989-01-01T00:00:00"
         },
         {
          "avg_temp": 10.710000000000003,
          "level": "berlin",
          "year": "1990-01-01T00:00:00"
         },
         {
          "avg_temp": 9.229999999999977,
          "level": "world",
          "year": "1990-01-01T00:00:00"
         },
         {
          "avg_temp": 9.36,
          "level": "berlin",
          "year": "1991-01-01T00:00:00"
         },
         {
          "avg_temp": 9.179999999999975,
          "level": "world",
          "year": "1991-01-01T00:00:00"
         },
         {
          "avg_temp": 10.380000000000003,
          "level": "berlin",
          "year": "1992-01-01T00:00:00"
         },
         {
          "avg_temp": 8.839999999999975,
          "level": "world",
          "year": "1992-01-01T00:00:00"
         },
         {
          "avg_temp": 9.340000000000002,
          "level": "berlin",
          "year": "1993-01-01T00:00:00"
         },
         {
          "avg_temp": 8.869999999999973,
          "level": "world",
          "year": "1993-01-01T00:00:00"
         },
         {
          "avg_temp": 10.430000000000003,
          "level": "berlin",
          "year": "1994-01-01T00:00:00"
         },
         {
          "avg_temp": 9.039999999999973,
          "level": "world",
          "year": "1994-01-01T00:00:00"
         },
         {
          "avg_temp": 9.750000000000004,
          "level": "berlin",
          "year": "1995-01-01T00:00:00"
         },
         {
          "avg_temp": 9.349999999999973,
          "level": "world",
          "year": "1995-01-01T00:00:00"
         },
         {
          "avg_temp": 7.880000000000003,
          "level": "berlin",
          "year": "1996-01-01T00:00:00"
         },
         {
          "avg_temp": 9.039999999999973,
          "level": "world",
          "year": "1996-01-01T00:00:00"
         },
         {
          "avg_temp": 9.730000000000004,
          "level": "berlin",
          "year": "1997-01-01T00:00:00"
         },
         {
          "avg_temp": 9.199999999999974,
          "level": "world",
          "year": "1997-01-01T00:00:00"
         },
         {
          "avg_temp": 10.050000000000004,
          "level": "berlin",
          "year": "1998-01-01T00:00:00"
         },
         {
          "avg_temp": 9.519999999999975,
          "level": "world",
          "year": "1998-01-01T00:00:00"
         },
         {
          "avg_temp": 10.580000000000002,
          "level": "berlin",
          "year": "1999-01-01T00:00:00"
         },
         {
          "avg_temp": 9.289999999999974,
          "level": "world",
          "year": "1999-01-01T00:00:00"
         },
         {
          "avg_temp": 10.960000000000003,
          "level": "berlin",
          "year": "2000-01-01T00:00:00"
         },
         {
          "avg_temp": 9.199999999999974,
          "level": "world",
          "year": "2000-01-01T00:00:00"
         },
         {
          "avg_temp": 9.690000000000001,
          "level": "berlin",
          "year": "2001-01-01T00:00:00"
         },
         {
          "avg_temp": 9.409999999999975,
          "level": "world",
          "year": "2001-01-01T00:00:00"
         },
         {
          "avg_temp": 10.260000000000003,
          "level": "berlin",
          "year": "2002-01-01T00:00:00"
         },
         {
          "avg_temp": 9.569999999999975,
          "level": "world",
          "year": "2002-01-01T00:00:00"
         },
         {
          "avg_temp": 10.070000000000006,
          "level": "berlin",
          "year": "2003-01-01T00:00:00"
         },
         {
          "avg_temp": 9.529999999999973,
          "level": "world",
          "year": "2003-01-01T00:00:00"
         },
         {
          "avg_temp": 9.820000000000007,
          "level": "berlin",
          "year": "2004-01-01T00:00:00"
         },
         {
          "avg_temp": 9.319999999999974,
          "level": "world",
          "year": "2004-01-01T00:00:00"
         },
         {
          "avg_temp": 9.920000000000009,
          "level": "berlin",
          "year": "2005-01-01T00:00:00"
         },
         {
          "avg_temp": 9.699999999999974,
          "level": "world",
          "year": "2005-01-01T00:00:00"
         },
         {
          "avg_temp": 10.55000000000001,
          "level": "berlin",
          "year": "2006-01-01T00:00:00"
         },
         {
          "avg_temp": 9.529999999999976,
          "level": "world",
          "year": "2006-01-01T00:00:00"
         },
         {
          "avg_temp": 10.88000000000001,
          "level": "berlin",
          "year": "2007-01-01T00:00:00"
         },
         {
          "avg_temp": 9.729999999999977,
          "level": "world",
          "year": "2007-01-01T00:00:00"
         },
         {
          "avg_temp": 10.660000000000009,
          "level": "berlin",
          "year": "2008-01-01T00:00:00"
         },
         {
          "avg_temp": 9.429999999999975,
          "level": "world",
          "year": "2008-01-01T00:00:00"
         },
         {
          "avg_temp": 10.06000000000001,
          "level": "berlin",
          "year": "2009-01-01T00:00:00"
         },
         {
          "avg_temp": 9.509999999999977,
          "level": "world",
          "year": "2009-01-01T00:00:00"
         },
         {
          "avg_temp": 8.610000000000008,
          "level": "berlin",
          "year": "2010-01-01T00:00:00"
         },
         {
          "avg_temp": 9.699999999999976,
          "level": "world",
          "year": "2010-01-01T00:00:00"
         },
         {
          "avg_temp": 10.56000000000001,
          "level": "berlin",
          "year": "2011-01-01T00:00:00"
         },
         {
          "avg_temp": 9.519999999999978,
          "level": "world",
          "year": "2011-01-01T00:00:00"
         },
         {
          "avg_temp": 9.96000000000001,
          "level": "berlin",
          "year": "2012-01-01T00:00:00"
         },
         {
          "avg_temp": 9.50999999999998,
          "level": "world",
          "year": "2012-01-01T00:00:00"
         },
         {
          "avg_temp": 10.120000000000008,
          "level": "berlin",
          "year": "2013-01-01T00:00:00"
         },
         {
          "avg_temp": 9.60999999999998,
          "level": "world",
          "year": "2013-01-01T00:00:00"
         }
        ],
        "data-bc8a7ccad3c9e35041d73a154e974aa7": [
         {
          "avg_temp": 8.285,
          "level": "berlin",
          "year": "1753-01-01T00:00:00"
         },
         {
          "avg_temp": 7.717500000000001,
          "level": "world",
          "year": "1753-01-01T00:00:00"
         },
         {
          "avg_temp": 7.950000000000001,
          "level": "berlin",
          "year": "1754-01-01T00:00:00"
         },
         {
          "avg_temp": 7.655000000000001,
          "level": "world",
          "year": "1754-01-01T00:00:00"
         },
         {
          "avg_temp": 7.577500000000001,
          "level": "berlin",
          "year": "1755-01-01T00:00:00"
         },
         {
          "avg_temp": 7.750000000000001,
          "level": "world",
          "year": "1755-01-01T00:00:00"
         },
         {
          "avg_temp": 8.7725,
          "level": "berlin",
          "year": "1756-01-01T00:00:00"
         },
         {
          "avg_temp": 8.5175,
          "level": "world",
          "year": "1756-01-01T00:00:00"
         },
         {
          "avg_temp": 8.88,
          "level": "berlin",
          "year": "1757-01-01T00:00:00"
         },
         {
          "avg_temp": 8.675,
          "level": "world",
          "year": "1757-01-01T00:00:00"
         },
         {
          "avg_temp": 8.82,
          "level": "berlin",
          "year": "1758-01-01T00:00:00"
         },
         {
          "avg_temp": 8.242500000000001,
          "level": "world",
          "year": "1758-01-01T00:00:00"
         },
         {
          "avg_temp": 9.015,
          "level": "berlin",
          "year": "1759-01-01T00:00:00"
         },
         {
          "avg_temp": 8.150000000000002,
          "level": "world",
          "year": "1759-01-01T00:00:00"
         },
         {
          "avg_temp": 8.857500000000002,
          "level": "berlin",
          "year": "1760-01-01T00:00:00"
         },
         {
          "avg_temp": 7.735000000000001,
          "level": "world",
          "year": "1760-01-01T00:00:00"
         },
         {
          "avg_temp": 8.937500000000002,
          "level": "berlin",
          "year": "1761-01-01T00:00:00"
         },
         {
          "avg_temp": 7.672500000000002,
          "level": "world",
          "year": "1761-01-01T00:00:00"
         },
         {
          "avg_temp": 9.007500000000002,
          "level": "berlin",
          "year": "1762-01-01T00:00:00"
         },
         {
          "avg_temp": 8.140000000000002,
          "level": "world",
          "year": "1762-01-01T00:00:00"
         },
         {
          "avg_temp": 8.902500000000002,
          "level": "berlin",
          "year": "1763-01-01T00:00:00"
         },
         {
          "avg_temp": 8.017500000000002,
          "level": "world",
          "year": "1763-01-01T00:00:00"
         },
         {
          "avg_temp": 8.882500000000002,
          "level": "berlin",
          "year": "1764-01-01T00:00:00"
         },
         {
          "avg_temp": 8.320000000000002,
          "level": "world",
          "year": "1764-01-01T00:00:00"
         },
         {
          "avg_temp": 8.650000000000002,
          "level": "berlin",
          "year": "1765-01-01T00:00:00"
         },
         {
          "avg_temp": 8.190000000000001,
          "level": "world",
          "year": "1765-01-01T00:00:00"
         },
         {
          "avg_temp": 8.735000000000001,
          "level": "berlin",
          "year": "1766-01-01T00:00:00"
         },
         {
          "avg_temp": 8.14,
          "level": "world",
          "year": "1766-01-01T00:00:00"
         },
         {
          "avg_temp": 8.615000000000002,
          "level": "berlin",
          "year": "1767-01-01T00:00:00"
         },
         {
          "avg_temp": 8.32,
          "level": "world",
          "year": "1767-01-01T00:00:00"
         },
         {
          "avg_temp": 8.395000000000003,
          "level": "berlin",
          "year": "1768-01-01T00:00:00"
         },
         {
          "avg_temp": 7.915000000000001,
          "level": "world",
          "year": "1768-01-01T00:00:00"
         },
         {
          "avg_temp": 8.375000000000004,
          "level": "berlin",
          "year": "1769-01-01T00:00:00"
         },
         {
          "avg_temp": 7.775,
          "level": "world",
          "year": "1769-01-01T00:00:00"
         },
         {
          "avg_temp": 8.282500000000004,
          "level": "berlin",
          "year": "1770-01-01T00:00:00"
         },
         {
          "avg_temp": 7.595,
          "level": "world",
          "year": "1770-01-01T00:00:00"
         },
         {
          "avg_temp": 8.110000000000005,
          "level": "berlin",
          "year": "1771-01-01T00:00:00"
         },
         {
          "avg_temp": 7.5024999999999995,
          "level": "world",
          "year": "1771-01-01T00:00:00"
         },
         {
          "avg_temp": 8.385000000000005,
          "level": "berlin",
          "year": "1772-01-01T00:00:00"
         },
         {
          "avg_temp": 7.854999999999999,
          "level": "world",
          "year": "1772-01-01T00:00:00"
         },
         {
          "avg_temp": 8.650000000000004,
          "level": "berlin",
          "year": "1773-01-01T00:00:00"
         },
         {
          "avg_temp": 7.987499999999998,
          "level": "world",
          "year": "1773-01-01T00:00:00"
         },
         {
          "avg_temp": 8.640000000000004,
          "level": "berlin",
          "year": "1774-01-01T00:00:00"
         },
         {
          "avg_temp": 8.257499999999999,
          "level": "world",
          "year": "1774-01-01T00:00:00"
         },
         {
          "avg_temp": 9.302500000000004,
          "level": "berlin",
          "year": "1775-01-01T00:00:00"
         },
         {
          "avg_temp": 8.589999999999998,
          "level": "world",
          "year": "1775-01-01T00:00:00"
         },
         {
          "avg_temp": 9.110000000000003,
          "level": "berlin",
          "year": "1776-01-01T00:00:00"
         },
         {
          "avg_temp": 8.6175,
          "level": "world",
          "year": "1776-01-01T00:00:00"
         },
         {
          "avg_temp": 8.802500000000002,
          "level": "berlin",
          "year": "1777-01-01T00:00:00"
         },
         {
          "avg_temp": 8.6275,
          "level": "world",
          "year": "1777-01-01T00:00:00"
         },
         {
          "avg_temp": 9.045000000000002,
          "level": "berlin",
          "year": "1778-01-01T00:00:00"
         },
         {
          "avg_temp": 8.57,
          "level": "world",
          "year": "1778-01-01T00:00:00"
         },
         {
          "avg_temp": 9.137500000000001,
          "level": "berlin",
          "year": "1779-01-01T00:00:00"
         },
         {
          "avg_temp": 8.520000000000001,
          "level": "world",
          "year": "1779-01-01T00:00:00"
         },
         {
          "avg_temp": 9.242500000000001,
          "level": "berlin",
          "year": "1780-01-01T00:00:00"
         },
         {
          "avg_temp": 8.802500000000002,
          "level": "world",
          "year": "1780-01-01T00:00:00"
         },
         {
          "avg_temp": 9.665000000000001,
          "level": "berlin",
          "year": "1781-01-01T00:00:00"
         },
         {
          "avg_temp": 8.762500000000003,
          "level": "world",
          "year": "1781-01-01T00:00:00"
         },
         {
          "avg_temp": 9.46,
          "level": "berlin",
          "year": "1782-01-01T00:00:00"
         },
         {
          "avg_temp": 8.602500000000003,
          "level": "world",
          "year": "1782-01-01T00:00:00"
         },
         {
          "avg_temp": 9.2825,
          "level": "berlin",
          "year": "1783-01-01T00:00:00"
         },
         {
          "avg_temp": 8.277500000000003,
          "level": "world",
          "year": "1783-01-01T00:00:00"
         },
         {
          "avg_temp": 9.005,
          "level": "berlin",
          "year": "1784-01-01T00:00:00"
         },
         {
          "avg_temp": 7.885000000000003,
          "level": "world",
          "year": "1784-01-01T00:00:00"
         },
         {
          "avg_temp": 8.365000000000002,
          "level": "berlin",
          "year": "1785-01-01T00:00:00"
         },
         {
          "avg_temp": 7.700000000000003,
          "level": "world",
          "year": "1785-01-01T00:00:00"
         },
         {
          "avg_temp": 8.132500000000002,
          "level": "berlin",
          "year": "1786-01-01T00:00:00"
         },
         {
          "avg_temp": 7.790000000000003,
          "level": "world",
          "year": "1786-01-01T00:00:00"
         },
         {
          "avg_temp": 8.010000000000003,
          "level": "berlin",
          "year": "1787-01-01T00:00:00"
         },
         {
          "avg_temp": 7.877500000000003,
          "level": "world",
          "year": "1787-01-01T00:00:00"
         },
         {
          "avg_temp": 8.175000000000002,
          "level": "berlin",
          "year": "1788-01-01T00:00:00"
         },
         {
          "avg_temp": 8.025000000000002,
          "level": "world",
          "year": "1788-01-01T00:00:00"
         },
         {
          "avg_temp": 8.567500000000003,
          "level": "berlin",
          "year": "1789-01-01T00:00:00"
         },
         {
          "avg_temp": 8.267500000000002,
          "level": "world",
          "year": "1789-01-01T00:00:00"
         },
         {
          "avg_temp": 8.920000000000003,
          "level": "berlin",
          "year": "1790-01-01T00:00:00"
         },
         {
          "avg_temp": 8.197500000000003,
          "level": "world",
          "year": "1790-01-01T00:00:00"
         },
         {
          "avg_temp": 8.990000000000006,
          "level": "berlin",
          "year": "1791-01-01T00:00:00"
         },
         {
          "avg_temp": 8.247500000000002,
          "level": "world",
          "year": "1791-01-01T00:00:00"
         },
         {
          "avg_temp": 9.132500000000006,
          "level": "berlin",
          "year": "1792-01-01T00:00:00"
         },
         {
          "avg_temp": 8.157500000000002,
          "level": "world",
          "year": "1792-01-01T00:00:00"
         },
         {
          "avg_temp": 9.180000000000005,
          "level": "berlin",
          "year": "1793-01-01T00:00:00"
         },
         {
          "avg_temp": 8.132500000000004,
          "level": "world",
          "year": "1793-01-01T00:00:00"
         },
         {
          "avg_temp": 9.412500000000005,
          "level": "berlin",
          "year": "1794-01-01T00:00:00"
         },
         {
          "avg_temp": 8.270000000000003,
          "level": "world",
          "year": "1794-01-01T00:00:00"
         },
         {
          "avg_temp": 9.242500000000003,
          "level": "berlin",
          "year": "1795-01-01T00:00:00"
         },
         {
          "avg_temp": 8.300000000000004,
          "level": "world",
          "year": "1795-01-01T00:00:00"
         },
         {
          "avg_temp": 9.270000000000003,
          "level": "berlin",
          "year": "1796-01-01T00:00:00"
         },
         {
          "avg_temp": 8.345000000000002,
          "level": "world",
          "year": "1796-01-01T00:00:00"
         },
         {
          "avg_temp": 9.492500000000003,
          "level": "berlin",
          "year": "1797-01-01T00:00:00"
         },
         {
          "avg_temp": 8.415000000000003,
          "level": "world",
          "year": "1797-01-01T00:00:00"
         },
         {
          "avg_temp": 9.320000000000004,
          "level": "berlin",
          "year": "1798-01-01T00:00:00"
         },
         {
          "avg_temp": 8.450000000000003,
          "level": "world",
          "year": "1798-01-01T00:00:00"
         },
         {
          "avg_temp": 8.782500000000004,
          "level": "berlin",
          "year": "1799-01-01T00:00:00"
         },
         {
          "avg_temp": 8.490000000000002,
          "level": "world",
          "year": "1799-01-01T00:00:00"
         },
         {
          "avg_temp": 8.680000000000005,
          "level": "berlin",
          "year": "1800-01-01T00:00:00"
         },
         {
          "avg_temp": 8.542500000000004,
          "level": "world",
          "year": "1800-01-01T00:00:00"
         },
         {
          "avg_temp": 8.565000000000005,
          "level": "berlin",
          "year": "1801-01-01T00:00:00"
         },
         {
          "avg_temp": 8.562500000000005,
          "level": "world",
          "year": "1801-01-01T00:00:00"
         },
         {
          "avg_temp": 8.502500000000005,
          "level": "berlin",
          "year": "1802-01-01T00:00:00"
         },
         {
          "avg_temp": 8.540000000000004,
          "level": "world",
          "year": "1802-01-01T00:00:00"
         },
         {
          "avg_temp": 8.827500000000004,
          "level": "berlin",
          "year": "1803-01-01T00:00:00"
         },
         {
          "avg_temp": 8.537500000000005,
          "level": "world",
          "year": "1803-01-01T00:00:00"
         },
         {
          "avg_temp": 8.767500000000004,
          "level": "berlin",
          "year": "1804-01-01T00:00:00"
         },
         {
          "avg_temp": 8.627500000000005,
          "level": "world",
          "year": "1804-01-01T00:00:00"
         },
         {
          "avg_temp": 8.165000000000004,
          "level": "berlin",
          "year": "1805-01-01T00:00:00"
         },
         {
          "avg_temp": 8.620000000000005,
          "level": "world",
          "year": "1805-01-01T00:00:00"
         },
         {
          "avg_temp": 8.312500000000005,
          "level": "berlin",
          "year": "1806-01-01T00:00:00"
         },
         {
          "avg_temp": 8.582500000000005,
          "level": "world",
          "year": "1806-01-01T00:00:00"
         },
         {
          "avg_temp": 8.662500000000005,
          "level": "berlin",
          "year": "1807-01-01T00:00:00"
         },
         {
          "avg_temp": 8.527500000000005,
          "level": "world",
          "year": "1807-01-01T00:00:00"
         },
         {
          "avg_temp": 8.610000000000005,
          "level": "berlin",
          "year": "1808-01-01T00:00:00"
         },
         {
          "avg_temp": 8.225000000000005,
          "level": "world",
          "year": "1808-01-01T00:00:00"
         },
         {
          "avg_temp": 8.975000000000005,
          "level": "berlin",
          "year": "1809-01-01T00:00:00"
         },
         {
          "avg_temp": 7.855000000000004,
          "level": "world",
          "year": "1809-01-01T00:00:00"
         },
         {
          "avg_temp": 8.672500000000005,
          "level": "berlin",
          "year": "1810-01-01T00:00:00"
         },
         {
          "avg_temp": 7.4775000000000045,
          "level": "world",
          "year": "1810-01-01T00:00:00"
         },
         {
          "avg_temp": 8.800000000000004,
          "level": "berlin",
          "year": "1811-01-01T00:00:00"
         },
         {
          "avg_temp": 7.122500000000004,
          "level": "world",
          "year": "1811-01-01T00:00:00"
         },
         {
          "avg_temp": 8.600000000000005,
          "level": "berlin",
          "year": "1812-01-01T00:00:00"
         },
         {
          "avg_temp": 6.977500000000004,
          "level": "world",
          "year": "1812-01-01T00:00:00"
         },
         {
          "avg_temp": 8.600000000000005,
          "level": "berlin",
          "year": "1813-01-01T00:00:00"
         },
         {
          "avg_temp": 7.142500000000004,
          "level": "world",
          "year": "1813-01-01T00:00:00"
         },
         {
          "avg_temp": 8.350000000000005,
          "level": "berlin",
          "year": "1814-01-01T00:00:00"
         },
         {
          "avg_temp": 7.310000000000002,
          "level": "world",
          "year": "1814-01-01T00:00:00"
         },
         {
          "avg_temp": 7.962500000000006,
          "level": "berlin",
          "year": "1815-01-01T00:00:00"
         },
         {
          "avg_temp": 7.405000000000003,
          "level": "world",
          "year": "1815-01-01T00:00:00"
         },
         {
          "avg_temp": 8.062500000000005,
          "level": "berlin",
          "year": "1816-01-01T00:00:00"
         },
         {
          "avg_temp": 7.377500000000002,
          "level": "world",
          "year": "1816-01-01T00:00:00"
         },
         {
          "avg_temp": 8.127500000000005,
          "level": "berlin",
          "year": "1817-01-01T00:00:00"
         },
         {
          "avg_temp": 7.187500000000002,
          "level": "world",
          "year": "1817-01-01T00:00:00"
         },
         {
          "avg_temp": 8.512500000000005,
          "level": "berlin",
          "year": "1818-01-01T00:00:00"
         },
         {
          "avg_temp": 7.247500000000001,
          "level": "world",
          "year": "1818-01-01T00:00:00"
         },
         {
          "avg_temp": 8.775000000000004,
          "level": "berlin",
          "year": "1819-01-01T00:00:00"
         },
         {
          "avg_temp": 7.280000000000001,
          "level": "world",
          "year": "1819-01-01T00:00:00"
         },
         {
          "avg_temp": 8.802500000000004,
          "level": "berlin",
          "year": "1820-01-01T00:00:00"
         },
         {
          "avg_temp": 7.45,
          "level": "world",
          "year": "1820-01-01T00:00:00"
         },
         {
          "avg_temp": 8.860000000000003,
          "level": "berlin",
          "year": "1821-01-01T00:00:00"
         },
         {
          "avg_temp": 7.7275,
          "level": "world",
          "year": "1821-01-01T00:00:00"
         },
         {
          "avg_temp": 9.122500000000002,
          "level": "berlin",
          "year": "1822-01-01T00:00:00"
         },
         {
          "avg_temp": 7.817500000000001,
          "level": "world",
          "year": "1822-01-01T00:00:00"
         },
         {
          "avg_temp": 8.830000000000002,
          "level": "berlin",
          "year": "1823-01-01T00:00:00"
         },
         {
          "avg_temp": 7.905,
          "level": "world",
          "year": "1823-01-01T00:00:00"
         },
         {
          "avg_temp": 9.267500000000002,
          "level": "berlin",
          "year": "1824-01-01T00:00:00"
         },
         {
          "avg_temp": 8.137500000000001,
          "level": "world",
          "year": "1824-01-01T00:00:00"
         },
         {
          "avg_temp": 9.310000000000002,
          "level": "berlin",
          "year": "1825-01-01T00:00:00"
         },
         {
          "avg_temp": 8.212500000000002,
          "level": "world",
          "year": "1825-01-01T00:00:00"
         },
         {
          "avg_temp": 9.135000000000002,
          "level": "berlin",
          "year": "1826-01-01T00:00:00"
         },
         {
          "avg_temp": 8.255000000000003,
          "level": "world",
          "year": "1826-01-01T00:00:00"
         },
         {
          "avg_temp": 9.317500000000003,
          "level": "berlin",
          "year": "1827-01-01T00:00:00"
         },
         {
          "avg_temp": 8.527500000000003,
          "level": "world",
          "year": "1827-01-01T00:00:00"
         },
         {
          "avg_temp": 9.150000000000002,
          "level": "berlin",
          "year": "1828-01-01T00:00:00"
         },
         {
          "avg_temp": 8.432500000000005,
          "level": "world",
          "year": "1828-01-01T00:00:00"
         },
         {
          "avg_temp": 8.450000000000001,
          "level": "berlin",
          "year": "1829-01-01T00:00:00"
         },
         {
          "avg_temp": 8.320000000000004,
          "level": "world",
          "year": "1829-01-01T00:00:00"
         },
         {
          "avg_temp": 8.1325,
          "level": "berlin",
          "year": "1830-01-01T00:00:00"
         },
         {
          "avg_temp": 8.360000000000003,
          "level": "world",
          "year": "1830-01-01T00:00:00"
         },
         {
          "avg_temp": 8.1175,
          "level": "berlin",
          "year": "1831-01-01T00:00:00"
         },
         {
          "avg_temp": 8.067500000000003,
          "level": "world",
          "year": "1831-01-01T00:00:00"
         },
         {
          "avg_temp": 7.967500000000001,
          "level": "berlin",
          "year": "1832-01-01T00:00:00"
         },
         {
          "avg_temp": 7.887500000000003,
          "level": "world",
          "year": "1832-01-01T00:00:00"
         },
         {
          "avg_temp": 8.560000000000002,
          "level": "berlin",
          "year": "1833-01-01T00:00:00"
         },
         {
          "avg_temp": 7.905000000000002,
          "level": "world",
          "year": "1833-01-01T00:00:00"
         },
         {
          "avg_temp": 9.140000000000002,
          "level": "berlin",
          "year": "1834-01-01T00:00:00"
         },
         {
          "avg_temp": 7.812500000000003,
          "level": "world",
          "year": "1834-01-01T00:00:00"
         },
         {
          "avg_temp": 9.110000000000003,
          "level": "berlin",
          "year": "1835-01-01T00:00:00"
         },
         {
          "avg_temp": 7.750000000000002,
          "level": "world",
          "year": "1835-01-01T00:00:00"
         },
         {
          "avg_temp": 9.245000000000005,
          "level": "berlin",
          "year": "1836-01-01T00:00:00"
         },
         {
          "avg_temp": 7.812500000000003,
          "level": "world",
          "year": "1836-01-01T00:00:00"
         },
         {
          "avg_temp": 9.052500000000004,
          "level": "berlin",
          "year": "1837-01-01T00:00:00"
         },
         {
          "avg_temp": 7.655000000000003,
          "level": "world",
          "year": "1837-01-01T00:00:00"
         },
         {
          "avg_temp": 8.197500000000003,
          "level": "berlin",
          "year": "1838-01-01T00:00:00"
         },
         {
          "avg_temp": 7.495000000000003,
          "level": "world",
          "year": "1838-01-01T00:00:00"
         },
         {
          "avg_temp": 8.152500000000003,
          "level": "berlin",
          "year": "1839-01-01T00:00:00"
         },
         {
          "avg_temp": 7.555000000000003,
          "level": "world",
          "year": "1839-01-01T00:00:00"
         },
         {
          "avg_temp": 7.867500000000003,
          "level": "berlin",
          "year": "1840-01-01T00:00:00"
         },
         {
          "avg_temp": 7.580000000000003,
          "level": "world",
          "year": "1840-01-01T00:00:00"
         },
         {
          "avg_temp": 8.102500000000004,
          "level": "berlin",
          "year": "1841-01-01T00:00:00"
         },
         {
          "avg_temp": 7.657500000000003,
          "level": "world",
          "year": "1841-01-01T00:00:00"
         },
         {
          "avg_temp": 8.485000000000003,
          "level": "berlin",
          "year": "1842-01-01T00:00:00"
         },
         {
          "avg_temp": 7.785000000000004,
          "level": "world",
          "year": "1842-01-01T00:00:00"
         },
         {
          "avg_temp": 8.622500000000002,
          "level": "berlin",
          "year": "1843-01-01T00:00:00"
         },
         {
          "avg_temp": 7.920000000000004,
          "level": "world",
          "year": "1843-01-01T00:00:00"
         },
         {
          "avg_temp": 8.650000000000002,
          "level": "berlin",
          "year": "1844-01-01T00:00:00"
         },
         {
          "avg_temp": 7.882500000000005,
          "level": "world",
          "year": "1844-01-01T00:00:00"
         },
         {
          "avg_temp": 8.365000000000002,
          "level": "berlin",
          "year": "1845-01-01T00:00:00"
         },
         {
          "avg_temp": 7.922500000000004,
          "level": "world",
          "year": "1845-01-01T00:00:00"
         },
         {
          "avg_temp": 8.697500000000003,
          "level": "berlin",
          "year": "1846-01-01T00:00:00"
         },
         {
          "avg_temp": 8.055000000000003,
          "level": "world",
          "year": "1846-01-01T00:00:00"
         },
         {
          "avg_temp": 8.462500000000004,
          "level": "berlin",
          "year": "1847-01-01T00:00:00"
         },
         {
          "avg_temp": 8.035000000000004,
          "level": "world",
          "year": "1847-01-01T00:00:00"
         },
         {
          "avg_temp": 8.687500000000004,
          "level": "berlin",
          "year": "1848-01-01T00:00:00"
         },
         {
          "avg_temp": 8.117500000000005,
          "level": "world",
          "year": "1848-01-01T00:00:00"
         },
         {
          "avg_temp": 8.715000000000003,
          "level": "berlin",
          "year": "1849-01-01T00:00:00"
         },
         {
          "avg_temp": 8.150000000000004,
          "level": "world",
          "year": "1849-01-01T00:00:00"
         },
         {
          "avg_temp": 8.305000000000003,
          "level": "berlin",
          "year": "1850-01-01T00:00:00"
         },
         {
          "avg_temp": 7.987500000000003,
          "level": "world",
          "year": "1850-01-01T00:00:00"
         },
         {
          "avg_temp": 8.370000000000003,
          "level": "berlin",
          "year": "1851-01-01T00:00:00"
         },
         {
          "avg_temp": 8.010000000000002,
          "level": "world",
          "year": "1851-01-01T00:00:00"
         },
         {
          "avg_temp": 8.567500000000003,
          "level": "berlin",
          "year": "1852-01-01T00:00:00"
         },
         {
          "avg_temp": 8.040000000000003,
          "level": "world",
          "year": "1852-01-01T00:00:00"
         },
         {
          "avg_temp": 8.447500000000002,
          "level": "berlin",
          "year": "1853-01-01T00:00:00"
         },
         {
          "avg_temp": 8.055000000000003,
          "level": "world",
          "year": "1853-01-01T00:00:00"
         },
         {
          "avg_temp": 8.57,
          "level": "berlin",
          "year": "1854-01-01T00:00:00"
         },
         {
          "avg_temp": 8.132500000000004,
          "level": "world",
          "year": "1854-01-01T00:00:00"
         },
         {
          "avg_temp": 8.2125,
          "level": "berlin",
          "year": "1855-01-01T00:00:00"
         },
         {
          "avg_temp": 8.115000000000004,
          "level": "world",
          "year": "1855-01-01T00:00:00"
         },
         {
          "avg_temp": 7.952500000000001,
          "level": "berlin",
          "year": "1856-01-01T00:00:00"
         },
         {
          "avg_temp": 8.090000000000003,
          "level": "world",
          "year": "1856-01-01T00:00:00"
         },
         {
          "avg_temp": 8.412500000000001,
          "level": "berlin",
          "year": "1857-01-01T00:00:00"
         },
         {
          "avg_temp": 8.020000000000003,
          "level": "world",
          "year": "1857-01-01T00:00:00"
         },
         {
          "avg_temp": 8.232500000000002,
          "level": "berlin",
          "year": "1858-01-01T00:00:00"
         },
         {
          "avg_temp": 7.992500000000003,
          "level": "world",
          "year": "1858-01-01T00:00:00"
         },
         {
          "avg_temp": 8.865000000000002,
          "level": "berlin",
          "year": "1859-01-01T00:00:00"
         },
         {
          "avg_temp": 8.027500000000003,
          "level": "world",
          "year": "1859-01-01T00:00:00"
         },
         {
          "avg_temp": 8.740000000000002,
          "level": "berlin",
          "year": "1860-01-01T00:00:00"
         },
         {
          "avg_temp": 8.017500000000004,
          "level": "world",
          "year": "1860-01-01T00:00:00"
         },
         {
          "avg_temp": 8.610000000000001,
          "level": "berlin",
          "year": "1861-01-01T00:00:00"
         },
         {
          "avg_temp": 8.040000000000004,
          "level": "world",
          "year": "1861-01-01T00:00:00"
         },
         {
          "avg_temp": 8.845000000000002,
          "level": "berlin",
          "year": "1862-01-01T00:00:00"
         },
         {
          "avg_temp": 7.905000000000005,
          "level": "world",
          "year": "1862-01-01T00:00:00"
         },
         {
          "avg_temp": 8.897500000000003,
          "level": "berlin",
          "year": "1863-01-01T00:00:00"
         },
         {
          "avg_temp": 7.8700000000000045,
          "level": "world",
          "year": "1863-01-01T00:00:00"
         },
         {
          "avg_temp": 8.645000000000003,
          "level": "berlin",
          "year": "1864-01-01T00:00:00"
         },
         {
          "avg_temp": 7.875000000000005,
          "level": "world",
          "year": "1864-01-01T00:00:00"
         },
         {
          "avg_temp": 8.647500000000004,
          "level": "berlin",
          "year": "1865-01-01T00:00:00"
         },
         {
          "avg_temp": 7.957500000000005,
          "level": "world",
          "year": "1865-01-01T00:00:00"
         },
         {
          "avg_temp": 8.780000000000005,
          "level": "berlin",
          "year": "1866-01-01T00:00:00"
         },
         {
          "avg_temp": 8.140000000000004,
          "level": "world",
          "year": "1866-01-01T00:00:00"
         },
         {
          "avg_temp": 8.430000000000003,
          "level": "berlin",
          "year": "1867-01-01T00:00:00"
         },
         {
          "avg_temp": 8.222500000000004,
          "level": "world",
          "year": "1867-01-01T00:00:00"
         },
         {
          "avg_temp": 9.242500000000003,
          "level": "berlin",
          "year": "1868-01-01T00:00:00"
         },
         {
          "avg_temp": 8.290000000000003,
          "level": "world",
          "year": "1868-01-01T00:00:00"
         },
         {
          "avg_temp": 9.287500000000003,
          "level": "berlin",
          "year": "1869-01-01T00:00:00"
         },
         {
          "avg_temp": 8.352500000000003,
          "level": "world",
          "year": "1869-01-01T00:00:00"
         },
         {
          "avg_temp": 8.820000000000004,
          "level": "berlin",
          "year": "1870-01-01T00:00:00"
         },
         {
          "avg_temp": 8.330000000000004,
          "level": "world",
          "year": "1870-01-01T00:00:00"
         },
         {
          "avg_temp": 8.487500000000004,
          "level": "berlin",
          "year": "1871-01-01T00:00:00"
         },
         {
          "avg_temp": 8.250000000000004,
          "level": "world",
          "year": "1871-01-01T00:00:00"
         },
         {
          "avg_temp": 8.420000000000003,
          "level": "berlin",
          "year": "1872-01-01T00:00:00"
         },
         {
          "avg_temp": 8.235000000000003,
          "level": "world",
          "year": "1872-01-01T00:00:00"
         },
         {
          "avg_temp": 8.472500000000004,
          "level": "berlin",
          "year": "1873-01-01T00:00:00"
         },
         {
          "avg_temp": 8.215000000000003,
          "level": "world",
          "year": "1873-01-01T00:00:00"
         },
         {
          "avg_temp": 8.850000000000003,
          "level": "berlin",
          "year": "1874-01-01T00:00:00"
         },
         {
          "avg_temp": 8.272500000000004,
          "level": "world",
          "year": "1874-01-01T00:00:00"
         },
         {
          "avg_temp": 9.090000000000003,
          "level": "berlin",
          "year": "1875-01-01T00:00:00"
         },
         {
          "avg_temp": 8.207500000000005,
          "level": "world",
          "year": "1875-01-01T00:00:00"
         },
         {
          "avg_temp": 8.757500000000004,
          "level": "berlin",
          "year": "1876-01-01T00:00:00"
         },
         {
          "avg_temp": 8.180000000000005,
          "level": "world",
          "year": "1876-01-01T00:00:00"
         },
         {
          "avg_temp": 8.677500000000006,
          "level": "berlin",
          "year": "1877-01-01T00:00:00"
         },
         {
          "avg_temp": 8.227500000000004,
          "level": "world",
          "year": "1877-01-01T00:00:00"
         },
         {
          "avg_temp": 8.752500000000007,
          "level": "berlin",
          "year": "1878-01-01T00:00:00"
         },
         {
          "avg_temp": 8.327500000000004,
          "level": "world",
          "year": "1878-01-01T00:00:00"
         },
         {
          "avg_temp": 8.607500000000007,
          "level": "berlin",
          "year": "1879-01-01T00:00:00"
         },
         {
          "avg_temp": 8.405000000000005,
          "level": "world",
          "year": "1879-01-01T00:00:00"
         },
         {
          "avg_temp": 8.717500000000006,
          "level": "berlin",
          "year": "1880-01-01T00:00:00"
         },
         {
          "avg_temp": 8.415000000000004,
          "level": "world",
          "year": "1880-01-01T00:00:00"
         },
         {
          "avg_temp": 8.417500000000008,
          "level": "berlin",
          "year": "1881-01-01T00:00:00"
         },
         {
          "avg_temp": 8.347500000000005,
          "level": "world",
          "year": "1881-01-01T00:00:00"
         },
         {
          "avg_temp": 8.392500000000007,
          "level": "berlin",
          "year": "1882-01-01T00:00:00"
         },
         {
          "avg_temp": 8.172500000000007,
          "level": "world",
          "year": "1882-01-01T00:00:00"
         },
         {
          "avg_temp": 8.662500000000007,
          "level": "berlin",
          "year": "1883-01-01T00:00:00"
         },
         {
          "avg_temp": 8.125000000000007,
          "level": "world",
          "year": "1883-01-01T00:00:00"
         },
         {
          "avg_temp": 8.692500000000006,
          "level": "berlin",
          "year": "1884-01-01T00:00:00"
         },
         {
          "avg_temp": 8.037500000000007,
          "level": "world",
          "year": "1884-01-01T00:00:00"
         },
         {
          "avg_temp": 8.872500000000006,
          "level": "berlin",
          "year": "1885-01-01T00:00:00"
         },
         {
          "avg_temp": 7.950000000000007,
          "level": "world",
          "year": "1885-01-01T00:00:00"
         },
         {
          "avg_temp": 8.690000000000005,
          "level": "berlin",
          "year": "1886-01-01T00:00:00"
         },
         {
          "avg_temp": 7.9050000000000065,
          "level": "world",
          "year": "1886-01-01T00:00:00"
         },
         {
          "avg_temp": 8.537500000000005,
          "level": "berlin",
          "year": "1887-01-01T00:00:00"
         },
         {
          "avg_temp": 7.887500000000007,
          "level": "world",
          "year": "1887-01-01T00:00:00"
         },
         {
          "avg_temp": 8.140000000000004,
          "level": "berlin",
          "year": "1888-01-01T00:00:00"
         },
         {
          "avg_temp": 7.967500000000007,
          "level": "world",
          "year": "1888-01-01T00:00:00"
         },
         {
          "avg_temp": 8.107500000000005,
          "level": "berlin",
          "year": "1889-01-01T00:00:00"
         },
         {
          "avg_temp": 8.067500000000006,
          "level": "world",
          "year": "1889-01-01T00:00:00"
         },
         {
          "avg_temp": 8.057500000000005,
          "level": "berlin",
          "year": "1890-01-01T00:00:00"
         },
         {
          "avg_temp": 8.072500000000005,
          "level": "world",
          "year": "1890-01-01T00:00:00"
         },
         {
          "avg_temp": 8.195000000000006,
          "level": "berlin",
          "year": "1891-01-01T00:00:00"
         },
         {
          "avg_temp": 8.100000000000005,
          "level": "world",
          "year": "1891-01-01T00:00:00"
         },
         {
          "avg_temp": 8.362500000000006,
          "level": "berlin",
          "year": "1892-01-01T00:00:00"
         },
         {
          "avg_temp": 8.095000000000006,
          "level": "world",
          "year": "1892-01-01T00:00:00"
         },
         {
          "avg_temp": 8.402500000000007,
          "level": "berlin",
          "year": "1893-01-01T00:00:00"
         },
         {
          "avg_temp": 8.030000000000006,
          "level": "world",
          "year": "1893-01-01T00:00:00"
         },
         {
          "avg_temp": 8.555000000000007,
          "level": "berlin",
          "year": "1894-01-01T00:00:00"
         },
         {
          "avg_temp": 8.077500000000008,
          "level": "world",
          "year": "1894-01-01T00:00:00"
         },
         {
          "avg_temp": 8.505000000000006,
          "level": "berlin",
          "year": "1895-01-01T00:00:00"
         },
         {
          "avg_temp": 8.110000000000007,
          "level": "world",
          "year": "1895-01-01T00:00:00"
         },
         {
          "avg_temp": 8.577500000000006,
          "level": "berlin",
          "year": "1896-01-01T00:00:00"
         },
         {
          "avg_temp": 8.145000000000007,
          "level": "world",
          "year": "1896-01-01T00:00:00"
         },
         {
          "avg_temp": 8.625000000000005,
          "level": "berlin",
          "year": "1897-01-01T00:00:00"
         },
         {
          "avg_temp": 8.202500000000006,
          "level": "world",
          "year": "1897-01-01T00:00:00"
         },
         {
          "avg_temp": 8.740000000000006,
          "level": "berlin",
          "year": "1898-01-01T00:00:00"
         },
         {
          "avg_temp": 8.207500000000007,
          "level": "world",
          "year": "1898-01-01T00:00:00"
         },
         {
          "avg_temp": 8.910000000000005,
          "level": "berlin",
          "year": "1899-01-01T00:00:00"
         },
         {
          "avg_temp": 8.270000000000007,
          "level": "world",
          "year": "1899-01-01T00:00:00"
         },
         {
          "avg_temp": 9.057500000000006,
          "level": "berlin",
          "year": "1900-01-01T00:00:00"
         },
         {
          "avg_temp": 8.342500000000006,
          "level": "world",
          "year": "1900-01-01T00:00:00"
         },
         {
          "avg_temp": 9.030000000000006,
          "level": "berlin",
          "year": "1901-01-01T00:00:00"
         },
         {
          "avg_temp": 8.405000000000006,
          "level": "world",
          "year": "1901-01-01T00:00:00"
         },
         {
          "avg_temp": 8.582500000000007,
          "level": "berlin",
          "year": "1902-01-01T00:00:00"
         },
         {
          "avg_temp": 8.435000000000008,
          "level": "world",
          "year": "1902-01-01T00:00:00"
         },
         {
          "avg_temp": 8.662500000000007,
          "level": "berlin",
          "year": "1903-01-01T00:00:00"
         },
         {
          "avg_temp": 8.390000000000008,
          "level": "world",
          "year": "1903-01-01T00:00:00"
         },
         {
          "avg_temp": 8.660000000000007,
          "level": "berlin",
          "year": "1904-01-01T00:00:00"
         },
         {
          "avg_temp": 8.287500000000009,
          "level": "world",
          "year": "1904-01-01T00:00:00"
         },
         {
          "avg_temp": 8.740000000000007,
          "level": "berlin",
          "year": "1905-01-01T00:00:00"
         },
         {
          "avg_temp": 8.21000000000001,
          "level": "world",
          "year": "1905-01-01T00:00:00"
         },
         {
          "avg_temp": 9.160000000000007,
          "level": "berlin",
          "year": "1906-01-01T00:00:00"
         },
         {
          "avg_temp": 8.230000000000011,
          "level": "world",
          "year": "1906-01-01T00:00:00"
         },
         {
          "avg_temp": 8.970000000000006,
          "level": "berlin",
          "year": "1907-01-01T00:00:00"
         },
         {
          "avg_temp": 8.162500000000012,
          "level": "world",
          "year": "1907-01-01T00:00:00"
         },
         {
          "avg_temp": 8.770000000000007,
          "level": "berlin",
          "year": "1908-01-01T00:00:00"
         },
         {
          "avg_temp": 8.18750000000001,
          "level": "world",
          "year": "1908-01-01T00:00:00"
         },
         {
          "avg_temp": 8.585000000000006,
          "level": "berlin",
          "year": "1909-01-01T00:00:00"
         },
         {
          "avg_temp": 8.175000000000011,
          "level": "world",
          "year": "1909-01-01T00:00:00"
         },
         {
          "avg_temp": 8.590000000000005,
          "level": "berlin",
          "year": "1910-01-01T00:00:00"
         },
         {
          "avg_temp": 8.13500000000001,
          "level": "world",
          "year": "1910-01-01T00:00:00"
         },
         {
          "avg_temp": 8.932500000000005,
          "level": "berlin",
          "year": "1911-01-01T00:00:00"
         },
         {
          "avg_temp": 8.19250000000001,
          "level": "world",
          "year": "1911-01-01T00:00:00"
         },
         {
          "avg_temp": 8.967500000000005,
          "level": "berlin",
          "year": "1912-01-01T00:00:00"
         },
         {
          "avg_temp": 8.18750000000001,
          "level": "world",
          "year": "1912-01-01T00:00:00"
         },
         {
          "avg_temp": 9.280000000000005,
          "level": "berlin",
          "year": "1913-01-01T00:00:00"
         },
         {
          "avg_temp": 8.21750000000001,
          "level": "world",
          "year": "1913-01-01T00:00:00"
         },
         {
          "avg_temp": 9.322500000000005,
          "level": "berlin",
          "year": "1914-01-01T00:00:00"
         },
         {
          "avg_temp": 8.31000000000001,
          "level": "world",
          "year": "1914-01-01T00:00:00"
         },
         {
          "avg_temp": 8.990000000000006,
          "level": "berlin",
          "year": "1915-01-01T00:00:00"
         },
         {
          "avg_temp": 8.41250000000001,
          "level": "world",
          "year": "1915-01-01T00:00:00"
         },
         {
          "avg_temp": 9.192500000000004,
          "level": "berlin",
          "year": "1916-01-01T00:00:00"
         },
         {
          "avg_temp": 8.427500000000009,
          "level": "world",
          "year": "1916-01-01T00:00:00"
         },
         {
          "avg_temp": 8.937500000000004,
          "level": "berlin",
          "year": "1917-01-01T00:00:00"
         },
         {
          "avg_temp": 8.357500000000009,
          "level": "world",
          "year": "1917-01-01T00:00:00"
         },
         {
          "avg_temp": 8.917500000000004,
          "level": "berlin",
          "year": "1918-01-01T00:00:00"
         },
         {
          "avg_temp": 8.24250000000001,
          "level": "world",
          "year": "1918-01-01T00:00:00"
         },
         {
          "avg_temp": 8.777500000000003,
          "level": "berlin",
          "year": "1919-01-01T00:00:00"
         },
         {
          "avg_temp": 8.190000000000012,
          "level": "world",
          "year": "1919-01-01T00:00:00"
         },
         {
          "avg_temp": 8.795000000000002,
          "level": "berlin",
          "year": "1920-01-01T00:00:00"
         },
         {
          "avg_temp": 8.22250000000001,
          "level": "world",
          "year": "1920-01-01T00:00:00"
         },
         {
          "avg_temp": 9.142500000000002,
          "level": "berlin",
          "year": "1921-01-01T00:00:00"
         },
         {
          "avg_temp": 8.36000000000001,
          "level": "world",
          "year": "1921-01-01T00:00:00"
         },
         {
          "avg_temp": 8.727500000000001,
          "level": "berlin",
          "year": "1922-01-01T00:00:00"
         },
         {
          "avg_temp": 8.430000000000009,
          "level": "world",
          "year": "1922-01-01T00:00:00"
         },
         {
          "avg_temp": 8.8725,
          "level": "berlin",
          "year": "1923-01-01T00:00:00"
         },
         {
          "avg_temp": 8.440000000000008,
          "level": "world",
          "year": "1923-01-01T00:00:00"
         },
         {
          "avg_temp": 8.605000000000002,
          "level": "berlin",
          "year": "1924-01-01T00:00:00"
         },
         {
          "avg_temp": 8.477500000000008,
          "level": "world",
          "year": "1924-01-01T00:00:00"
         },
         {
          "avg_temp": 8.490000000000002,
          "level": "berlin",
          "year": "1925-01-01T00:00:00"
         },
         {
          "avg_temp": 8.467500000000008,
          "level": "world",
          "year": "1925-01-01T00:00:00"
         },
         {
          "avg_temp": 8.942500000000003,
          "level": "berlin",
          "year": "1926-01-01T00:00:00"
         },
         {
          "avg_temp": 8.54750000000001,
          "level": "world",
          "year": "1926-01-01T00:00:00"
         },
         {
          "avg_temp": 8.977500000000003,
          "level": "berlin",
          "year": "1927-01-01T00:00:00"
         },
         {
          "avg_temp": 8.572500000000009,
          "level": "world",
          "year": "1927-01-01T00:00:00"
         },
         {
          "avg_temp": 9.132500000000004,
          "level": "berlin",
          "year": "1928-01-01T00:00:00"
         },
         {
          "avg_temp": 8.60250000000001,
          "level": "world",
          "year": "1928-01-01T00:00:00"
         },
         {
          "avg_temp": 8.800000000000004,
          "level": "berlin",
          "year": "1929-01-01T00:00:00"
         },
         {
          "avg_temp": 8.53000000000001,
          "level": "world",
          "year": "1929-01-01T00:00:00"
         },
         {
          "avg_temp": 8.777500000000005,
          "level": "berlin",
          "year": "1930-01-01T00:00:00"
         },
         {
          "avg_temp": 8.50500000000001,
          "level": "world",
          "year": "1930-01-01T00:00:00"
         },
         {
          "avg_temp": 8.685000000000006,
          "level": "berlin",
          "year": "1931-01-01T00:00:00"
         },
         {
          "avg_temp": 8.55500000000001,
          "level": "world",
          "year": "1931-01-01T00:00:00"
         },
         {
          "avg_temp": 8.762500000000006,
          "level": "berlin",
          "year": "1932-01-01T00:00:00"
         },
         {
          "avg_temp": 8.57500000000001,
          "level": "world",
          "year": "1932-01-01T00:00:00"
         },
         {
          "avg_temp": 8.845000000000006,
          "level": "berlin",
          "year": "1933-01-01T00:00:00"
         },
         {
          "avg_temp": 8.60000000000001,
          "level": "world",
          "year": "1933-01-01T00:00:00"
         },
         {
          "avg_temp": 9.147500000000004,
          "level": "berlin",
          "year": "1934-01-01T00:00:00"
         },
         {
          "avg_temp": 8.60000000000001,
          "level": "world",
          "year": "1934-01-01T00:00:00"
         },
         {
          "avg_temp": 9.395000000000005,
          "level": "berlin",
          "year": "1935-01-01T00:00:00"
         },
         {
          "avg_temp": 8.550000000000011,
          "level": "world",
          "year": "1935-01-01T00:00:00"
         },
         {
          "avg_temp": 9.412500000000005,
          "level": "berlin",
          "year": "1936-01-01T00:00:00"
         },
         {
          "avg_temp": 8.51000000000001,
          "level": "world",
          "year": "1936-01-01T00:00:00"
         },
         {
          "avg_temp": 9.685000000000004,
          "level": "berlin",
          "year": "1937-01-01T00:00:00"
         },
         {
          "avg_temp": 8.600000000000009,
          "level": "world",
          "year": "1937-01-01T00:00:00"
         },
         {
          "avg_temp": 9.455000000000005,
          "level": "berlin",
          "year": "1938-01-01T00:00:00"
         },
         {
          "avg_temp": 8.657500000000008,
          "level": "world",
          "year": "1938-01-01T00:00:00"
         },
         {
          "avg_temp": 9.450000000000006,
          "level": "berlin",
          "year": "1939-01-01T00:00:00"
         },
         {
          "avg_temp": 8.717500000000008,
          "level": "world",
          "year": "1939-01-01T00:00:00"
         },
         {
          "avg_temp": 8.885000000000005,
          "level": "berlin",
          "year": "1940-01-01T00:00:00"
         },
         {
          "avg_temp": 8.770000000000007,
          "level": "world",
          "year": "1940-01-01T00:00:00"
         },
         {
          "avg_temp": 8.437500000000004,
          "level": "berlin",
          "year": "1941-01-01T00:00:00"
         },
         {
          "avg_temp": 8.787500000000005,
          "level": "world",
          "year": "1941-01-01T00:00:00"
         },
         {
          "avg_temp": 7.945000000000003,
          "level": "berlin",
          "year": "1942-01-01T00:00:00"
         },
         {
          "avg_temp": 8.755000000000006,
          "level": "world",
          "year": "1942-01-01T00:00:00"
         },
         {
          "avg_temp": 8.032500000000002,
          "level": "berlin",
          "year": "1943-01-01T00:00:00"
         },
         {
          "avg_temp": 8.755000000000006,
          "level": "world",
          "year": "1943-01-01T00:00:00"
         },
         {
          "avg_temp": 8.600000000000003,
          "level": "berlin",
          "year": "1944-01-01T00:00:00"
         },
         {
          "avg_temp": 8.777500000000007,
          "level": "world",
          "year": "1944-01-01T00:00:00"
         },
         {
          "avg_temp": 9.105000000000004,
          "level": "berlin",
          "year": "1945-01-01T00:00:00"
         },
         {
          "avg_temp": 8.730000000000008,
          "level": "world",
          "year": "1945-01-01T00:00:00"
         },
         {
          "avg_temp": 9.435000000000004,
          "level": "berlin",
          "year": "1946-01-01T00:00:00"
         },
         {
          "avg_temp": 8.717500000000008,
          "level": "world",
          "year": "1946-01-01T00:00:00"
         },
         {
          "avg_temp": 9.215000000000003,
          "level": "berlin",
          "year": "1947-01-01T00:00:00"
         },
         {
          "avg_temp": 8.727500000000008,
          "level": "world",
          "year": "1947-01-01T00:00:00"
         },
         {
          "avg_temp": 9.377500000000003,
          "level": "berlin",
          "year": "1948-01-01T00:00:00"
         },
         {
          "avg_temp": 8.702500000000008,
          "level": "world",
          "year": "1948-01-01T00:00:00"
         },
         {
          "avg_temp": 9.477500000000003,
          "level": "berlin",
          "year": "1949-01-01T00:00:00"
         },
         {
          "avg_temp": 8.705000000000009,
          "level": "world",
          "year": "1949-01-01T00:00:00"
         },
         {
          "avg_temp": 9.540000000000003,
          "level": "berlin",
          "year": "1950-01-01T00:00:00"
         },
         {
          "avg_temp": 8.627500000000008,
          "level": "world",
          "year": "1950-01-01T00:00:00"
         },
         {
          "avg_temp": 9.772500000000003,
          "level": "berlin",
          "year": "1951-01-01T00:00:00"
         },
         {
          "avg_temp": 8.585000000000008,
          "level": "world",
          "year": "1951-01-01T00:00:00"
         },
         {
          "avg_temp": 9.435000000000002,
          "level": "berlin",
          "year": "1952-01-01T00:00:00"
         },
         {
          "avg_temp": 8.557500000000008,
          "level": "world",
          "year": "1952-01-01T00:00:00"
         },
         {
          "avg_temp": 9.457500000000003,
          "level": "berlin",
          "year": "1953-01-01T00:00:00"
         },
         {
          "avg_temp": 8.627500000000008,
          "level": "world",
          "year": "1953-01-01T00:00:00"
         },
         {
          "avg_temp": 9.217500000000003,
          "level": "berlin",
          "year": "1954-01-01T00:00:00"
         },
         {
          "avg_temp": 8.67500000000001,
          "level": "world",
          "year": "1954-01-01T00:00:00"
         },
         {
          "avg_temp": 8.877500000000003,
          "level": "berlin",
          "year": "1955-01-01T00:00:00"
         },
         {
          "avg_temp": 8.67500000000001,
          "level": "world",
          "year": "1955-01-01T00:00:00"
         },
         {
          "avg_temp": 8.617500000000003,
          "level": "berlin",
          "year": "1956-01-01T00:00:00"
         },
         {
          "avg_temp": 8.58500000000001,
          "level": "world",
          "year": "1956-01-01T00:00:00"
         },
         {
          "avg_temp": 8.450000000000003,
          "level": "berlin",
          "year": "1957-01-01T00:00:00"
         },
         {
          "avg_temp": 8.55000000000001,
          "level": "world",
          "year": "1957-01-01T00:00:00"
         },
         {
          "avg_temp": 8.610000000000003,
          "level": "berlin",
          "year": "1958-01-01T00:00:00"
         },
         {
          "avg_temp": 8.60250000000001,
          "level": "world",
          "year": "1958-01-01T00:00:00"
         },
         {
          "avg_temp": 8.990000000000004,
          "level": "berlin",
          "year": "1959-01-01T00:00:00"
         },
         {
          "avg_temp": 8.62750000000001,
          "level": "world",
          "year": "1959-01-01T00:00:00"
         },
         {
          "avg_temp": 9.402500000000003,
          "level": "berlin",
          "year": "1960-01-01T00:00:00"
         },
         {
          "avg_temp": 8.70250000000001,
          "level": "world",
          "year": "1960-01-01T00:00:00"
         },
         {
          "avg_temp": 9.490000000000004,
          "level": "berlin",
          "year": "1961-01-01T00:00:00"
         },
         {
          "avg_temp": 8.72000000000001,
          "level": "world",
          "year": "1961-01-01T00:00:00"
         },
         {
          "avg_temp": 9.260000000000005,
          "level": "berlin",
          "year": "1962-01-01T00:00:00"
         },
         {
          "avg_temp": 8.71500000000001,
          "level": "world",
          "year": "1962-01-01T00:00:00"
         },
         {
          "avg_temp": 8.820000000000004,
          "level": "berlin",
          "year": "1963-01-01T00:00:00"
         },
         {
          "avg_temp": 8.74750000000001,
          "level": "world",
          "year": "1963-01-01T00:00:00"
         },
         {
          "avg_temp": 8.725000000000005,
          "level": "berlin",
          "year": "1964-01-01T00:00:00"
         },
         {
          "avg_temp": 8.705000000000009,
          "level": "world",
          "year": "1964-01-01T00:00:00"
         },
         {
          "avg_temp": 8.355000000000004,
          "level": "berlin",
          "year": "1965-01-01T00:00:00"
         },
         {
          "avg_temp": 8.63750000000001,
          "level": "world",
          "year": "1965-01-01T00:00:00"
         },
         {
          "avg_temp": 8.657500000000004,
          "level": "berlin",
          "year": "1966-01-01T00:00:00"
         },
         {
          "avg_temp": 8.60000000000001,
          "level": "world",
          "year": "1966-01-01T00:00:00"
         },
         {
          "avg_temp": 9.147500000000004,
          "level": "berlin",
          "year": "1967-01-01T00:00:00"
         },
         {
          "avg_temp": 8.56000000000001,
          "level": "world",
          "year": "1967-01-01T00:00:00"
         },
         {
          "avg_temp": 9.257500000000004,
          "level": "berlin",
          "year": "1968-01-01T00:00:00"
         },
         {
          "avg_temp": 8.58750000000001,
          "level": "world",
          "year": "1968-01-01T00:00:00"
         },
         {
          "avg_temp": 9.282500000000004,
          "level": "berlin",
          "year": "1969-01-01T00:00:00"
         },
         {
          "avg_temp": 8.60500000000001,
          "level": "world",
          "year": "1969-01-01T00:00:00"
         },
         {
          "avg_temp": 9.055000000000003,
          "level": "berlin",
          "year": "1970-01-01T00:00:00"
         },
         {
          "avg_temp": 8.630000000000008,
          "level": "world",
          "year": "1970-01-01T00:00:00"
         },
         {
          "avg_temp": 8.920000000000003,
          "level": "berlin",
          "year": "1971-01-01T00:00:00"
         },
         {
          "avg_temp": 8.605000000000008,
          "level": "world",
          "year": "1971-01-01T00:00:00"
         },
         {
          "avg_temp": 8.820000000000004,
          "level": "berlin",
          "year": "1972-01-01T00:00:00"
         },
         {
          "avg_temp": 8.600000000000009,
          "level": "world",
          "year": "1972-01-01T00:00:00"
         },
         {
          "avg_temp": 9.022500000000004,
          "level": "berlin",
          "year": "1973-01-01T00:00:00"
         },
         {
          "avg_temp": 8.687500000000009,
          "level": "world",
          "year": "1973-01-01T00:00:00"
         },
         {
          "avg_temp": 9.387500000000005,
          "level": "berlin",
          "year": "1974-01-01T00:00:00"
         },
         {
          "avg_temp": 8.63000000000001,
          "level": "world",
          "year": "1974-01-01T00:00:00"
         },
         {
          "avg_temp": 9.522500000000004,
          "level": "berlin",
          "year": "1975-01-01T00:00:00"
         },
         {
          "avg_temp": 8.66500000000001,
          "level": "world",
          "year": "1975-01-01T00:00:00"
         },
         {
          "avg_temp": 9.590000000000003,
          "level": "berlin",
          "year": "1976-01-01T00:00:00"
         },
         {
          "avg_temp": 8.62750000000001,
          "level": "world",
          "year": "1976-01-01T00:00:00"
         },
         {
          "avg_temp": 9.665000000000003,
          "level": "berlin",
          "year": "1977-01-01T00:00:00"
         },
         {
          "avg_temp": 8.60250000000001,
          "level": "world",
          "year": "1977-01-01T00:00:00"
         },
         {
          "avg_temp": 9.407500000000002,
          "level": "berlin",
          "year": "1978-01-01T00:00:00"
         },
         {
          "avg_temp": 8.65750000000001,
          "level": "world",
          "year": "1978-01-01T00:00:00"
         },
         {
          "avg_temp": 9.020000000000003,
          "level": "berlin",
          "year": "1979-01-01T00:00:00"
         },
         {
          "avg_temp": 8.65500000000001,
          "level": "world",
          "year": "1979-01-01T00:00:00"
         },
         {
          "avg_temp": 8.797500000000003,
          "level": "berlin",
          "year": "1980-01-01T00:00:00"
         },
         {
          "avg_temp": 8.812500000000009,
          "level": "world",
          "year": "1980-01-01T00:00:00"
         },
         {
          "avg_temp": 8.707500000000003,
          "level": "berlin",
          "year": "1981-01-01T00:00:00"
         },
         {
          "avg_temp": 8.892500000000009,
          "level": "world",
          "year": "1981-01-01T00:00:00"
         },
         {
          "avg_temp": 9.012500000000003,
          "level": "berlin",
          "year": "1982-01-01T00:00:00"
         },
         {
          "avg_temp": 8.88000000000001,
          "level": "world",
          "year": "1982-01-01T00:00:00"
         },
         {
          "avg_temp": 9.432500000000003,
          "level": "berlin",
          "year": "1983-01-01T00:00:00"
         },
         {
          "avg_temp": 8.955000000000009,
          "level": "world",
          "year": "1983-01-01T00:00:00"
         },
         {
          "avg_temp": 9.602500000000003,
          "level": "berlin",
          "year": "1984-01-01T00:00:00"
         },
         {
          "avg_temp": 8.882500000000007,
          "level": "world",
          "year": "1984-01-01T00:00:00"
         },
         {
          "avg_temp": 9.422500000000003,
          "level": "berlin",
          "year": "1985-01-01T00:00:00"
         },
         {
          "avg_temp": 8.755000000000006,
          "level": "world",
          "year": "1985-01-01T00:00:00"
         },
         {
          "avg_temp": 9.097500000000004,
          "level": "berlin",
          "year": "1986-01-01T00:00:00"
         },
         {
          "avg_temp": 8.802500000000006,
          "level": "world",
          "year": "1986-01-01T00:00:00"
         },
         {
          "avg_temp": 8.567500000000004,
          "level": "berlin",
          "year": "1987-01-01T00:00:00"
         },
         {
          "avg_temp": 8.792500000000006,
          "level": "world",
          "year": "1987-01-01T00:00:00"
         },
         {
          "avg_temp": 8.837500000000006,
          "level": "berlin",
          "year": "1988-01-01T00:00:00"
         },
         {
          "avg_temp": 8.920000000000005,
          "level": "world",
          "year": "1988-01-01T00:00:00"
         },
         {
          "avg_temp": 9.402500000000005,
          "level": "berlin",
          "year": "1989-01-01T00:00:00"
         },
         {
          "avg_temp": 8.985000000000007,
          "level": "world",
          "year": "1989-01-01T00:00:00"
         },
         {
          "avg_temp": 9.885000000000005,
          "level": "berlin",
          "year": "1990-01-01T00:00:00"
         },
         {
          "avg_temp": 9.085000000000008,
          "level": "world",
          "year": "1990-01-01T00:00:00"
         },
         {
          "avg_temp": 10.202500000000004,
          "level": "berlin",
          "year": "1991-01-01T00:00:00"
         },
         {
          "avg_temp": 9.132500000000007,
          "level": "world",
          "year": "1991-01-01T00:00:00"
         },
         {
          "avg_temp": 10.292500000000004,
          "level": "berlin",
          "year": "1992-01-01T00:00:00"
         },
         {
          "avg_temp": 9.042500000000008,
          "level": "world",
          "year": "1992-01-01T00:00:00"
         },
         {
          "avg_temp": 9.947500000000005,
          "level": "berlin",
          "year": "1993-01-01T00:00:00"
         },
         {
          "avg_temp": 9.030000000000006,
          "level": "world",
          "year": "1993-01-01T00:00:00"
         },
         {
          "avg_temp": 9.877500000000005,
          "level": "berlin",
          "year": "1994-01-01T00:00:00"
         },
         {
          "avg_temp": 8.982500000000005,
          "level": "world",
          "year": "1994-01-01T00:00:00"
         },
         {
          "avg_temp": 9.975000000000005,
          "level": "berlin",
          "year": "1995-01-01T00:00:00"
         },
         {
          "avg_temp": 9.025000000000006,
          "level": "world",
          "year": "1995-01-01T00:00:00"
         },
         {
          "avg_temp": 9.350000000000005,
          "level": "berlin",
          "year": "1996-01-01T00:00:00"
         },
         {
          "avg_temp": 9.075000000000006,
          "level": "world",
          "year": "1996-01-01T00:00:00"
         },
         {
          "avg_temp": 9.447500000000005,
          "level": "berlin",
          "year": "1997-01-01T00:00:00"
         },
         {
          "avg_temp": 9.157500000000008,
          "level": "world",
          "year": "1997-01-01T00:00:00"
         },
         {
          "avg_temp": 9.352500000000004,
          "level": "berlin",
          "year": "1998-01-01T00:00:00"
         },
         {
          "avg_temp": 9.277500000000009,
          "level": "world",
          "year": "1998-01-01T00:00:00"
         },
         {
          "avg_temp": 9.560000000000004,
          "level": "berlin",
          "year": "1999-01-01T00:00:00"
         },
         {
          "avg_temp": 9.262500000000008,
          "level": "world",
          "year": "1999-01-01T00:00:00"
         },
         {
          "avg_temp": 10.330000000000004,
          "level": "berlin",
          "year": "2000-01-01T00:00:00"
         },
         {
          "avg_temp": 9.302500000000007,
          "level": "world",
          "year": "2000-01-01T00:00:00"
         },
         {
          "avg_temp": 10.320000000000004,
          "level": "berlin",
          "year": "2001-01-01T00:00:00"
         },
         {
          "avg_temp": 9.355000000000008,
          "level": "world",
          "year": "2001-01-01T00:00:00"
         },
         {
          "avg_temp": 10.372500000000002,
          "level": "berlin",
          "year": "2002-01-01T00:00:00"
         },
         {
          "avg_temp": 9.367500000000007,
          "level": "world",
          "year": "2002-01-01T00:00:00"
         },
         {
          "avg_temp": 10.245000000000003,
          "level": "berlin",
          "year": "2003-01-01T00:00:00"
         },
         {
          "avg_temp": 9.427500000000007,
          "level": "world",
          "year": "2003-01-01T00:00:00"
         },
         {
          "avg_temp": 9.960000000000003,
          "level": "berlin",
          "year": "2004-01-01T00:00:00"
         },
         {
          "avg_temp": 9.457500000000007,
          "level": "world",
          "year": "2004-01-01T00:00:00"
         },
         {
          "avg_temp": 10.017500000000004,
          "level": "berlin",
          "year": "2005-01-01T00:00:00"
         },
         {
          "avg_temp": 9.530000000000008,
          "level": "world",
          "year": "2005-01-01T00:00:00"
         },
         {
          "avg_temp": 10.090000000000005,
          "level": "berlin",
          "year": "2006-01-01T00:00:00"
         },
         {
          "avg_temp": 9.520000000000008,
          "level": "world",
          "year": "2006-01-01T00:00:00"
         },
         {
          "avg_temp": 10.292500000000006,
          "level": "berlin",
          "year": "2007-01-01T00:00:00"
         },
         {
          "avg_temp": 9.570000000000007,
          "level": "world",
          "year": "2007-01-01T00:00:00"
         },
         {
          "avg_temp": 10.502500000000007,
          "level": "berlin",
          "year": "2008-01-01T00:00:00"
         },
         {
          "avg_temp": 9.597500000000007,
          "level": "world",
          "year": "2008-01-01T00:00:00"
         },
         {
          "avg_temp": 10.537500000000007,
          "level": "berlin",
          "year": "2009-01-01T00:00:00"
         },
         {
          "avg_temp": 9.550000000000008,
          "level": "world",
          "year": "2009-01-01T00:00:00"
         },
         {
          "avg_temp": 10.052500000000006,
          "level": "berlin",
          "year": "2010-01-01T00:00:00"
         },
         {
          "avg_temp": 9.592500000000008,
          "level": "world",
          "year": "2010-01-01T00:00:00"
         },
         {
          "avg_temp": 9.972500000000005,
          "level": "berlin",
          "year": "2011-01-01T00:00:00"
         },
         {
          "avg_temp": 9.540000000000006,
          "level": "world",
          "year": "2011-01-01T00:00:00"
         },
         {
          "avg_temp": 9.797500000000007,
          "level": "berlin",
          "year": "2012-01-01T00:00:00"
         },
         {
          "avg_temp": 9.560000000000006,
          "level": "world",
          "year": "2012-01-01T00:00:00"
         },
         {
          "avg_temp": 9.812500000000005,
          "level": "berlin",
          "year": "2013-01-01T00:00:00"
         },
         {
          "avg_temp": 9.585000000000006,
          "level": "world",
          "year": "2013-01-01T00:00:00"
         }
        ],
        "data-d5fc7cdb6ffd231e6951c8dd8a82b397": [
         {
          "avg_temp": 8.688125,
          "level": "berlin",
          "year": "1765-01-01T00:00:00"
         },
         {
          "avg_temp": 8.063749999999999,
          "level": "world",
          "year": "1765-01-01T00:00:00"
         },
         {
          "avg_temp": 8.628124999999999,
          "level": "berlin",
          "year": "1766-01-01T00:00:00"
         },
         {
          "avg_temp": 8.044374999999999,
          "level": "world",
          "year": "1766-01-01T00:00:00"
         },
         {
          "avg_temp": 8.5275,
          "level": "berlin",
          "year": "1767-01-01T00:00:00"
         },
         {
          "avg_temp": 8.059375,
          "level": "world",
          "year": "1767-01-01T00:00:00"
         },
         {
          "avg_temp": 8.726875,
          "level": "berlin",
          "year": "1768-01-01T00:00:00"
         },
         {
          "avg_temp": 8.121875,
          "level": "world",
          "year": "1768-01-01T00:00:00"
         },
         {
          "avg_temp": 8.710625,
          "level": "berlin",
          "year": "1769-01-01T00:00:00"
         },
         {
          "avg_temp": 8.078125,
          "level": "world",
          "year": "1769-01-01T00:00:00"
         },
         {
          "avg_temp": 8.71125,
          "level": "berlin",
          "year": "1770-01-01T00:00:00"
         },
         {
          "avg_temp": 8.029375,
          "level": "world",
          "year": "1770-01-01T00:00:00"
         },
         {
          "avg_temp": 8.660625,
          "level": "berlin",
          "year": "1771-01-01T00:00:00"
         },
         {
          "avg_temp": 7.9975,
          "level": "world",
          "year": "1771-01-01T00:00:00"
         },
         {
          "avg_temp": 8.629999999999999,
          "level": "berlin",
          "year": "1772-01-01T00:00:00"
         },
         {
          "avg_temp": 7.956250000000001,
          "level": "world",
          "year": "1772-01-01T00:00:00"
         },
         {
          "avg_temp": 8.653125,
          "level": "berlin",
          "year": "1773-01-01T00:00:00"
         },
         {
          "avg_temp": 7.906250000000001,
          "level": "world",
          "year": "1773-01-01T00:00:00"
         },
         {
          "avg_temp": 8.66625,
          "level": "berlin",
          "year": "1774-01-01T00:00:00"
         },
         {
          "avg_temp": 8.033125,
          "level": "world",
          "year": "1774-01-01T00:00:00"
         },
         {
          "avg_temp": 8.7325,
          "level": "berlin",
          "year": "1775-01-01T00:00:00"
         },
         {
          "avg_temp": 8.1075,
          "level": "world",
          "year": "1775-01-01T00:00:00"
         },
         {
          "avg_temp": 8.693124999999998,
          "level": "berlin",
          "year": "1776-01-01T00:00:00"
         },
         {
          "avg_temp": 8.176875,
          "level": "world",
          "year": "1776-01-01T00:00:00"
         },
         {
          "avg_temp": 8.619374999999998,
          "level": "berlin",
          "year": "1777-01-01T00:00:00"
         },
         {
          "avg_temp": 8.145,
          "level": "world",
          "year": "1777-01-01T00:00:00"
         },
         {
          "avg_temp": 8.675624999999998,
          "level": "berlin",
          "year": "1778-01-01T00:00:00"
         },
         {
          "avg_temp": 8.140625,
          "level": "world",
          "year": "1778-01-01T00:00:00"
         },
         {
          "avg_temp": 8.791249999999998,
          "level": "berlin",
          "year": "1779-01-01T00:00:00"
         },
         {
          "avg_temp": 8.233125,
          "level": "world",
          "year": "1779-01-01T00:00:00"
         },
         {
          "avg_temp": 8.783124999999998,
          "level": "berlin",
          "year": "1780-01-01T00:00:00"
         },
         {
          "avg_temp": 8.2975,
          "level": "world",
          "year": "1780-01-01T00:00:00"
         },
         {
          "avg_temp": 8.873124999999998,
          "level": "berlin",
          "year": "1781-01-01T00:00:00"
         },
         {
          "avg_temp": 8.288124999999999,
          "level": "world",
          "year": "1781-01-01T00:00:00"
         },
         {
          "avg_temp": 8.856874999999999,
          "level": "berlin",
          "year": "1782-01-01T00:00:00"
         },
         {
          "avg_temp": 8.25625,
          "level": "world",
          "year": "1782-01-01T00:00:00"
         },
         {
          "avg_temp": 8.958124999999999,
          "level": "berlin",
          "year": "1783-01-01T00:00:00"
         },
         {
          "avg_temp": 8.2225,
          "level": "world",
          "year": "1783-01-01T00:00:00"
         },
         {
          "avg_temp": 8.935624999999998,
          "level": "berlin",
          "year": "1784-01-01T00:00:00"
         },
         {
          "avg_temp": 8.290000000000001,
          "level": "world",
          "year": "1784-01-01T00:00:00"
         },
         {
          "avg_temp": 8.870624999999997,
          "level": "berlin",
          "year": "1785-01-01T00:00:00"
         },
         {
          "avg_temp": 8.269375000000002,
          "level": "world",
          "year": "1785-01-01T00:00:00"
         },
         {
          "avg_temp": 8.819374999999997,
          "level": "berlin",
          "year": "1786-01-01T00:00:00"
         },
         {
          "avg_temp": 8.305000000000001,
          "level": "world",
          "year": "1786-01-01T00:00:00"
         },
         {
          "avg_temp": 8.933124999999999,
          "level": "berlin",
          "year": "1787-01-01T00:00:00"
         },
         {
          "avg_temp": 8.316250000000002,
          "level": "world",
          "year": "1787-01-01T00:00:00"
         },
         {
          "avg_temp": 8.883125,
          "level": "berlin",
          "year": "1788-01-01T00:00:00"
         },
         {
          "avg_temp": 8.332500000000001,
          "level": "world",
          "year": "1788-01-01T00:00:00"
         },
         {
          "avg_temp": 8.85,
          "level": "berlin",
          "year": "1789-01-01T00:00:00"
         },
         {
          "avg_temp": 8.339375000000002,
          "level": "world",
          "year": "1789-01-01T00:00:00"
         },
         {
          "avg_temp": 8.889375,
          "level": "berlin",
          "year": "1790-01-01T00:00:00"
         },
         {
          "avg_temp": 8.290000000000001,
          "level": "world",
          "year": "1790-01-01T00:00:00"
         },
         {
          "avg_temp": 8.855,
          "level": "berlin",
          "year": "1791-01-01T00:00:00"
         },
         {
          "avg_temp": 8.230625,
          "level": "world",
          "year": "1791-01-01T00:00:00"
         },
         {
          "avg_temp": 8.888750000000002,
          "level": "berlin",
          "year": "1792-01-01T00:00:00"
         },
         {
          "avg_temp": 8.2175,
          "level": "world",
          "year": "1792-01-01T00:00:00"
         },
         {
          "avg_temp": 8.944375000000003,
          "level": "berlin",
          "year": "1793-01-01T00:00:00"
         },
         {
          "avg_temp": 8.215625,
          "level": "world",
          "year": "1793-01-01T00:00:00"
         },
         {
          "avg_temp": 8.981250000000003,
          "level": "berlin",
          "year": "1794-01-01T00:00:00"
         },
         {
          "avg_temp": 8.215,
          "level": "world",
          "year": "1794-01-01T00:00:00"
         },
         {
          "avg_temp": 8.881250000000003,
          "level": "berlin",
          "year": "1795-01-01T00:00:00"
         },
         {
          "avg_temp": 8.175625,
          "level": "world",
          "year": "1795-01-01T00:00:00"
         },
         {
          "avg_temp": 8.895625000000003,
          "level": "berlin",
          "year": "1796-01-01T00:00:00"
         },
         {
          "avg_temp": 8.103125,
          "level": "world",
          "year": "1796-01-01T00:00:00"
         },
         {
          "avg_temp": 8.901250000000003,
          "level": "berlin",
          "year": "1797-01-01T00:00:00"
         },
         {
          "avg_temp": 8.12875,
          "level": "world",
          "year": "1797-01-01T00:00:00"
         },
         {
          "avg_temp": 8.946250000000003,
          "level": "berlin",
          "year": "1798-01-01T00:00:00"
         },
         {
          "avg_temp": 8.176874999999999,
          "level": "world",
          "year": "1798-01-01T00:00:00"
         },
         {
          "avg_temp": 8.756250000000003,
          "level": "berlin",
          "year": "1799-01-01T00:00:00"
         },
         {
          "avg_temp": 8.228749999999998,
          "level": "world",
          "year": "1799-01-01T00:00:00"
         },
         {
          "avg_temp": 8.814375000000004,
          "level": "berlin",
          "year": "1800-01-01T00:00:00"
         },
         {
          "avg_temp": 8.267499999999997,
          "level": "world",
          "year": "1800-01-01T00:00:00"
         },
         {
          "avg_temp": 8.951250000000003,
          "level": "berlin",
          "year": "1801-01-01T00:00:00"
         },
         {
          "avg_temp": 8.344374999999996,
          "level": "world",
          "year": "1801-01-01T00:00:00"
         },
         {
          "avg_temp": 9.038750000000004,
          "level": "berlin",
          "year": "1802-01-01T00:00:00"
         },
         {
          "avg_temp": 8.364374999999997,
          "level": "world",
          "year": "1802-01-01T00:00:00"
         },
         {
          "avg_temp": 8.960625000000004,
          "level": "berlin",
          "year": "1803-01-01T00:00:00"
         },
         {
          "avg_temp": 8.393749999999997,
          "level": "world",
          "year": "1803-01-01T00:00:00"
         },
         {
          "avg_temp": 8.962500000000004,
          "level": "berlin",
          "year": "1804-01-01T00:00:00"
         },
         {
          "avg_temp": 8.418124999999998,
          "level": "world",
          "year": "1804-01-01T00:00:00"
         },
         {
          "avg_temp": 8.850625000000003,
          "level": "berlin",
          "year": "1805-01-01T00:00:00"
         },
         {
          "avg_temp": 8.432499999999997,
          "level": "world",
          "year": "1805-01-01T00:00:00"
         },
         {
          "avg_temp": 8.886875000000002,
          "level": "berlin",
          "year": "1806-01-01T00:00:00"
         },
         {
          "avg_temp": 8.460624999999999,
          "level": "world",
          "year": "1806-01-01T00:00:00"
         },
         {
          "avg_temp": 8.87875,
          "level": "berlin",
          "year": "1807-01-01T00:00:00"
         },
         {
          "avg_temp": 8.46375,
          "level": "world",
          "year": "1807-01-01T00:00:00"
         },
         {
          "avg_temp": 8.831875,
          "level": "berlin",
          "year": "1808-01-01T00:00:00"
         },
         {
          "avg_temp": 8.434999999999999,
          "level": "world",
          "year": "1808-01-01T00:00:00"
         },
         {
          "avg_temp": 8.799375,
          "level": "berlin",
          "year": "1809-01-01T00:00:00"
         },
         {
          "avg_temp": 8.363125,
          "level": "world",
          "year": "1809-01-01T00:00:00"
         },
         {
          "avg_temp": 8.701875,
          "level": "berlin",
          "year": "1810-01-01T00:00:00"
         },
         {
          "avg_temp": 8.2625,
          "level": "world",
          "year": "1810-01-01T00:00:00"
         },
         {
          "avg_temp": 8.768125,
          "level": "berlin",
          "year": "1811-01-01T00:00:00"
         },
         {
          "avg_temp": 8.169375,
          "level": "world",
          "year": "1811-01-01T00:00:00"
         },
         {
          "avg_temp": 8.664375,
          "level": "berlin",
          "year": "1812-01-01T00:00:00"
         },
         {
          "avg_temp": 8.093125,
          "level": "world",
          "year": "1812-01-01T00:00:00"
         },
         {
          "avg_temp": 8.57625,
          "level": "berlin",
          "year": "1813-01-01T00:00:00"
         },
         {
          "avg_temp": 8.045000000000002,
          "level": "world",
          "year": "1813-01-01T00:00:00"
         },
         {
          "avg_temp": 8.459375,
          "level": "berlin",
          "year": "1814-01-01T00:00:00"
         },
         {
          "avg_temp": 7.977500000000002,
          "level": "world",
          "year": "1814-01-01T00:00:00"
         },
         {
          "avg_temp": 8.563125,
          "level": "berlin",
          "year": "1815-01-01T00:00:00"
         },
         {
          "avg_temp": 7.898125000000001,
          "level": "world",
          "year": "1815-01-01T00:00:00"
         },
         {
          "avg_temp": 8.51,
          "level": "berlin",
          "year": "1816-01-01T00:00:00"
         },
         {
          "avg_temp": 7.801875000000002,
          "level": "world",
          "year": "1816-01-01T00:00:00"
         },
         {
          "avg_temp": 8.466874999999998,
          "level": "berlin",
          "year": "1817-01-01T00:00:00"
         },
         {
          "avg_temp": 7.701250000000002,
          "level": "world",
          "year": "1817-01-01T00:00:00"
         },
         {
          "avg_temp": 8.461874999999997,
          "level": "berlin",
          "year": "1818-01-01T00:00:00"
         },
         {
          "avg_temp": 7.654375000000003,
          "level": "world",
          "year": "1818-01-01T00:00:00"
         },
         {
          "avg_temp": 8.549999999999997,
          "level": "berlin",
          "year": "1819-01-01T00:00:00"
         },
         {
          "avg_temp": 7.583750000000002,
          "level": "world",
          "year": "1819-01-01T00:00:00"
         },
         {
          "avg_temp": 8.518749999999997,
          "level": "berlin",
          "year": "1820-01-01T00:00:00"
         },
         {
          "avg_temp": 7.507500000000002,
          "level": "world",
          "year": "1820-01-01T00:00:00"
         },
         {
          "avg_temp": 8.640624999999998,
          "level": "berlin",
          "year": "1821-01-01T00:00:00"
         },
         {
          "avg_temp": 7.478125000000002,
          "level": "world",
          "year": "1821-01-01T00:00:00"
         },
         {
          "avg_temp": 8.664375,
          "level": "berlin",
          "year": "1822-01-01T00:00:00"
         },
         {
          "avg_temp": 7.463125000000002,
          "level": "world",
          "year": "1822-01-01T00:00:00"
         },
         {
          "avg_temp": 8.591875,
          "level": "berlin",
          "year": "1823-01-01T00:00:00"
         },
         {
          "avg_temp": 7.428125000000001,
          "level": "world",
          "year": "1823-01-01T00:00:00"
         },
         {
          "avg_temp": 8.683124999999999,
          "level": "berlin",
          "year": "1824-01-01T00:00:00"
         },
         {
          "avg_temp": 7.4856250000000015,
          "level": "world",
          "year": "1824-01-01T00:00:00"
         },
         {
          "avg_temp": 8.724374999999998,
          "level": "berlin",
          "year": "1825-01-01T00:00:00"
         },
         {
          "avg_temp": 7.567500000000002,
          "level": "world",
          "year": "1825-01-01T00:00:00"
         },
         {
          "avg_temp": 8.779999999999998,
          "level": "berlin",
          "year": "1826-01-01T00:00:00"
         },
         {
          "avg_temp": 7.6575000000000015,
          "level": "world",
          "year": "1826-01-01T00:00:00"
         },
         {
          "avg_temp": 8.721249999999998,
          "level": "berlin",
          "year": "1827-01-01T00:00:00"
         },
         {
          "avg_temp": 7.779375000000001,
          "level": "world",
          "year": "1827-01-01T00:00:00"
         },
         {
          "avg_temp": 8.820624999999998,
          "level": "berlin",
          "year": "1828-01-01T00:00:00"
         },
         {
          "avg_temp": 7.849375000000001,
          "level": "world",
          "year": "1828-01-01T00:00:00"
         },
         {
          "avg_temp": 8.686874999999999,
          "level": "berlin",
          "year": "1829-01-01T00:00:00"
         },
         {
          "avg_temp": 7.861875000000002,
          "level": "world",
          "year": "1829-01-01T00:00:00"
         },
         {
          "avg_temp": 8.725624999999999,
          "level": "berlin",
          "year": "1830-01-01T00:00:00"
         },
         {
          "avg_temp": 7.920000000000002,
          "level": "world",
          "year": "1830-01-01T00:00:00"
         },
         {
          "avg_temp": 8.76,
          "level": "berlin",
          "year": "1831-01-01T00:00:00"
         },
         {
          "avg_temp": 7.945000000000001,
          "level": "world",
          "year": "1831-01-01T00:00:00"
         },
         {
          "avg_temp": 8.796875,
          "level": "berlin",
          "year": "1832-01-01T00:00:00"
         },
         {
          "avg_temp": 7.9768750000000015,
          "level": "world",
          "year": "1832-01-01T00:00:00"
         },
         {
          "avg_temp": 8.795,
          "level": "berlin",
          "year": "1833-01-01T00:00:00"
         },
         {
          "avg_temp": 8.041250000000002,
          "level": "world",
          "year": "1833-01-01T00:00:00"
         },
         {
          "avg_temp": 8.8825,
          "level": "berlin",
          "year": "1834-01-01T00:00:00"
         },
         {
          "avg_temp": 8.061250000000001,
          "level": "world",
          "year": "1834-01-01T00:00:00"
         },
         {
          "avg_temp": 8.84375,
          "level": "berlin",
          "year": "1835-01-01T00:00:00"
         },
         {
          "avg_temp": 8.0625,
          "level": "world",
          "year": "1835-01-01T00:00:00"
         },
         {
          "avg_temp": 8.907499999999999,
          "level": "berlin",
          "year": "1836-01-01T00:00:00"
         },
         {
          "avg_temp": 8.067499999999999,
          "level": "world",
          "year": "1836-01-01T00:00:00"
         },
         {
          "avg_temp": 8.843124999999999,
          "level": "berlin",
          "year": "1837-01-01T00:00:00"
         },
         {
          "avg_temp": 8.023124999999999,
          "level": "world",
          "year": "1837-01-01T00:00:00"
         },
         {
          "avg_temp": 8.651249999999997,
          "level": "berlin",
          "year": "1838-01-01T00:00:00"
         },
         {
          "avg_temp": 7.980624999999998,
          "level": "world",
          "year": "1838-01-01T00:00:00"
         },
         {
          "avg_temp": 8.674374999999998,
          "level": "berlin",
          "year": "1839-01-01T00:00:00"
         },
         {
          "avg_temp": 7.974999999999998,
          "level": "world",
          "year": "1839-01-01T00:00:00"
         },
         {
          "avg_temp": 8.557499999999997,
          "level": "berlin",
          "year": "1840-01-01T00:00:00"
         },
         {
          "avg_temp": 7.928124999999999,
          "level": "world",
          "year": "1840-01-01T00:00:00"
         },
         {
          "avg_temp": 8.541249999999998,
          "level": "berlin",
          "year": "1841-01-01T00:00:00"
         },
         {
          "avg_temp": 7.8843749999999995,
          "level": "world",
          "year": "1841-01-01T00:00:00"
         },
         {
          "avg_temp": 8.488749999999998,
          "level": "berlin",
          "year": "1842-01-01T00:00:00"
         },
         {
          "avg_temp": 7.863124999999999,
          "level": "world",
          "year": "1842-01-01T00:00:00"
         },
         {
          "avg_temp": 8.500624999999998,
          "level": "berlin",
          "year": "1843-01-01T00:00:00"
         },
         {
          "avg_temp": 7.823124999999999,
          "level": "world",
          "year": "1843-01-01T00:00:00"
         },
         {
          "avg_temp": 8.432499999999997,
          "level": "berlin",
          "year": "1844-01-01T00:00:00"
         },
         {
          "avg_temp": 7.7906249999999995,
          "level": "world",
          "year": "1844-01-01T00:00:00"
         },
         {
          "avg_temp": 8.519999999999996,
          "level": "berlin",
          "year": "1845-01-01T00:00:00"
         },
         {
          "avg_temp": 7.785,
          "level": "world",
          "year": "1845-01-01T00:00:00"
         },
         {
          "avg_temp": 8.629999999999995,
          "level": "berlin",
          "year": "1846-01-01T00:00:00"
         },
         {
          "avg_temp": 7.786875000000001,
          "level": "world",
          "year": "1846-01-01T00:00:00"
         },
         {
          "avg_temp": 8.586874999999996,
          "level": "berlin",
          "year": "1847-01-01T00:00:00"
         },
         {
          "avg_temp": 7.815,
          "level": "world",
          "year": "1847-01-01T00:00:00"
         },
         {
          "avg_temp": 8.612499999999995,
          "level": "berlin",
          "year": "1848-01-01T00:00:00"
         },
         {
          "avg_temp": 7.8481250000000005,
          "level": "world",
          "year": "1848-01-01T00:00:00"
         },
         {
          "avg_temp": 8.558749999999996,
          "level": "berlin",
          "year": "1849-01-01T00:00:00"
         },
         {
          "avg_temp": 7.84625,
          "level": "world",
          "year": "1849-01-01T00:00:00"
         },
         {
          "avg_temp": 8.421249999999995,
          "level": "berlin",
          "year": "1850-01-01T00:00:00"
         },
         {
          "avg_temp": 7.8306249999999995,
          "level": "world",
          "year": "1850-01-01T00:00:00"
         },
         {
          "avg_temp": 8.401874999999995,
          "level": "berlin",
          "year": "1851-01-01T00:00:00"
         },
         {
          "avg_temp": 7.88,
          "level": "world",
          "year": "1851-01-01T00:00:00"
         },
         {
          "avg_temp": 8.443124999999995,
          "level": "berlin",
          "year": "1852-01-01T00:00:00"
         },
         {
          "avg_temp": 7.905,
          "level": "world",
          "year": "1852-01-01T00:00:00"
         },
         {
          "avg_temp": 8.407499999999995,
          "level": "berlin",
          "year": "1853-01-01T00:00:00"
         },
         {
          "avg_temp": 7.946250000000001,
          "level": "world",
          "year": "1853-01-01T00:00:00"
         },
         {
          "avg_temp": 8.514374999999996,
          "level": "berlin",
          "year": "1854-01-01T00:00:00"
         },
         {
          "avg_temp": 7.990000000000001,
          "level": "world",
          "year": "1854-01-01T00:00:00"
         },
         {
          "avg_temp": 8.416874999999996,
          "level": "berlin",
          "year": "1855-01-01T00:00:00"
         },
         {
          "avg_temp": 8.020000000000001,
          "level": "world",
          "year": "1855-01-01T00:00:00"
         },
         {
          "avg_temp": 8.464374999999995,
          "level": "berlin",
          "year": "1856-01-01T00:00:00"
         },
         {
          "avg_temp": 8.0325,
          "level": "world",
          "year": "1856-01-01T00:00:00"
         },
         {
          "avg_temp": 8.484999999999996,
          "level": "berlin",
          "year": "1857-01-01T00:00:00"
         },
         {
          "avg_temp": 8.036875,
          "level": "world",
          "year": "1857-01-01T00:00:00"
         },
         {
          "avg_temp": 8.451249999999996,
          "level": "berlin",
          "year": "1858-01-01T00:00:00"
         },
         {
          "avg_temp": 8.041875,
          "level": "world",
          "year": "1858-01-01T00:00:00"
         },
         {
          "avg_temp": 8.477499999999996,
          "level": "berlin",
          "year": "1859-01-01T00:00:00"
         },
         {
          "avg_temp": 8.046875,
          "level": "world",
          "year": "1859-01-01T00:00:00"
         },
         {
          "avg_temp": 8.486874999999996,
          "level": "berlin",
          "year": "1860-01-01T00:00:00"
         },
         {
          "avg_temp": 8.06625,
          "level": "world",
          "year": "1860-01-01T00:00:00"
         },
         {
          "avg_temp": 8.546249999999997,
          "level": "berlin",
          "year": "1861-01-01T00:00:00"
         },
         {
          "avg_temp": 8.06625,
          "level": "world",
          "year": "1861-01-01T00:00:00"
         },
         {
          "avg_temp": 8.488124999999997,
          "level": "berlin",
          "year": "1862-01-01T00:00:00"
         },
         {
          "avg_temp": 8.004375,
          "level": "world",
          "year": "1862-01-01T00:00:00"
         },
         {
          "avg_temp": 8.586249999999996,
          "level": "berlin",
          "year": "1863-01-01T00:00:00"
         },
         {
          "avg_temp": 8.005625,
          "level": "world",
          "year": "1863-01-01T00:00:00"
         },
         {
          "avg_temp": 8.476249999999997,
          "level": "berlin",
          "year": "1864-01-01T00:00:00"
         },
         {
          "avg_temp": 8.005625,
          "level": "world",
          "year": "1864-01-01T00:00:00"
         },
         {
          "avg_temp": 8.529374999999996,
          "level": "berlin",
          "year": "1865-01-01T00:00:00"
         },
         {
          "avg_temp": 8.018125000000001,
          "level": "world",
          "year": "1865-01-01T00:00:00"
         },
         {
          "avg_temp": 8.606874999999997,
          "level": "berlin",
          "year": "1866-01-01T00:00:00"
         },
         {
          "avg_temp": 8.0425,
          "level": "world",
          "year": "1866-01-01T00:00:00"
         },
         {
          "avg_temp": 8.601249999999997,
          "level": "berlin",
          "year": "1867-01-01T00:00:00"
         },
         {
          "avg_temp": 8.05875,
          "level": "world",
          "year": "1867-01-01T00:00:00"
         },
         {
          "avg_temp": 8.644999999999998,
          "level": "berlin",
          "year": "1868-01-01T00:00:00"
         },
         {
          "avg_temp": 8.068125,
          "level": "world",
          "year": "1868-01-01T00:00:00"
         },
         {
          "avg_temp": 8.739374999999997,
          "level": "berlin",
          "year": "1869-01-01T00:00:00"
         },
         {
          "avg_temp": 8.092500000000001,
          "level": "world",
          "year": "1869-01-01T00:00:00"
         },
         {
          "avg_temp": 8.669374999999997,
          "level": "berlin",
          "year": "1870-01-01T00:00:00"
         },
         {
          "avg_temp": 8.091875,
          "level": "world",
          "year": "1870-01-01T00:00:00"
         },
         {
          "avg_temp": 8.669999999999998,
          "level": "berlin",
          "year": "1871-01-01T00:00:00"
         },
         {
          "avg_temp": 8.092500000000001,
          "level": "world",
          "year": "1871-01-01T00:00:00"
         },
         {
          "avg_temp": 8.761874999999998,
          "level": "berlin",
          "year": "1872-01-01T00:00:00"
         },
         {
          "avg_temp": 8.104375000000001,
          "level": "world",
          "year": "1872-01-01T00:00:00"
         },
         {
          "avg_temp": 8.754375,
          "level": "berlin",
          "year": "1873-01-01T00:00:00"
         },
         {
          "avg_temp": 8.141250000000001,
          "level": "world",
          "year": "1873-01-01T00:00:00"
         },
         {
          "avg_temp": 8.82375,
          "level": "berlin",
          "year": "1874-01-01T00:00:00"
         },
         {
          "avg_temp": 8.161875000000002,
          "level": "world",
          "year": "1874-01-01T00:00:00"
         },
         {
          "avg_temp": 8.72625,
          "level": "berlin",
          "year": "1875-01-01T00:00:00"
         },
         {
          "avg_temp": 8.137500000000003,
          "level": "world",
          "year": "1875-01-01T00:00:00"
         },
         {
          "avg_temp": 8.76625,
          "level": "berlin",
          "year": "1876-01-01T00:00:00"
         },
         {
          "avg_temp": 8.145000000000003,
          "level": "world",
          "year": "1876-01-01T00:00:00"
         },
         {
          "avg_temp": 8.771249999999998,
          "level": "berlin",
          "year": "1877-01-01T00:00:00"
         },
         {
          "avg_temp": 8.188125000000003,
          "level": "world",
          "year": "1877-01-01T00:00:00"
         },
         {
          "avg_temp": 8.800624999999998,
          "level": "berlin",
          "year": "1878-01-01T00:00:00"
         },
         {
          "avg_temp": 8.267500000000004,
          "level": "world",
          "year": "1878-01-01T00:00:00"
         },
         {
          "avg_temp": 8.653749999999999,
          "level": "berlin",
          "year": "1879-01-01T00:00:00"
         },
         {
          "avg_temp": 8.271250000000002,
          "level": "world",
          "year": "1879-01-01T00:00:00"
         },
         {
          "avg_temp": 8.784374999999999,
          "level": "berlin",
          "year": "1880-01-01T00:00:00"
         },
         {
          "avg_temp": 8.280000000000003,
          "level": "world",
          "year": "1880-01-01T00:00:00"
         },
         {
          "avg_temp": 8.71375,
          "level": "berlin",
          "year": "1881-01-01T00:00:00"
         },
         {
          "avg_temp": 8.285625000000003,
          "level": "world",
          "year": "1881-01-01T00:00:00"
         },
         {
          "avg_temp": 8.70375,
          "level": "berlin",
          "year": "1882-01-01T00:00:00"
         },
         {
          "avg_temp": 8.275625000000003,
          "level": "world",
          "year": "1882-01-01T00:00:00"
         },
         {
          "avg_temp": 8.711875,
          "level": "berlin",
          "year": "1883-01-01T00:00:00"
         },
         {
          "avg_temp": 8.246875000000003,
          "level": "world",
          "year": "1883-01-01T00:00:00"
         },
         {
          "avg_temp": 8.646874999999998,
          "level": "berlin",
          "year": "1884-01-01T00:00:00"
         },
         {
          "avg_temp": 8.216875000000003,
          "level": "world",
          "year": "1884-01-01T00:00:00"
         },
         {
          "avg_temp": 8.609999999999998,
          "level": "berlin",
          "year": "1885-01-01T00:00:00"
         },
         {
          "avg_temp": 8.185000000000002,
          "level": "world",
          "year": "1885-01-01T00:00:00"
         },
         {
          "avg_temp": 8.671249999999999,
          "level": "berlin",
          "year": "1886-01-01T00:00:00"
         },
         {
          "avg_temp": 8.169375000000002,
          "level": "world",
          "year": "1886-01-01T00:00:00"
         },
         {
          "avg_temp": 8.724374999999998,
          "level": "berlin",
          "year": "1887-01-01T00:00:00"
         },
         {
          "avg_temp": 8.156250000000002,
          "level": "world",
          "year": "1887-01-01T00:00:00"
         },
         {
          "avg_temp": 8.576875,
          "level": "berlin",
          "year": "1888-01-01T00:00:00"
         },
         {
          "avg_temp": 8.150000000000002,
          "level": "world",
          "year": "1888-01-01T00:00:00"
         },
         {
          "avg_temp": 8.518749999999999,
          "level": "berlin",
          "year": "1889-01-01T00:00:00"
         },
         {
          "avg_temp": 8.148125000000002,
          "level": "world",
          "year": "1889-01-01T00:00:00"
         },
         {
          "avg_temp": 8.473124999999998,
          "level": "berlin",
          "year": "1890-01-01T00:00:00"
         },
         {
          "avg_temp": 8.119375000000002,
          "level": "world",
          "year": "1890-01-01T00:00:00"
         },
         {
          "avg_temp": 8.500624999999998,
          "level": "berlin",
          "year": "1891-01-01T00:00:00"
         },
         {
          "avg_temp": 8.129375000000001,
          "level": "world",
          "year": "1891-01-01T00:00:00"
         },
         {
          "avg_temp": 8.478124999999999,
          "level": "berlin",
          "year": "1892-01-01T00:00:00"
         },
         {
          "avg_temp": 8.12875,
          "level": "world",
          "year": "1892-01-01T00:00:00"
         },
         {
          "avg_temp": 8.45,
          "level": "berlin",
          "year": "1893-01-01T00:00:00"
         },
         {
          "avg_temp": 8.09875,
          "level": "world",
          "year": "1893-01-01T00:00:00"
         },
         {
          "avg_temp": 8.42375,
          "level": "berlin",
          "year": "1894-01-01T00:00:00"
         },
         {
          "avg_temp": 8.056875,
          "level": "world",
          "year": "1894-01-01T00:00:00"
         },
         {
          "avg_temp": 8.475,
          "level": "berlin",
          "year": "1895-01-01T00:00:00"
         },
         {
          "avg_temp": 8.055625000000001,
          "level": "world",
          "year": "1895-01-01T00:00:00"
         },
         {
          "avg_temp": 8.443124999999998,
          "level": "berlin",
          "year": "1896-01-01T00:00:00"
         },
         {
          "avg_temp": 8.061250000000001,
          "level": "world",
          "year": "1896-01-01T00:00:00"
         },
         {
          "avg_temp": 8.501874999999998,
          "level": "berlin",
          "year": "1897-01-01T00:00:00"
         },
         {
          "avg_temp": 8.0625,
          "level": "world",
          "year": "1897-01-01T00:00:00"
         },
         {
          "avg_temp": 8.510624999999997,
          "level": "berlin",
          "year": "1898-01-01T00:00:00"
         },
         {
          "avg_temp": 8.065625,
          "level": "world",
          "year": "1898-01-01T00:00:00"
         },
         {
          "avg_temp": 8.536874999999998,
          "level": "berlin",
          "year": "1899-01-01T00:00:00"
         },
         {
          "avg_temp": 8.091875000000002,
          "level": "world",
          "year": "1899-01-01T00:00:00"
         },
         {
          "avg_temp": 8.534374999999999,
          "level": "berlin",
          "year": "1900-01-01T00:00:00"
         },
         {
          "avg_temp": 8.137500000000001,
          "level": "world",
          "year": "1900-01-01T00:00:00"
         },
         {
          "avg_temp": 8.54125,
          "level": "berlin",
          "year": "1901-01-01T00:00:00"
         },
         {
          "avg_temp": 8.176250000000001,
          "level": "world",
          "year": "1901-01-01T00:00:00"
         },
         {
          "avg_temp": 8.483749999999999,
          "level": "berlin",
          "year": "1902-01-01T00:00:00"
         },
         {
          "avg_temp": 8.198125000000003,
          "level": "world",
          "year": "1902-01-01T00:00:00"
         },
         {
          "avg_temp": 8.568124999999998,
          "level": "berlin",
          "year": "1903-01-01T00:00:00"
         },
         {
          "avg_temp": 8.217500000000003,
          "level": "world",
          "year": "1903-01-01T00:00:00"
         },
         {
          "avg_temp": 8.664374999999998,
          "level": "berlin",
          "year": "1904-01-01T00:00:00"
         },
         {
          "avg_temp": 8.217500000000003,
          "level": "world",
          "year": "1904-01-01T00:00:00"
         },
         {
          "avg_temp": 8.699374999999998,
          "level": "berlin",
          "year": "1905-01-01T00:00:00"
         },
         {
          "avg_temp": 8.211875000000003,
          "level": "world",
          "year": "1905-01-01T00:00:00"
         },
         {
          "avg_temp": 8.759374999999999,
          "level": "berlin",
          "year": "1906-01-01T00:00:00"
         },
         {
          "avg_temp": 8.237500000000002,
          "level": "world",
          "year": "1906-01-01T00:00:00"
         },
         {
          "avg_temp": 8.761875,
          "level": "berlin",
          "year": "1907-01-01T00:00:00"
         },
         {
          "avg_temp": 8.233125000000001,
          "level": "world",
          "year": "1907-01-01T00:00:00"
         },
         {
          "avg_temp": 8.76625,
          "level": "berlin",
          "year": "1908-01-01T00:00:00"
         },
         {
          "avg_temp": 8.240625000000001,
          "level": "world",
          "year": "1908-01-01T00:00:00"
         },
         {
          "avg_temp": 8.745,
          "level": "berlin",
          "year": "1909-01-01T00:00:00"
         },
         {
          "avg_temp": 8.248125000000002,
          "level": "world",
          "year": "1909-01-01T00:00:00"
         },
         {
          "avg_temp": 8.768125,
          "level": "berlin",
          "year": "1910-01-01T00:00:00"
         },
         {
          "avg_temp": 8.251875000000002,
          "level": "world",
          "year": "1910-01-01T00:00:00"
         },
         {
          "avg_temp": 8.86875,
          "level": "berlin",
          "year": "1911-01-01T00:00:00"
         },
         {
          "avg_temp": 8.253750000000002,
          "level": "world",
          "year": "1911-01-01T00:00:00"
         },
         {
          "avg_temp": 8.863750000000001,
          "level": "berlin",
          "year": "1912-01-01T00:00:00"
         },
         {
          "avg_temp": 8.25125,
          "level": "world",
          "year": "1912-01-01T00:00:00"
         },
         {
          "avg_temp": 8.908750000000001,
          "level": "berlin",
          "year": "1913-01-01T00:00:00"
         },
         {
          "avg_temp": 8.251875000000002,
          "level": "world",
          "year": "1913-01-01T00:00:00"
         },
         {
          "avg_temp": 8.913750000000002,
          "level": "berlin",
          "year": "1914-01-01T00:00:00"
         },
         {
          "avg_temp": 8.277500000000002,
          "level": "world",
          "year": "1914-01-01T00:00:00"
         },
         {
          "avg_temp": 8.888750000000002,
          "level": "berlin",
          "year": "1915-01-01T00:00:00"
         },
         {
          "avg_temp": 8.289375000000001,
          "level": "world",
          "year": "1915-01-01T00:00:00"
         },
         {
          "avg_temp": 8.897500000000003,
          "level": "berlin",
          "year": "1916-01-01T00:00:00"
         },
         {
          "avg_temp": 8.2725,
          "level": "world",
          "year": "1916-01-01T00:00:00"
         },
         {
          "avg_temp": 8.885625000000003,
          "level": "berlin",
          "year": "1917-01-01T00:00:00"
         },
         {
          "avg_temp": 8.240000000000002,
          "level": "world",
          "year": "1917-01-01T00:00:00"
         },
         {
          "avg_temp": 8.997500000000002,
          "level": "berlin",
          "year": "1918-01-01T00:00:00"
         },
         {
          "avg_temp": 8.229375000000001,
          "level": "world",
          "year": "1918-01-01T00:00:00"
         },
         {
          "avg_temp": 8.917500000000002,
          "level": "berlin",
          "year": "1919-01-01T00:00:00"
         },
         {
          "avg_temp": 8.239375,
          "level": "world",
          "year": "1919-01-01T00:00:00"
         },
         {
          "avg_temp": 8.931250000000002,
          "level": "berlin",
          "year": "1920-01-01T00:00:00"
         },
         {
          "avg_temp": 8.25625,
          "level": "world",
          "year": "1920-01-01T00:00:00"
         },
         {
          "avg_temp": 8.986250000000002,
          "level": "berlin",
          "year": "1921-01-01T00:00:00"
         },
         {
          "avg_temp": 8.2775,
          "level": "world",
          "year": "1921-01-01T00:00:00"
         },
         {
          "avg_temp": 8.889375000000001,
          "level": "berlin",
          "year": "1922-01-01T00:00:00"
         },
         {
          "avg_temp": 8.279375,
          "level": "world",
          "year": "1922-01-01T00:00:00"
         },
         {
          "avg_temp": 8.893125000000001,
          "level": "berlin",
          "year": "1923-01-01T00:00:00"
         },
         {
          "avg_temp": 8.30875,
          "level": "world",
          "year": "1923-01-01T00:00:00"
         },
         {
          "avg_temp": 8.890000000000002,
          "level": "berlin",
          "year": "1924-01-01T00:00:00"
         },
         {
          "avg_temp": 8.32875,
          "level": "world",
          "year": "1924-01-01T00:00:00"
         },
         {
          "avg_temp": 8.962500000000002,
          "level": "berlin",
          "year": "1925-01-01T00:00:00"
         },
         {
          "avg_temp": 8.350624999999999,
          "level": "world",
          "year": "1925-01-01T00:00:00"
         },
         {
          "avg_temp": 8.977500000000001,
          "level": "berlin",
          "year": "1926-01-01T00:00:00"
         },
         {
          "avg_temp": 8.382499999999999,
          "level": "world",
          "year": "1926-01-01T00:00:00"
         },
         {
          "avg_temp": 8.904375000000002,
          "level": "berlin",
          "year": "1927-01-01T00:00:00"
         },
         {
          "avg_temp": 8.403749999999999,
          "level": "world",
          "year": "1927-01-01T00:00:00"
         },
         {
          "avg_temp": 8.93125,
          "level": "berlin",
          "year": "1928-01-01T00:00:00"
         },
         {
          "avg_temp": 8.4325,
          "level": "world",
          "year": "1928-01-01T00:00:00"
         },
         {
          "avg_temp": 8.842500000000001,
          "level": "berlin",
          "year": "1929-01-01T00:00:00"
         },
         {
          "avg_temp": 8.428749999999999,
          "level": "world",
          "year": "1929-01-01T00:00:00"
         },
         {
          "avg_temp": 8.84125,
          "level": "berlin",
          "year": "1930-01-01T00:00:00"
         },
         {
          "avg_temp": 8.431249999999999,
          "level": "world",
          "year": "1930-01-01T00:00:00"
         },
         {
          "avg_temp": 8.828125,
          "level": "berlin",
          "year": "1931-01-01T00:00:00"
         },
         {
          "avg_temp": 8.439374999999998,
          "level": "world",
          "year": "1931-01-01T00:00:00"
         },
         {
          "avg_temp": 8.823749999999999,
          "level": "berlin",
          "year": "1932-01-01T00:00:00"
         },
         {
          "avg_temp": 8.469375,
          "level": "world",
          "year": "1932-01-01T00:00:00"
         },
         {
          "avg_temp": 8.819374999999997,
          "level": "berlin",
          "year": "1933-01-01T00:00:00"
         },
         {
          "avg_temp": 8.489374999999999,
          "level": "world",
          "year": "1933-01-01T00:00:00"
         },
         {
          "avg_temp": 8.898749999999998,
          "level": "berlin",
          "year": "1934-01-01T00:00:00"
         },
         {
          "avg_temp": 8.520624999999999,
          "level": "world",
          "year": "1934-01-01T00:00:00"
         },
         {
          "avg_temp": 8.982499999999998,
          "level": "berlin",
          "year": "1935-01-01T00:00:00"
         },
         {
          "avg_temp": 8.529375,
          "level": "world",
          "year": "1935-01-01T00:00:00"
         },
         {
          "avg_temp": 8.978124999999999,
          "level": "berlin",
          "year": "1936-01-01T00:00:00"
         },
         {
          "avg_temp": 8.541250000000002,
          "level": "world",
          "year": "1936-01-01T00:00:00"
         },
         {
          "avg_temp": 8.954999999999998,
          "level": "berlin",
          "year": "1937-01-01T00:00:00"
         },
         {
          "avg_temp": 8.549375000000001,
          "level": "world",
          "year": "1937-01-01T00:00:00"
         },
         {
          "avg_temp": 9.080625,
          "level": "berlin",
          "year": "1938-01-01T00:00:00"
         },
         {
          "avg_temp": 8.577500000000002,
          "level": "world",
          "year": "1938-01-01T00:00:00"
         },
         {
          "avg_temp": 9.126874999999998,
          "level": "berlin",
          "year": "1939-01-01T00:00:00"
         },
         {
          "avg_temp": 8.598750000000003,
          "level": "world",
          "year": "1939-01-01T00:00:00"
         },
         {
          "avg_temp": 9.048124999999997,
          "level": "berlin",
          "year": "1940-01-01T00:00:00"
         },
         {
          "avg_temp": 8.614375000000003,
          "level": "world",
          "year": "1940-01-01T00:00:00"
         },
         {
          "avg_temp": 8.941874999999998,
          "level": "berlin",
          "year": "1941-01-01T00:00:00"
         },
         {
          "avg_temp": 8.629375000000003,
          "level": "world",
          "year": "1941-01-01T00:00:00"
         },
         {
          "avg_temp": 8.831249999999999,
          "level": "berlin",
          "year": "1942-01-01T00:00:00"
         },
         {
          "avg_temp": 8.629375000000003,
          "level": "world",
          "year": "1942-01-01T00:00:00"
         },
         {
          "avg_temp": 8.890624999999998,
          "level": "berlin",
          "year": "1943-01-01T00:00:00"
         },
         {
          "avg_temp": 8.644375000000002,
          "level": "world",
          "year": "1943-01-01T00:00:00"
         },
         {
          "avg_temp": 8.915,
          "level": "berlin",
          "year": "1944-01-01T00:00:00"
         },
         {
          "avg_temp": 8.658125000000002,
          "level": "world",
          "year": "1944-01-01T00:00:00"
         },
         {
          "avg_temp": 9.018124999999998,
          "level": "berlin",
          "year": "1945-01-01T00:00:00"
         },
         {
          "avg_temp": 8.679375000000002,
          "level": "world",
          "year": "1945-01-01T00:00:00"
         },
         {
          "avg_temp": 8.995624999999999,
          "level": "berlin",
          "year": "1946-01-01T00:00:00"
         },
         {
          "avg_temp": 8.682500000000003,
          "level": "world",
          "year": "1946-01-01T00:00:00"
         },
         {
          "avg_temp": 9.023124999999999,
          "level": "berlin",
          "year": "1947-01-01T00:00:00"
         },
         {
          "avg_temp": 8.687500000000004,
          "level": "world",
          "year": "1947-01-01T00:00:00"
         },
         {
          "avg_temp": 9.06875,
          "level": "berlin",
          "year": "1948-01-01T00:00:00"
         },
         {
          "avg_temp": 8.690000000000003,
          "level": "world",
          "year": "1948-01-01T00:00:00"
         },
         {
          "avg_temp": 9.17625,
          "level": "berlin",
          "year": "1949-01-01T00:00:00"
         },
         {
          "avg_temp": 8.705625000000003,
          "level": "world",
          "year": "1949-01-01T00:00:00"
         },
         {
          "avg_temp": 9.09375,
          "level": "berlin",
          "year": "1950-01-01T00:00:00"
         },
         {
          "avg_temp": 8.689375000000004,
          "level": "world",
          "year": "1950-01-01T00:00:00"
         },
         {
          "avg_temp": 9.1175,
          "level": "berlin",
          "year": "1951-01-01T00:00:00"
         },
         {
          "avg_temp": 8.696250000000003,
          "level": "world",
          "year": "1951-01-01T00:00:00"
         },
         {
          "avg_temp": 9.074375,
          "level": "berlin",
          "year": "1952-01-01T00:00:00"
         },
         {
          "avg_temp": 8.701875000000001,
          "level": "world",
          "year": "1952-01-01T00:00:00"
         },
         {
          "avg_temp": 9.119375,
          "level": "berlin",
          "year": "1953-01-01T00:00:00"
         },
         {
          "avg_temp": 8.712500000000002,
          "level": "world",
          "year": "1953-01-01T00:00:00"
         },
         {
          "avg_temp": 9.034374999999999,
          "level": "berlin",
          "year": "1954-01-01T00:00:00"
         },
         {
          "avg_temp": 8.693750000000001,
          "level": "world",
          "year": "1954-01-01T00:00:00"
         },
         {
          "avg_temp": 8.974374999999998,
          "level": "berlin",
          "year": "1955-01-01T00:00:00"
         },
         {
          "avg_temp": 8.685625000000002,
          "level": "world",
          "year": "1955-01-01T00:00:00"
         },
         {
          "avg_temp": 9.007499999999999,
          "level": "berlin",
          "year": "1956-01-01T00:00:00"
         },
         {
          "avg_temp": 8.655625000000002,
          "level": "world",
          "year": "1956-01-01T00:00:00"
         },
         {
          "avg_temp": 9.122499999999999,
          "level": "berlin",
          "year": "1957-01-01T00:00:00"
         },
         {
          "avg_temp": 8.653125000000001,
          "level": "world",
          "year": "1957-01-01T00:00:00"
         },
         {
          "avg_temp": 9.200624999999999,
          "level": "berlin",
          "year": "1958-01-01T00:00:00"
         },
         {
          "avg_temp": 8.655625000000002,
          "level": "world",
          "year": "1958-01-01T00:00:00"
         },
         {
          "avg_temp": 9.21375,
          "level": "berlin",
          "year": "1959-01-01T00:00:00"
         },
         {
          "avg_temp": 8.653750000000002,
          "level": "world",
          "year": "1959-01-01T00:00:00"
         },
         {
          "avg_temp": 9.208124999999999,
          "level": "berlin",
          "year": "1960-01-01T00:00:00"
         },
         {
          "avg_temp": 8.636875000000003,
          "level": "world",
          "year": "1960-01-01T00:00:00"
         },
         {
          "avg_temp": 9.21875,
          "level": "berlin",
          "year": "1961-01-01T00:00:00"
         },
         {
          "avg_temp": 8.650625000000003,
          "level": "world",
          "year": "1961-01-01T00:00:00"
         },
         {
          "avg_temp": 9.156875,
          "level": "berlin",
          "year": "1962-01-01T00:00:00"
         },
         {
          "avg_temp": 8.655000000000003,
          "level": "world",
          "year": "1962-01-01T00:00:00"
         },
         {
          "avg_temp": 9.115,
          "level": "berlin",
          "year": "1963-01-01T00:00:00"
         },
         {
          "avg_temp": 8.658750000000001,
          "level": "world",
          "year": "1963-01-01T00:00:00"
         },
         {
          "avg_temp": 9.045,
          "level": "berlin",
          "year": "1964-01-01T00:00:00"
         },
         {
          "avg_temp": 8.637500000000001,
          "level": "world",
          "year": "1964-01-01T00:00:00"
         },
         {
          "avg_temp": 8.938125000000001,
          "level": "berlin",
          "year": "1965-01-01T00:00:00"
         },
         {
          "avg_temp": 8.633750000000001,
          "level": "world",
          "year": "1965-01-01T00:00:00"
         },
         {
          "avg_temp": 8.936250000000001,
          "level": "berlin",
          "year": "1966-01-01T00:00:00"
         },
         {
          "avg_temp": 8.648125,
          "level": "world",
          "year": "1966-01-01T00:00:00"
         },
         {
          "avg_temp": 8.958750000000002,
          "level": "berlin",
          "year": "1967-01-01T00:00:00"
         },
         {
          "avg_temp": 8.6525,
          "level": "world",
          "year": "1967-01-01T00:00:00"
         },
         {
          "avg_temp": 9.000625000000003,
          "level": "berlin",
          "year": "1968-01-01T00:00:00"
         },
         {
          "avg_temp": 8.645,
          "level": "world",
          "year": "1968-01-01T00:00:00"
         },
         {
          "avg_temp": 8.894375000000004,
          "level": "berlin",
          "year": "1969-01-01T00:00:00"
         },
         {
          "avg_temp": 8.628124999999999,
          "level": "world",
          "year": "1969-01-01T00:00:00"
         },
         {
          "avg_temp": 8.895625000000004,
          "level": "berlin",
          "year": "1970-01-01T00:00:00"
         },
         {
          "avg_temp": 8.636874999999998,
          "level": "world",
          "year": "1970-01-01T00:00:00"
         },
         {
          "avg_temp": 8.969375000000003,
          "level": "berlin",
          "year": "1971-01-01T00:00:00"
         },
         {
          "avg_temp": 8.634999999999998,
          "level": "world",
          "year": "1971-01-01T00:00:00"
         },
         {
          "avg_temp": 9.051250000000003,
          "level": "berlin",
          "year": "1972-01-01T00:00:00"
         },
         {
          "avg_temp": 8.648749999999998,
          "level": "world",
          "year": "1972-01-01T00:00:00"
         },
         {
          "avg_temp": 9.037500000000003,
          "level": "berlin",
          "year": "1973-01-01T00:00:00"
         },
         {
          "avg_temp": 8.662499999999998,
          "level": "world",
          "year": "1973-01-01T00:00:00"
         },
         {
          "avg_temp": 9.090000000000003,
          "level": "berlin",
          "year": "1974-01-01T00:00:00"
         },
         {
          "avg_temp": 8.643749999999997,
          "level": "world",
          "year": "1974-01-01T00:00:00"
         },
         {
          "avg_temp": 9.102500000000004,
          "level": "berlin",
          "year": "1975-01-01T00:00:00"
         },
         {
          "avg_temp": 8.644374999999998,
          "level": "world",
          "year": "1975-01-01T00:00:00"
         },
         {
          "avg_temp": 9.098125000000005,
          "level": "berlin",
          "year": "1976-01-01T00:00:00"
         },
         {
          "avg_temp": 8.629999999999997,
          "level": "world",
          "year": "1976-01-01T00:00:00"
         },
         {
          "avg_temp": 9.081250000000004,
          "level": "berlin",
          "year": "1977-01-01T00:00:00"
         },
         {
          "avg_temp": 8.633124999999996,
          "level": "world",
          "year": "1977-01-01T00:00:00"
         },
         {
          "avg_temp": 9.126875000000005,
          "level": "berlin",
          "year": "1978-01-01T00:00:00"
         },
         {
          "avg_temp": 8.629374999999996,
          "level": "world",
          "year": "1978-01-01T00:00:00"
         },
         {
          "avg_temp": 9.152500000000005,
          "level": "berlin",
          "year": "1979-01-01T00:00:00"
         },
         {
          "avg_temp": 8.621249999999996,
          "level": "world",
          "year": "1979-01-01T00:00:00"
         },
         {
          "avg_temp": 9.116250000000004,
          "level": "berlin",
          "year": "1980-01-01T00:00:00"
         },
         {
          "avg_temp": 8.656874999999996,
          "level": "world",
          "year": "1980-01-01T00:00:00"
         },
         {
          "avg_temp": 9.169375000000004,
          "level": "berlin",
          "year": "1981-01-01T00:00:00"
         },
         {
          "avg_temp": 8.696874999999995,
          "level": "world",
          "year": "1981-01-01T00:00:00"
         },
         {
          "avg_temp": 9.215625000000005,
          "level": "berlin",
          "year": "1982-01-01T00:00:00"
         },
         {
          "avg_temp": 8.699374999999995,
          "level": "world",
          "year": "1982-01-01T00:00:00"
         },
         {
          "avg_temp": 9.223750000000004,
          "level": "berlin",
          "year": "1983-01-01T00:00:00"
         },
         {
          "avg_temp": 8.719999999999995,
          "level": "world",
          "year": "1983-01-01T00:00:00"
         },
         {
          "avg_temp": 9.202500000000004,
          "level": "berlin",
          "year": "1984-01-01T00:00:00"
         },
         {
          "avg_temp": 8.730624999999995,
          "level": "world",
          "year": "1984-01-01T00:00:00"
         },
         {
          "avg_temp": 9.204375000000004,
          "level": "berlin",
          "year": "1985-01-01T00:00:00"
         },
         {
          "avg_temp": 8.734374999999995,
          "level": "world",
          "year": "1985-01-01T00:00:00"
         },
         {
          "avg_temp": 9.226250000000004,
          "level": "berlin",
          "year": "1986-01-01T00:00:00"
         },
         {
          "avg_temp": 8.742499999999996,
          "level": "world",
          "year": "1986-01-01T00:00:00"
         },
         {
          "avg_temp": 9.135625000000005,
          "level": "berlin",
          "year": "1987-01-01T00:00:00"
         },
         {
          "avg_temp": 8.766874999999997,
          "level": "world",
          "year": "1987-01-01T00:00:00"
         },
         {
          "avg_temp": 9.206875000000005,
          "level": "berlin",
          "year": "1988-01-01T00:00:00"
         },
         {
          "avg_temp": 8.810624999999996,
          "level": "world",
          "year": "1988-01-01T00:00:00"
         },
         {
          "avg_temp": 9.299375000000005,
          "level": "berlin",
          "year": "1989-01-01T00:00:00"
         },
         {
          "avg_temp": 8.808749999999996,
          "level": "world",
          "year": "1989-01-01T00:00:00"
         },
         {
          "avg_temp": 9.350625000000004,
          "level": "berlin",
          "year": "1990-01-01T00:00:00"
         },
         {
          "avg_temp": 8.856249999999996,
          "level": "world",
          "year": "1990-01-01T00:00:00"
         },
         {
          "avg_temp": 9.305625000000004,
          "level": "berlin",
          "year": "1991-01-01T00:00:00"
         },
         {
          "avg_temp": 8.883749999999996,
          "level": "world",
          "year": "1991-01-01T00:00:00"
         },
         {
          "avg_temp": 9.382500000000004,
          "level": "berlin",
          "year": "1992-01-01T00:00:00"
         },
         {
          "avg_temp": 8.914374999999996,
          "level": "world",
          "year": "1992-01-01T00:00:00"
         },
         {
          "avg_temp": 9.370000000000005,
          "level": "berlin",
          "year": "1993-01-01T00:00:00"
         },
         {
          "avg_temp": 8.915624999999997,
          "level": "world",
          "year": "1993-01-01T00:00:00"
         },
         {
          "avg_temp": 9.468125000000004,
          "level": "berlin",
          "year": "1994-01-01T00:00:00"
         },
         {
          "avg_temp": 8.937499999999996,
          "level": "world",
          "year": "1994-01-01T00:00:00"
         },
         {
          "avg_temp": 9.544375000000004,
          "level": "berlin",
          "year": "1995-01-01T00:00:00"
         },
         {
          "avg_temp": 8.976249999999997,
          "level": "world",
          "year": "1995-01-01T00:00:00"
         },
         {
          "avg_temp": 9.520625000000004,
          "level": "berlin",
          "year": "1996-01-01T00:00:00"
         },
         {
          "avg_temp": 8.979999999999997,
          "level": "world",
          "year": "1996-01-01T00:00:00"
         },
         {
          "avg_temp": 9.555000000000003,
          "level": "berlin",
          "year": "1997-01-01T00:00:00"
         },
         {
          "avg_temp": 8.981874999999997,
          "level": "world",
          "year": "1997-01-01T00:00:00"
         },
         {
          "avg_temp": 9.553125000000003,
          "level": "berlin",
          "year": "1998-01-01T00:00:00"
         },
         {
          "avg_temp": 9.036874999999998,
          "level": "world",
          "year": "1998-01-01T00:00:00"
         },
         {
          "avg_temp": 9.576250000000003,
          "level": "berlin",
          "year": "1999-01-01T00:00:00"
         },
         {
          "avg_temp": 9.053124999999998,
          "level": "world",
          "year": "1999-01-01T00:00:00"
         },
         {
          "avg_temp": 9.702500000000004,
          "level": "berlin",
          "year": "2000-01-01T00:00:00"
         },
         {
          "avg_temp": 9.084999999999997,
          "level": "world",
          "year": "2000-01-01T00:00:00"
         },
         {
          "avg_temp": 9.779375000000003,
          "level": "berlin",
          "year": "2001-01-01T00:00:00"
         },
         {
          "avg_temp": 9.131874999999997,
          "level": "world",
          "year": "2001-01-01T00:00:00"
         },
         {
          "avg_temp": 9.871875000000003,
          "level": "berlin",
          "year": "2002-01-01T00:00:00"
         },
         {
          "avg_temp": 9.178124999999996,
          "level": "world",
          "year": "2002-01-01T00:00:00"
         },
         {
          "avg_temp": 9.995625000000002,
          "level": "berlin",
          "year": "2003-01-01T00:00:00"
         },
         {
          "avg_temp": 9.211874999999996,
          "level": "world",
          "year": "2003-01-01T00:00:00"
         },
         {
          "avg_temp": 9.983125000000001,
          "level": "berlin",
          "year": "2004-01-01T00:00:00"
         },
         {
          "avg_temp": 9.219374999999996,
          "level": "world",
          "year": "2004-01-01T00:00:00"
         },
         {
          "avg_temp": 9.933125,
          "level": "berlin",
          "year": "2005-01-01T00:00:00"
         },
         {
          "avg_temp": 9.268124999999996,
          "level": "world",
          "year": "2005-01-01T00:00:00"
         },
         {
          "avg_temp": 9.923125,
          "level": "berlin",
          "year": "2006-01-01T00:00:00"
         },
         {
          "avg_temp": 9.286874999999997,
          "level": "world",
          "year": "2006-01-01T00:00:00"
         },
         {
          "avg_temp": 10.018125000000001,
          "level": "berlin",
          "year": "2007-01-01T00:00:00"
         },
         {
          "avg_temp": 9.321249999999996,
          "level": "world",
          "year": "2007-01-01T00:00:00"
         },
         {
          "avg_temp": 10.035625000000001,
          "level": "berlin",
          "year": "2008-01-01T00:00:00"
         },
         {
          "avg_temp": 9.358124999999996,
          "level": "world",
          "year": "2008-01-01T00:00:00"
         },
         {
          "avg_temp": 10.080625000000001,
          "level": "berlin",
          "year": "2009-01-01T00:00:00"
         },
         {
          "avg_temp": 9.398124999999995,
          "level": "world",
          "year": "2009-01-01T00:00:00"
         },
         {
          "avg_temp": 9.966875000000002,
          "level": "berlin",
          "year": "2010-01-01T00:00:00"
         },
         {
          "avg_temp": 9.439374999999995,
          "level": "world",
          "year": "2010-01-01T00:00:00"
         },
         {
          "avg_temp": 10.017500000000002,
          "level": "berlin",
          "year": "2011-01-01T00:00:00"
         },
         {
          "avg_temp": 9.449999999999996,
          "level": "world",
          "year": "2011-01-01T00:00:00"
         },
         {
          "avg_temp": 10.147500000000003,
          "level": "berlin",
          "year": "2012-01-01T00:00:00"
         },
         {
          "avg_temp": 9.479374999999996,
          "level": "world",
          "year": "2012-01-01T00:00:00"
         },
         {
          "avg_temp": 10.171875000000004,
          "level": "berlin",
          "year": "2013-01-01T00:00:00"
         },
         {
          "avg_temp": 9.504999999999995,
          "level": "world",
          "year": "2013-01-01T00:00:00"
         }
        ]
       },
       "vconcat": [
        {
         "hconcat": [
          {
           "data": {
            "name": "data-8707f2b203f082fc63250791e2f3bcdc"
           },
           "encoding": {
            "color": {
             "field": "level",
             "type": "nominal"
            },
            "x": {
             "field": "year",
             "title": "Year",
             "type": "temporal"
            },
            "y": {
             "field": "avg_temp",
             "scale": {
              "zero": false
             },
             "title": "Avg. Temp. [°C]",
             "type": "quantitative"
            }
           },
           "mark": "line",
           "title": "Avg. Temp. World vs. Berlin (Moving Window 1)"
          },
          {
           "data": {
            "name": "data-bc8a7ccad3c9e35041d73a154e974aa7"
           },
           "encoding": {
            "color": {
             "field": "level",
             "type": "nominal"
            },
            "x": {
             "field": "year",
             "title": "Year",
             "type": "temporal"
            },
            "y": {
             "field": "avg_temp",
             "scale": {
              "zero": false
             },
             "title": "Avg. Temp. [°C]",
             "type": "quantitative"
            }
           },
           "mark": "line",
           "title": "Avg. Temp. World vs. Berlin (Moving Window 4)"
          }
         ]
        },
        {
         "hconcat": [
          {
           "data": {
            "name": "data-d5fc7cdb6ffd231e6951c8dd8a82b397"
           },
           "encoding": {
            "color": {
             "field": "level",
             "type": "nominal"
            },
            "x": {
             "field": "year",
             "title": "Year",
             "type": "temporal"
            },
            "y": {
             "field": "avg_temp",
             "scale": {
              "zero": false
             },
             "title": "Avg. Temp. [°C]",
             "type": "quantitative"
            }
           },
           "mark": "line",
           "title": "Avg. Temp. World vs. Berlin (Moving Window 16)"
          },
          {
           "data": {
            "name": "data-06fc11db8703b8141bf9e67ec7e9cfd4"
           },
           "encoding": {
            "color": {
             "field": "level",
             "type": "nominal"
            },
            "x": {
             "field": "year",
             "title": "Year",
             "type": "temporal"
            },
            "y": {
             "field": "avg_temp",
             "scale": {
              "zero": false
             },
             "title": "Avg. Temp. [°C]",
             "type": "quantitative"
            }
           },
           "mark": "line",
           "title": "Avg. Temp. World vs. Berlin (Moving Window 64)"
          }
         ]
        }
       ]
      },
      "image/png": "[encoded data removed]",
      "text/plain": [
       "<VegaLite 2 object>\n",
       "\n",
       "If you see this message, it means the renderer has not been properly enabled\n",
       "for the frontend that you are using. For more information, see\n",
       "https://altair-viz.github.io/user_guide/troubleshooting.html\n"
      ]
     },
     "execution_count": 318,
     "metadata": {},
     "output_type": "execute_result"
    }
   ],
   "source": [
    "(avg_chart(1) | avg_chart(4)) & (avg_chart(16) | avg_chart(64))"
   ]
  },
  {
   "cell_type": "markdown",
   "metadata": {},
   "source": [
    "When looking at the charts, it seems like a window size of approx. 16 would be good, as it \"smoothens\" the data enought, so that you can see the trends, but doesn't smear out too much (and isn't too much affected be the accounting for historical magnitude in actual magnitude).  \n",
    "So, for the further Analysis I chose 16."
   ]
  },
  {
   "cell_type": "code",
   "execution_count": 326,
   "metadata": {},
   "outputs": [
    {
     "data": {
      "application/vnd.vegalite.v2+json": {
       "$schema": "https://vega.github.io/schema/vega-lite/v2.6.0.json",
       "config": {
        "view": {
         "height": 300,
         "width": 400
        }
       },
       "data": {
        "name": "data-d5fc7cdb6ffd231e6951c8dd8a82b397"
       },
       "datasets": {
        "data-d5fc7cdb6ffd231e6951c8dd8a82b397": [
         {
          "avg_temp": 8.688125,
          "level": "berlin",
          "year": "1765-01-01T00:00:00"
         },
         {
          "avg_temp": 8.063749999999999,
          "level": "world",
          "year": "1765-01-01T00:00:00"
         },
         {
          "avg_temp": 8.628124999999999,
          "level": "berlin",
          "year": "1766-01-01T00:00:00"
         },
         {
          "avg_temp": 8.044374999999999,
          "level": "world",
          "year": "1766-01-01T00:00:00"
         },
         {
          "avg_temp": 8.5275,
          "level": "berlin",
          "year": "1767-01-01T00:00:00"
         },
         {
          "avg_temp": 8.059375,
          "level": "world",
          "year": "1767-01-01T00:00:00"
         },
         {
          "avg_temp": 8.726875,
          "level": "berlin",
          "year": "1768-01-01T00:00:00"
         },
         {
          "avg_temp": 8.121875,
          "level": "world",
          "year": "1768-01-01T00:00:00"
         },
         {
          "avg_temp": 8.710625,
          "level": "berlin",
          "year": "1769-01-01T00:00:00"
         },
         {
          "avg_temp": 8.078125,
          "level": "world",
          "year": "1769-01-01T00:00:00"
         },
         {
          "avg_temp": 8.71125,
          "level": "berlin",
          "year": "1770-01-01T00:00:00"
         },
         {
          "avg_temp": 8.029375,
          "level": "world",
          "year": "1770-01-01T00:00:00"
         },
         {
          "avg_temp": 8.660625,
          "level": "berlin",
          "year": "1771-01-01T00:00:00"
         },
         {
          "avg_temp": 7.9975,
          "level": "world",
          "year": "1771-01-01T00:00:00"
         },
         {
          "avg_temp": 8.629999999999999,
          "level": "berlin",
          "year": "1772-01-01T00:00:00"
         },
         {
          "avg_temp": 7.956250000000001,
          "level": "world",
          "year": "1772-01-01T00:00:00"
         },
         {
          "avg_temp": 8.653125,
          "level": "berlin",
          "year": "1773-01-01T00:00:00"
         },
         {
          "avg_temp": 7.906250000000001,
          "level": "world",
          "year": "1773-01-01T00:00:00"
         },
         {
          "avg_temp": 8.66625,
          "level": "berlin",
          "year": "1774-01-01T00:00:00"
         },
         {
          "avg_temp": 8.033125,
          "level": "world",
          "year": "1774-01-01T00:00:00"
         },
         {
          "avg_temp": 8.7325,
          "level": "berlin",
          "year": "1775-01-01T00:00:00"
         },
         {
          "avg_temp": 8.1075,
          "level": "world",
          "year": "1775-01-01T00:00:00"
         },
         {
          "avg_temp": 8.693124999999998,
          "level": "berlin",
          "year": "1776-01-01T00:00:00"
         },
         {
          "avg_temp": 8.176875,
          "level": "world",
          "year": "1776-01-01T00:00:00"
         },
         {
          "avg_temp": 8.619374999999998,
          "level": "berlin",
          "year": "1777-01-01T00:00:00"
         },
         {
          "avg_temp": 8.145,
          "level": "world",
          "year": "1777-01-01T00:00:00"
         },
         {
          "avg_temp": 8.675624999999998,
          "level": "berlin",
          "year": "1778-01-01T00:00:00"
         },
         {
          "avg_temp": 8.140625,
          "level": "world",
          "year": "1778-01-01T00:00:00"
         },
         {
          "avg_temp": 8.791249999999998,
          "level": "berlin",
          "year": "1779-01-01T00:00:00"
         },
         {
          "avg_temp": 8.233125,
          "level": "world",
          "year": "1779-01-01T00:00:00"
         },
         {
          "avg_temp": 8.783124999999998,
          "level": "berlin",
          "year": "1780-01-01T00:00:00"
         },
         {
          "avg_temp": 8.2975,
          "level": "world",
          "year": "1780-01-01T00:00:00"
         },
         {
          "avg_temp": 8.873124999999998,
          "level": "berlin",
          "year": "1781-01-01T00:00:00"
         },
         {
          "avg_temp": 8.288124999999999,
          "level": "world",
          "year": "1781-01-01T00:00:00"
         },
         {
          "avg_temp": 8.856874999999999,
          "level": "berlin",
          "year": "1782-01-01T00:00:00"
         },
         {
          "avg_temp": 8.25625,
          "level": "world",
          "year": "1782-01-01T00:00:00"
         },
         {
          "avg_temp": 8.958124999999999,
          "level": "berlin",
          "year": "1783-01-01T00:00:00"
         },
         {
          "avg_temp": 8.2225,
          "level": "world",
          "year": "1783-01-01T00:00:00"
         },
         {
          "avg_temp": 8.935624999999998,
          "level": "berlin",
          "year": "1784-01-01T00:00:00"
         },
         {
          "avg_temp": 8.290000000000001,
          "level": "world",
          "year": "1784-01-01T00:00:00"
         },
         {
          "avg_temp": 8.870624999999997,
          "level": "berlin",
          "year": "1785-01-01T00:00:00"
         },
         {
          "avg_temp": 8.269375000000002,
          "level": "world",
          "year": "1785-01-01T00:00:00"
         },
         {
          "avg_temp": 8.819374999999997,
          "level": "berlin",
          "year": "1786-01-01T00:00:00"
         },
         {
          "avg_temp": 8.305000000000001,
          "level": "world",
          "year": "1786-01-01T00:00:00"
         },
         {
          "avg_temp": 8.933124999999999,
          "level": "berlin",
          "year": "1787-01-01T00:00:00"
         },
         {
          "avg_temp": 8.316250000000002,
          "level": "world",
          "year": "1787-01-01T00:00:00"
         },
         {
          "avg_temp": 8.883125,
          "level": "berlin",
          "year": "1788-01-01T00:00:00"
         },
         {
          "avg_temp": 8.332500000000001,
          "level": "world",
          "year": "1788-01-01T00:00:00"
         },
         {
          "avg_temp": 8.85,
          "level": "berlin",
          "year": "1789-01-01T00:00:00"
         },
         {
          "avg_temp": 8.339375000000002,
          "level": "world",
          "year": "1789-01-01T00:00:00"
         },
         {
          "avg_temp": 8.889375,
          "level": "berlin",
          "year": "1790-01-01T00:00:00"
         },
         {
          "avg_temp": 8.290000000000001,
          "level": "world",
          "year": "1790-01-01T00:00:00"
         },
         {
          "avg_temp": 8.855,
          "level": "berlin",
          "year": "1791-01-01T00:00:00"
         },
         {
          "avg_temp": 8.230625,
          "level": "world",
          "year": "1791-01-01T00:00:00"
         },
         {
          "avg_temp": 8.888750000000002,
          "level": "berlin",
          "year": "1792-01-01T00:00:00"
         },
         {
          "avg_temp": 8.2175,
          "level": "world",
          "year": "1792-01-01T00:00:00"
         },
         {
          "avg_temp": 8.944375000000003,
          "level": "berlin",
          "year": "1793-01-01T00:00:00"
         },
         {
          "avg_temp": 8.215625,
          "level": "world",
          "year": "1793-01-01T00:00:00"
         },
         {
          "avg_temp": 8.981250000000003,
          "level": "berlin",
          "year": "1794-01-01T00:00:00"
         },
         {
          "avg_temp": 8.215,
          "level": "world",
          "year": "1794-01-01T00:00:00"
         },
         {
          "avg_temp": 8.881250000000003,
          "level": "berlin",
          "year": "1795-01-01T00:00:00"
         },
         {
          "avg_temp": 8.175625,
          "level": "world",
          "year": "1795-01-01T00:00:00"
         },
         {
          "avg_temp": 8.895625000000003,
          "level": "berlin",
          "year": "1796-01-01T00:00:00"
         },
         {
          "avg_temp": 8.103125,
          "level": "world",
          "year": "1796-01-01T00:00:00"
         },
         {
          "avg_temp": 8.901250000000003,
          "level": "berlin",
          "year": "1797-01-01T00:00:00"
         },
         {
          "avg_temp": 8.12875,
          "level": "world",
          "year": "1797-01-01T00:00:00"
         },
         {
          "avg_temp": 8.946250000000003,
          "level": "berlin",
          "year": "1798-01-01T00:00:00"
         },
         {
          "avg_temp": 8.176874999999999,
          "level": "world",
          "year": "1798-01-01T00:00:00"
         },
         {
          "avg_temp": 8.756250000000003,
          "level": "berlin",
          "year": "1799-01-01T00:00:00"
         },
         {
          "avg_temp": 8.228749999999998,
          "level": "world",
          "year": "1799-01-01T00:00:00"
         },
         {
          "avg_temp": 8.814375000000004,
          "level": "berlin",
          "year": "1800-01-01T00:00:00"
         },
         {
          "avg_temp": 8.267499999999997,
          "level": "world",
          "year": "1800-01-01T00:00:00"
         },
         {
          "avg_temp": 8.951250000000003,
          "level": "berlin",
          "year": "1801-01-01T00:00:00"
         },
         {
          "avg_temp": 8.344374999999996,
          "level": "world",
          "year": "1801-01-01T00:00:00"
         },
         {
          "avg_temp": 9.038750000000004,
          "level": "berlin",
          "year": "1802-01-01T00:00:00"
         },
         {
          "avg_temp": 8.364374999999997,
          "level": "world",
          "year": "1802-01-01T00:00:00"
         },
         {
          "avg_temp": 8.960625000000004,
          "level": "berlin",
          "year": "1803-01-01T00:00:00"
         },
         {
          "avg_temp": 8.393749999999997,
          "level": "world",
          "year": "1803-01-01T00:00:00"
         },
         {
          "avg_temp": 8.962500000000004,
          "level": "berlin",
          "year": "1804-01-01T00:00:00"
         },
         {
          "avg_temp": 8.418124999999998,
          "level": "world",
          "year": "1804-01-01T00:00:00"
         },
         {
          "avg_temp": 8.850625000000003,
          "level": "berlin",
          "year": "1805-01-01T00:00:00"
         },
         {
          "avg_temp": 8.432499999999997,
          "level": "world",
          "year": "1805-01-01T00:00:00"
         },
         {
          "avg_temp": 8.886875000000002,
          "level": "berlin",
          "year": "1806-01-01T00:00:00"
         },
         {
          "avg_temp": 8.460624999999999,
          "level": "world",
          "year": "1806-01-01T00:00:00"
         },
         {
          "avg_temp": 8.87875,
          "level": "berlin",
          "year": "1807-01-01T00:00:00"
         },
         {
          "avg_temp": 8.46375,
          "level": "world",
          "year": "1807-01-01T00:00:00"
         },
         {
          "avg_temp": 8.831875,
          "level": "berlin",
          "year": "1808-01-01T00:00:00"
         },
         {
          "avg_temp": 8.434999999999999,
          "level": "world",
          "year": "1808-01-01T00:00:00"
         },
         {
          "avg_temp": 8.799375,
          "level": "berlin",
          "year": "1809-01-01T00:00:00"
         },
         {
          "avg_temp": 8.363125,
          "level": "world",
          "year": "1809-01-01T00:00:00"
         },
         {
          "avg_temp": 8.701875,
          "level": "berlin",
          "year": "1810-01-01T00:00:00"
         },
         {
          "avg_temp": 8.2625,
          "level": "world",
          "year": "1810-01-01T00:00:00"
         },
         {
          "avg_temp": 8.768125,
          "level": "berlin",
          "year": "1811-01-01T00:00:00"
         },
         {
          "avg_temp": 8.169375,
          "level": "world",
          "year": "1811-01-01T00:00:00"
         },
         {
          "avg_temp": 8.664375,
          "level": "berlin",
          "year": "1812-01-01T00:00:00"
         },
         {
          "avg_temp": 8.093125,
          "level": "world",
          "year": "1812-01-01T00:00:00"
         },
         {
          "avg_temp": 8.57625,
          "level": "berlin",
          "year": "1813-01-01T00:00:00"
         },
         {
          "avg_temp": 8.045000000000002,
          "level": "world",
          "year": "1813-01-01T00:00:00"
         },
         {
          "avg_temp": 8.459375,
          "level": "berlin",
          "year": "1814-01-01T00:00:00"
         },
         {
          "avg_temp": 7.977500000000002,
          "level": "world",
          "year": "1814-01-01T00:00:00"
         },
         {
          "avg_temp": 8.563125,
          "level": "berlin",
          "year": "1815-01-01T00:00:00"
         },
         {
          "avg_temp": 7.898125000000001,
          "level": "world",
          "year": "1815-01-01T00:00:00"
         },
         {
          "avg_temp": 8.51,
          "level": "berlin",
          "year": "1816-01-01T00:00:00"
         },
         {
          "avg_temp": 7.801875000000002,
          "level": "world",
          "year": "1816-01-01T00:00:00"
         },
         {
          "avg_temp": 8.466874999999998,
          "level": "berlin",
          "year": "1817-01-01T00:00:00"
         },
         {
          "avg_temp": 7.701250000000002,
          "level": "world",
          "year": "1817-01-01T00:00:00"
         },
         {
          "avg_temp": 8.461874999999997,
          "level": "berlin",
          "year": "1818-01-01T00:00:00"
         },
         {
          "avg_temp": 7.654375000000003,
          "level": "world",
          "year": "1818-01-01T00:00:00"
         },
         {
          "avg_temp": 8.549999999999997,
          "level": "berlin",
          "year": "1819-01-01T00:00:00"
         },
         {
          "avg_temp": 7.583750000000002,
          "level": "world",
          "year": "1819-01-01T00:00:00"
         },
         {
          "avg_temp": 8.518749999999997,
          "level": "berlin",
          "year": "1820-01-01T00:00:00"
         },
         {
          "avg_temp": 7.507500000000002,
          "level": "world",
          "year": "1820-01-01T00:00:00"
         },
         {
          "avg_temp": 8.640624999999998,
          "level": "berlin",
          "year": "1821-01-01T00:00:00"
         },
         {
          "avg_temp": 7.478125000000002,
          "level": "world",
          "year": "1821-01-01T00:00:00"
         },
         {
          "avg_temp": 8.664375,
          "level": "berlin",
          "year": "1822-01-01T00:00:00"
         },
         {
          "avg_temp": 7.463125000000002,
          "level": "world",
          "year": "1822-01-01T00:00:00"
         },
         {
          "avg_temp": 8.591875,
          "level": "berlin",
          "year": "1823-01-01T00:00:00"
         },
         {
          "avg_temp": 7.428125000000001,
          "level": "world",
          "year": "1823-01-01T00:00:00"
         },
         {
          "avg_temp": 8.683124999999999,
          "level": "berlin",
          "year": "1824-01-01T00:00:00"
         },
         {
          "avg_temp": 7.4856250000000015,
          "level": "world",
          "year": "1824-01-01T00:00:00"
         },
         {
          "avg_temp": 8.724374999999998,
          "level": "berlin",
          "year": "1825-01-01T00:00:00"
         },
         {
          "avg_temp": 7.567500000000002,
          "level": "world",
          "year": "1825-01-01T00:00:00"
         },
         {
          "avg_temp": 8.779999999999998,
          "level": "berlin",
          "year": "1826-01-01T00:00:00"
         },
         {
          "avg_temp": 7.6575000000000015,
          "level": "world",
          "year": "1826-01-01T00:00:00"
         },
         {
          "avg_temp": 8.721249999999998,
          "level": "berlin",
          "year": "1827-01-01T00:00:00"
         },
         {
          "avg_temp": 7.779375000000001,
          "level": "world",
          "year": "1827-01-01T00:00:00"
         },
         {
          "avg_temp": 8.820624999999998,
          "level": "berlin",
          "year": "1828-01-01T00:00:00"
         },
         {
          "avg_temp": 7.849375000000001,
          "level": "world",
          "year": "1828-01-01T00:00:00"
         },
         {
          "avg_temp": 8.686874999999999,
          "level": "berlin",
          "year": "1829-01-01T00:00:00"
         },
         {
          "avg_temp": 7.861875000000002,
          "level": "world",
          "year": "1829-01-01T00:00:00"
         },
         {
          "avg_temp": 8.725624999999999,
          "level": "berlin",
          "year": "1830-01-01T00:00:00"
         },
         {
          "avg_temp": 7.920000000000002,
          "level": "world",
          "year": "1830-01-01T00:00:00"
         },
         {
          "avg_temp": 8.76,
          "level": "berlin",
          "year": "1831-01-01T00:00:00"
         },
         {
          "avg_temp": 7.945000000000001,
          "level": "world",
          "year": "1831-01-01T00:00:00"
         },
         {
          "avg_temp": 8.796875,
          "level": "berlin",
          "year": "1832-01-01T00:00:00"
         },
         {
          "avg_temp": 7.9768750000000015,
          "level": "world",
          "year": "1832-01-01T00:00:00"
         },
         {
          "avg_temp": 8.795,
          "level": "berlin",
          "year": "1833-01-01T00:00:00"
         },
         {
          "avg_temp": 8.041250000000002,
          "level": "world",
          "year": "1833-01-01T00:00:00"
         },
         {
          "avg_temp": 8.8825,
          "level": "berlin",
          "year": "1834-01-01T00:00:00"
         },
         {
          "avg_temp": 8.061250000000001,
          "level": "world",
          "year": "1834-01-01T00:00:00"
         },
         {
          "avg_temp": 8.84375,
          "level": "berlin",
          "year": "1835-01-01T00:00:00"
         },
         {
          "avg_temp": 8.0625,
          "level": "world",
          "year": "1835-01-01T00:00:00"
         },
         {
          "avg_temp": 8.907499999999999,
          "level": "berlin",
          "year": "1836-01-01T00:00:00"
         },
         {
          "avg_temp": 8.067499999999999,
          "level": "world",
          "year": "1836-01-01T00:00:00"
         },
         {
          "avg_temp": 8.843124999999999,
          "level": "berlin",
          "year": "1837-01-01T00:00:00"
         },
         {
          "avg_temp": 8.023124999999999,
          "level": "world",
          "year": "1837-01-01T00:00:00"
         },
         {
          "avg_temp": 8.651249999999997,
          "level": "berlin",
          "year": "1838-01-01T00:00:00"
         },
         {
          "avg_temp": 7.980624999999998,
          "level": "world",
          "year": "1838-01-01T00:00:00"
         },
         {
          "avg_temp": 8.674374999999998,
          "level": "berlin",
          "year": "1839-01-01T00:00:00"
         },
         {
          "avg_temp": 7.974999999999998,
          "level": "world",
          "year": "1839-01-01T00:00:00"
         },
         {
          "avg_temp": 8.557499999999997,
          "level": "berlin",
          "year": "1840-01-01T00:00:00"
         },
         {
          "avg_temp": 7.928124999999999,
          "level": "world",
          "year": "1840-01-01T00:00:00"
         },
         {
          "avg_temp": 8.541249999999998,
          "level": "berlin",
          "year": "1841-01-01T00:00:00"
         },
         {
          "avg_temp": 7.8843749999999995,
          "level": "world",
          "year": "1841-01-01T00:00:00"
         },
         {
          "avg_temp": 8.488749999999998,
          "level": "berlin",
          "year": "1842-01-01T00:00:00"
         },
         {
          "avg_temp": 7.863124999999999,
          "level": "world",
          "year": "1842-01-01T00:00:00"
         },
         {
          "avg_temp": 8.500624999999998,
          "level": "berlin",
          "year": "1843-01-01T00:00:00"
         },
         {
          "avg_temp": 7.823124999999999,
          "level": "world",
          "year": "1843-01-01T00:00:00"
         },
         {
          "avg_temp": 8.432499999999997,
          "level": "berlin",
          "year": "1844-01-01T00:00:00"
         },
         {
          "avg_temp": 7.7906249999999995,
          "level": "world",
          "year": "1844-01-01T00:00:00"
         },
         {
          "avg_temp": 8.519999999999996,
          "level": "berlin",
          "year": "1845-01-01T00:00:00"
         },
         {
          "avg_temp": 7.785,
          "level": "world",
          "year": "1845-01-01T00:00:00"
         },
         {
          "avg_temp": 8.629999999999995,
          "level": "berlin",
          "year": "1846-01-01T00:00:00"
         },
         {
          "avg_temp": 7.786875000000001,
          "level": "world",
          "year": "1846-01-01T00:00:00"
         },
         {
          "avg_temp": 8.586874999999996,
          "level": "berlin",
          "year": "1847-01-01T00:00:00"
         },
         {
          "avg_temp": 7.815,
          "level": "world",
          "year": "1847-01-01T00:00:00"
         },
         {
          "avg_temp": 8.612499999999995,
          "level": "berlin",
          "year": "1848-01-01T00:00:00"
         },
         {
          "avg_temp": 7.8481250000000005,
          "level": "world",
          "year": "1848-01-01T00:00:00"
         },
         {
          "avg_temp": 8.558749999999996,
          "level": "berlin",
          "year": "1849-01-01T00:00:00"
         },
         {
          "avg_temp": 7.84625,
          "level": "world",
          "year": "1849-01-01T00:00:00"
         },
         {
          "avg_temp": 8.421249999999995,
          "level": "berlin",
          "year": "1850-01-01T00:00:00"
         },
         {
          "avg_temp": 7.8306249999999995,
          "level": "world",
          "year": "1850-01-01T00:00:00"
         },
         {
          "avg_temp": 8.401874999999995,
          "level": "berlin",
          "year": "1851-01-01T00:00:00"
         },
         {
          "avg_temp": 7.88,
          "level": "world",
          "year": "1851-01-01T00:00:00"
         },
         {
          "avg_temp": 8.443124999999995,
          "level": "berlin",
          "year": "1852-01-01T00:00:00"
         },
         {
          "avg_temp": 7.905,
          "level": "world",
          "year": "1852-01-01T00:00:00"
         },
         {
          "avg_temp": 8.407499999999995,
          "level": "berlin",
          "year": "1853-01-01T00:00:00"
         },
         {
          "avg_temp": 7.946250000000001,
          "level": "world",
          "year": "1853-01-01T00:00:00"
         },
         {
          "avg_temp": 8.514374999999996,
          "level": "berlin",
          "year": "1854-01-01T00:00:00"
         },
         {
          "avg_temp": 7.990000000000001,
          "level": "world",
          "year": "1854-01-01T00:00:00"
         },
         {
          "avg_temp": 8.416874999999996,
          "level": "berlin",
          "year": "1855-01-01T00:00:00"
         },
         {
          "avg_temp": 8.020000000000001,
          "level": "world",
          "year": "1855-01-01T00:00:00"
         },
         {
          "avg_temp": 8.464374999999995,
          "level": "berlin",
          "year": "1856-01-01T00:00:00"
         },
         {
          "avg_temp": 8.0325,
          "level": "world",
          "year": "1856-01-01T00:00:00"
         },
         {
          "avg_temp": 8.484999999999996,
          "level": "berlin",
          "year": "1857-01-01T00:00:00"
         },
         {
          "avg_temp": 8.036875,
          "level": "world",
          "year": "1857-01-01T00:00:00"
         },
         {
          "avg_temp": 8.451249999999996,
          "level": "berlin",
          "year": "1858-01-01T00:00:00"
         },
         {
          "avg_temp": 8.041875,
          "level": "world",
          "year": "1858-01-01T00:00:00"
         },
         {
          "avg_temp": 8.477499999999996,
          "level": "berlin",
          "year": "1859-01-01T00:00:00"
         },
         {
          "avg_temp": 8.046875,
          "level": "world",
          "year": "1859-01-01T00:00:00"
         },
         {
          "avg_temp": 8.486874999999996,
          "level": "berlin",
          "year": "1860-01-01T00:00:00"
         },
         {
          "avg_temp": 8.06625,
          "level": "world",
          "year": "1860-01-01T00:00:00"
         },
         {
          "avg_temp": 8.546249999999997,
          "level": "berlin",
          "year": "1861-01-01T00:00:00"
         },
         {
          "avg_temp": 8.06625,
          "level": "world",
          "year": "1861-01-01T00:00:00"
         },
         {
          "avg_temp": 8.488124999999997,
          "level": "berlin",
          "year": "1862-01-01T00:00:00"
         },
         {
          "avg_temp": 8.004375,
          "level": "world",
          "year": "1862-01-01T00:00:00"
         },
         {
          "avg_temp": 8.586249999999996,
          "level": "berlin",
          "year": "1863-01-01T00:00:00"
         },
         {
          "avg_temp": 8.005625,
          "level": "world",
          "year": "1863-01-01T00:00:00"
         },
         {
          "avg_temp": 8.476249999999997,
          "level": "berlin",
          "year": "1864-01-01T00:00:00"
         },
         {
          "avg_temp": 8.005625,
          "level": "world",
          "year": "1864-01-01T00:00:00"
         },
         {
          "avg_temp": 8.529374999999996,
          "level": "berlin",
          "year": "1865-01-01T00:00:00"
         },
         {
          "avg_temp": 8.018125000000001,
          "level": "world",
          "year": "1865-01-01T00:00:00"
         },
         {
          "avg_temp": 8.606874999999997,
          "level": "berlin",
          "year": "1866-01-01T00:00:00"
         },
         {
          "avg_temp": 8.0425,
          "level": "world",
          "year": "1866-01-01T00:00:00"
         },
         {
          "avg_temp": 8.601249999999997,
          "level": "berlin",
          "year": "1867-01-01T00:00:00"
         },
         {
          "avg_temp": 8.05875,
          "level": "world",
          "year": "1867-01-01T00:00:00"
         },
         {
          "avg_temp": 8.644999999999998,
          "level": "berlin",
          "year": "1868-01-01T00:00:00"
         },
         {
          "avg_temp": 8.068125,
          "level": "world",
          "year": "1868-01-01T00:00:00"
         },
         {
          "avg_temp": 8.739374999999997,
          "level": "berlin",
          "year": "1869-01-01T00:00:00"
         },
         {
          "avg_temp": 8.092500000000001,
          "level": "world",
          "year": "1869-01-01T00:00:00"
         },
         {
          "avg_temp": 8.669374999999997,
          "level": "berlin",
          "year": "1870-01-01T00:00:00"
         },
         {
          "avg_temp": 8.091875,
          "level": "world",
          "year": "1870-01-01T00:00:00"
         },
         {
          "avg_temp": 8.669999999999998,
          "level": "berlin",
          "year": "1871-01-01T00:00:00"
         },
         {
          "avg_temp": 8.092500000000001,
          "level": "world",
          "year": "1871-01-01T00:00:00"
         },
         {
          "avg_temp": 8.761874999999998,
          "level": "berlin",
          "year": "1872-01-01T00:00:00"
         },
         {
          "avg_temp": 8.104375000000001,
          "level": "world",
          "year": "1872-01-01T00:00:00"
         },
         {
          "avg_temp": 8.754375,
          "level": "berlin",
          "year": "1873-01-01T00:00:00"
         },
         {
          "avg_temp": 8.141250000000001,
          "level": "world",
          "year": "1873-01-01T00:00:00"
         },
         {
          "avg_temp": 8.82375,
          "level": "berlin",
          "year": "1874-01-01T00:00:00"
         },
         {
          "avg_temp": 8.161875000000002,
          "level": "world",
          "year": "1874-01-01T00:00:00"
         },
         {
          "avg_temp": 8.72625,
          "level": "berlin",
          "year": "1875-01-01T00:00:00"
         },
         {
          "avg_temp": 8.137500000000003,
          "level": "world",
          "year": "1875-01-01T00:00:00"
         },
         {
          "avg_temp": 8.76625,
          "level": "berlin",
          "year": "1876-01-01T00:00:00"
         },
         {
          "avg_temp": 8.145000000000003,
          "level": "world",
          "year": "1876-01-01T00:00:00"
         },
         {
          "avg_temp": 8.771249999999998,
          "level": "berlin",
          "year": "1877-01-01T00:00:00"
         },
         {
          "avg_temp": 8.188125000000003,
          "level": "world",
          "year": "1877-01-01T00:00:00"
         },
         {
          "avg_temp": 8.800624999999998,
          "level": "berlin",
          "year": "1878-01-01T00:00:00"
         },
         {
          "avg_temp": 8.267500000000004,
          "level": "world",
          "year": "1878-01-01T00:00:00"
         },
         {
          "avg_temp": 8.653749999999999,
          "level": "berlin",
          "year": "1879-01-01T00:00:00"
         },
         {
          "avg_temp": 8.271250000000002,
          "level": "world",
          "year": "1879-01-01T00:00:00"
         },
         {
          "avg_temp": 8.784374999999999,
          "level": "berlin",
          "year": "1880-01-01T00:00:00"
         },
         {
          "avg_temp": 8.280000000000003,
          "level": "world",
          "year": "1880-01-01T00:00:00"
         },
         {
          "avg_temp": 8.71375,
          "level": "berlin",
          "year": "1881-01-01T00:00:00"
         },
         {
          "avg_temp": 8.285625000000003,
          "level": "world",
          "year": "1881-01-01T00:00:00"
         },
         {
          "avg_temp": 8.70375,
          "level": "berlin",
          "year": "1882-01-01T00:00:00"
         },
         {
          "avg_temp": 8.275625000000003,
          "level": "world",
          "year": "1882-01-01T00:00:00"
         },
         {
          "avg_temp": 8.711875,
          "level": "berlin",
          "year": "1883-01-01T00:00:00"
         },
         {
          "avg_temp": 8.246875000000003,
          "level": "world",
          "year": "1883-01-01T00:00:00"
         },
         {
          "avg_temp": 8.646874999999998,
          "level": "berlin",
          "year": "1884-01-01T00:00:00"
         },
         {
          "avg_temp": 8.216875000000003,
          "level": "world",
          "year": "1884-01-01T00:00:00"
         },
         {
          "avg_temp": 8.609999999999998,
          "level": "berlin",
          "year": "1885-01-01T00:00:00"
         },
         {
          "avg_temp": 8.185000000000002,
          "level": "world",
          "year": "1885-01-01T00:00:00"
         },
         {
          "avg_temp": 8.671249999999999,
          "level": "berlin",
          "year": "1886-01-01T00:00:00"
         },
         {
          "avg_temp": 8.169375000000002,
          "level": "world",
          "year": "1886-01-01T00:00:00"
         },
         {
          "avg_temp": 8.724374999999998,
          "level": "berlin",
          "year": "1887-01-01T00:00:00"
         },
         {
          "avg_temp": 8.156250000000002,
          "level": "world",
          "year": "1887-01-01T00:00:00"
         },
         {
          "avg_temp": 8.576875,
          "level": "berlin",
          "year": "1888-01-01T00:00:00"
         },
         {
          "avg_temp": 8.150000000000002,
          "level": "world",
          "year": "1888-01-01T00:00:00"
         },
         {
          "avg_temp": 8.518749999999999,
          "level": "berlin",
          "year": "1889-01-01T00:00:00"
         },
         {
          "avg_temp": 8.148125000000002,
          "level": "world",
          "year": "1889-01-01T00:00:00"
         },
         {
          "avg_temp": 8.473124999999998,
          "level": "berlin",
          "year": "1890-01-01T00:00:00"
         },
         {
          "avg_temp": 8.119375000000002,
          "level": "world",
          "year": "1890-01-01T00:00:00"
         },
         {
          "avg_temp": 8.500624999999998,
          "level": "berlin",
          "year": "1891-01-01T00:00:00"
         },
         {
          "avg_temp": 8.129375000000001,
          "level": "world",
          "year": "1891-01-01T00:00:00"
         },
         {
          "avg_temp": 8.478124999999999,
          "level": "berlin",
          "year": "1892-01-01T00:00:00"
         },
         {
          "avg_temp": 8.12875,
          "level": "world",
          "year": "1892-01-01T00:00:00"
         },
         {
          "avg_temp": 8.45,
          "level": "berlin",
          "year": "1893-01-01T00:00:00"
         },
         {
          "avg_temp": 8.09875,
          "level": "world",
          "year": "1893-01-01T00:00:00"
         },
         {
          "avg_temp": 8.42375,
          "level": "berlin",
          "year": "1894-01-01T00:00:00"
         },
         {
          "avg_temp": 8.056875,
          "level": "world",
          "year": "1894-01-01T00:00:00"
         },
         {
          "avg_temp": 8.475,
          "level": "berlin",
          "year": "1895-01-01T00:00:00"
         },
         {
          "avg_temp": 8.055625000000001,
          "level": "world",
          "year": "1895-01-01T00:00:00"
         },
         {
          "avg_temp": 8.443124999999998,
          "level": "berlin",
          "year": "1896-01-01T00:00:00"
         },
         {
          "avg_temp": 8.061250000000001,
          "level": "world",
          "year": "1896-01-01T00:00:00"
         },
         {
          "avg_temp": 8.501874999999998,
          "level": "berlin",
          "year": "1897-01-01T00:00:00"
         },
         {
          "avg_temp": 8.0625,
          "level": "world",
          "year": "1897-01-01T00:00:00"
         },
         {
          "avg_temp": 8.510624999999997,
          "level": "berlin",
          "year": "1898-01-01T00:00:00"
         },
         {
          "avg_temp": 8.065625,
          "level": "world",
          "year": "1898-01-01T00:00:00"
         },
         {
          "avg_temp": 8.536874999999998,
          "level": "berlin",
          "year": "1899-01-01T00:00:00"
         },
         {
          "avg_temp": 8.091875000000002,
          "level": "world",
          "year": "1899-01-01T00:00:00"
         },
         {
          "avg_temp": 8.534374999999999,
          "level": "berlin",
          "year": "1900-01-01T00:00:00"
         },
         {
          "avg_temp": 8.137500000000001,
          "level": "world",
          "year": "1900-01-01T00:00:00"
         },
         {
          "avg_temp": 8.54125,
          "level": "berlin",
          "year": "1901-01-01T00:00:00"
         },
         {
          "avg_temp": 8.176250000000001,
          "level": "world",
          "year": "1901-01-01T00:00:00"
         },
         {
          "avg_temp": 8.483749999999999,
          "level": "berlin",
          "year": "1902-01-01T00:00:00"
         },
         {
          "avg_temp": 8.198125000000003,
          "level": "world",
          "year": "1902-01-01T00:00:00"
         },
         {
          "avg_temp": 8.568124999999998,
          "level": "berlin",
          "year": "1903-01-01T00:00:00"
         },
         {
          "avg_temp": 8.217500000000003,
          "level": "world",
          "year": "1903-01-01T00:00:00"
         },
         {
          "avg_temp": 8.664374999999998,
          "level": "berlin",
          "year": "1904-01-01T00:00:00"
         },
         {
          "avg_temp": 8.217500000000003,
          "level": "world",
          "year": "1904-01-01T00:00:00"
         },
         {
          "avg_temp": 8.699374999999998,
          "level": "berlin",
          "year": "1905-01-01T00:00:00"
         },
         {
          "avg_temp": 8.211875000000003,
          "level": "world",
          "year": "1905-01-01T00:00:00"
         },
         {
          "avg_temp": 8.759374999999999,
          "level": "berlin",
          "year": "1906-01-01T00:00:00"
         },
         {
          "avg_temp": 8.237500000000002,
          "level": "world",
          "year": "1906-01-01T00:00:00"
         },
         {
          "avg_temp": 8.761875,
          "level": "berlin",
          "year": "1907-01-01T00:00:00"
         },
         {
          "avg_temp": 8.233125000000001,
          "level": "world",
          "year": "1907-01-01T00:00:00"
         },
         {
          "avg_temp": 8.76625,
          "level": "berlin",
          "year": "1908-01-01T00:00:00"
         },
         {
          "avg_temp": 8.240625000000001,
          "level": "world",
          "year": "1908-01-01T00:00:00"
         },
         {
          "avg_temp": 8.745,
          "level": "berlin",
          "year": "1909-01-01T00:00:00"
         },
         {
          "avg_temp": 8.248125000000002,
          "level": "world",
          "year": "1909-01-01T00:00:00"
         },
         {
          "avg_temp": 8.768125,
          "level": "berlin",
          "year": "1910-01-01T00:00:00"
         },
         {
          "avg_temp": 8.251875000000002,
          "level": "world",
          "year": "1910-01-01T00:00:00"
         },
         {
          "avg_temp": 8.86875,
          "level": "berlin",
          "year": "1911-01-01T00:00:00"
         },
         {
          "avg_temp": 8.253750000000002,
          "level": "world",
          "year": "1911-01-01T00:00:00"
         },
         {
          "avg_temp": 8.863750000000001,
          "level": "berlin",
          "year": "1912-01-01T00:00:00"
         },
         {
          "avg_temp": 8.25125,
          "level": "world",
          "year": "1912-01-01T00:00:00"
         },
         {
          "avg_temp": 8.908750000000001,
          "level": "berlin",
          "year": "1913-01-01T00:00:00"
         },
         {
          "avg_temp": 8.251875000000002,
          "level": "world",
          "year": "1913-01-01T00:00:00"
         },
         {
          "avg_temp": 8.913750000000002,
          "level": "berlin",
          "year": "1914-01-01T00:00:00"
         },
         {
          "avg_temp": 8.277500000000002,
          "level": "world",
          "year": "1914-01-01T00:00:00"
         },
         {
          "avg_temp": 8.888750000000002,
          "level": "berlin",
          "year": "1915-01-01T00:00:00"
         },
         {
          "avg_temp": 8.289375000000001,
          "level": "world",
          "year": "1915-01-01T00:00:00"
         },
         {
          "avg_temp": 8.897500000000003,
          "level": "berlin",
          "year": "1916-01-01T00:00:00"
         },
         {
          "avg_temp": 8.2725,
          "level": "world",
          "year": "1916-01-01T00:00:00"
         },
         {
          "avg_temp": 8.885625000000003,
          "level": "berlin",
          "year": "1917-01-01T00:00:00"
         },
         {
          "avg_temp": 8.240000000000002,
          "level": "world",
          "year": "1917-01-01T00:00:00"
         },
         {
          "avg_temp": 8.997500000000002,
          "level": "berlin",
          "year": "1918-01-01T00:00:00"
         },
         {
          "avg_temp": 8.229375000000001,
          "level": "world",
          "year": "1918-01-01T00:00:00"
         },
         {
          "avg_temp": 8.917500000000002,
          "level": "berlin",
          "year": "1919-01-01T00:00:00"
         },
         {
          "avg_temp": 8.239375,
          "level": "world",
          "year": "1919-01-01T00:00:00"
         },
         {
          "avg_temp": 8.931250000000002,
          "level": "berlin",
          "year": "1920-01-01T00:00:00"
         },
         {
          "avg_temp": 8.25625,
          "level": "world",
          "year": "1920-01-01T00:00:00"
         },
         {
          "avg_temp": 8.986250000000002,
          "level": "berlin",
          "year": "1921-01-01T00:00:00"
         },
         {
          "avg_temp": 8.2775,
          "level": "world",
          "year": "1921-01-01T00:00:00"
         },
         {
          "avg_temp": 8.889375000000001,
          "level": "berlin",
          "year": "1922-01-01T00:00:00"
         },
         {
          "avg_temp": 8.279375,
          "level": "world",
          "year": "1922-01-01T00:00:00"
         },
         {
          "avg_temp": 8.893125000000001,
          "level": "berlin",
          "year": "1923-01-01T00:00:00"
         },
         {
          "avg_temp": 8.30875,
          "level": "world",
          "year": "1923-01-01T00:00:00"
         },
         {
          "avg_temp": 8.890000000000002,
          "level": "berlin",
          "year": "1924-01-01T00:00:00"
         },
         {
          "avg_temp": 8.32875,
          "level": "world",
          "year": "1924-01-01T00:00:00"
         },
         {
          "avg_temp": 8.962500000000002,
          "level": "berlin",
          "year": "1925-01-01T00:00:00"
         },
         {
          "avg_temp": 8.350624999999999,
          "level": "world",
          "year": "1925-01-01T00:00:00"
         },
         {
          "avg_temp": 8.977500000000001,
          "level": "berlin",
          "year": "1926-01-01T00:00:00"
         },
         {
          "avg_temp": 8.382499999999999,
          "level": "world",
          "year": "1926-01-01T00:00:00"
         },
         {
          "avg_temp": 8.904375000000002,
          "level": "berlin",
          "year": "1927-01-01T00:00:00"
         },
         {
          "avg_temp": 8.403749999999999,
          "level": "world",
          "year": "1927-01-01T00:00:00"
         },
         {
          "avg_temp": 8.93125,
          "level": "berlin",
          "year": "1928-01-01T00:00:00"
         },
         {
          "avg_temp": 8.4325,
          "level": "world",
          "year": "1928-01-01T00:00:00"
         },
         {
          "avg_temp": 8.842500000000001,
          "level": "berlin",
          "year": "1929-01-01T00:00:00"
         },
         {
          "avg_temp": 8.428749999999999,
          "level": "world",
          "year": "1929-01-01T00:00:00"
         },
         {
          "avg_temp": 8.84125,
          "level": "berlin",
          "year": "1930-01-01T00:00:00"
         },
         {
          "avg_temp": 8.431249999999999,
          "level": "world",
          "year": "1930-01-01T00:00:00"
         },
         {
          "avg_temp": 8.828125,
          "level": "berlin",
          "year": "1931-01-01T00:00:00"
         },
         {
          "avg_temp": 8.439374999999998,
          "level": "world",
          "year": "1931-01-01T00:00:00"
         },
         {
          "avg_temp": 8.823749999999999,
          "level": "berlin",
          "year": "1932-01-01T00:00:00"
         },
         {
          "avg_temp": 8.469375,
          "level": "world",
          "year": "1932-01-01T00:00:00"
         },
         {
          "avg_temp": 8.819374999999997,
          "level": "berlin",
          "year": "1933-01-01T00:00:00"
         },
         {
          "avg_temp": 8.489374999999999,
          "level": "world",
          "year": "1933-01-01T00:00:00"
         },
         {
          "avg_temp": 8.898749999999998,
          "level": "berlin",
          "year": "1934-01-01T00:00:00"
         },
         {
          "avg_temp": 8.520624999999999,
          "level": "world",
          "year": "1934-01-01T00:00:00"
         },
         {
          "avg_temp": 8.982499999999998,
          "level": "berlin",
          "year": "1935-01-01T00:00:00"
         },
         {
          "avg_temp": 8.529375,
          "level": "world",
          "year": "1935-01-01T00:00:00"
         },
         {
          "avg_temp": 8.978124999999999,
          "level": "berlin",
          "year": "1936-01-01T00:00:00"
         },
         {
          "avg_temp": 8.541250000000002,
          "level": "world",
          "year": "1936-01-01T00:00:00"
         },
         {
          "avg_temp": 8.954999999999998,
          "level": "berlin",
          "year": "1937-01-01T00:00:00"
         },
         {
          "avg_temp": 8.549375000000001,
          "level": "world",
          "year": "1937-01-01T00:00:00"
         },
         {
          "avg_temp": 9.080625,
          "level": "berlin",
          "year": "1938-01-01T00:00:00"
         },
         {
          "avg_temp": 8.577500000000002,
          "level": "world",
          "year": "1938-01-01T00:00:00"
         },
         {
          "avg_temp": 9.126874999999998,
          "level": "berlin",
          "year": "1939-01-01T00:00:00"
         },
         {
          "avg_temp": 8.598750000000003,
          "level": "world",
          "year": "1939-01-01T00:00:00"
         },
         {
          "avg_temp": 9.048124999999997,
          "level": "berlin",
          "year": "1940-01-01T00:00:00"
         },
         {
          "avg_temp": 8.614375000000003,
          "level": "world",
          "year": "1940-01-01T00:00:00"
         },
         {
          "avg_temp": 8.941874999999998,
          "level": "berlin",
          "year": "1941-01-01T00:00:00"
         },
         {
          "avg_temp": 8.629375000000003,
          "level": "world",
          "year": "1941-01-01T00:00:00"
         },
         {
          "avg_temp": 8.831249999999999,
          "level": "berlin",
          "year": "1942-01-01T00:00:00"
         },
         {
          "avg_temp": 8.629375000000003,
          "level": "world",
          "year": "1942-01-01T00:00:00"
         },
         {
          "avg_temp": 8.890624999999998,
          "level": "berlin",
          "year": "1943-01-01T00:00:00"
         },
         {
          "avg_temp": 8.644375000000002,
          "level": "world",
          "year": "1943-01-01T00:00:00"
         },
         {
          "avg_temp": 8.915,
          "level": "berlin",
          "year": "1944-01-01T00:00:00"
         },
         {
          "avg_temp": 8.658125000000002,
          "level": "world",
          "year": "1944-01-01T00:00:00"
         },
         {
          "avg_temp": 9.018124999999998,
          "level": "berlin",
          "year": "1945-01-01T00:00:00"
         },
         {
          "avg_temp": 8.679375000000002,
          "level": "world",
          "year": "1945-01-01T00:00:00"
         },
         {
          "avg_temp": 8.995624999999999,
          "level": "berlin",
          "year": "1946-01-01T00:00:00"
         },
         {
          "avg_temp": 8.682500000000003,
          "level": "world",
          "year": "1946-01-01T00:00:00"
         },
         {
          "avg_temp": 9.023124999999999,
          "level": "berlin",
          "year": "1947-01-01T00:00:00"
         },
         {
          "avg_temp": 8.687500000000004,
          "level": "world",
          "year": "1947-01-01T00:00:00"
         },
         {
          "avg_temp": 9.06875,
          "level": "berlin",
          "year": "1948-01-01T00:00:00"
         },
         {
          "avg_temp": 8.690000000000003,
          "level": "world",
          "year": "1948-01-01T00:00:00"
         },
         {
          "avg_temp": 9.17625,
          "level": "berlin",
          "year": "1949-01-01T00:00:00"
         },
         {
          "avg_temp": 8.705625000000003,
          "level": "world",
          "year": "1949-01-01T00:00:00"
         },
         {
          "avg_temp": 9.09375,
          "level": "berlin",
          "year": "1950-01-01T00:00:00"
         },
         {
          "avg_temp": 8.689375000000004,
          "level": "world",
          "year": "1950-01-01T00:00:00"
         },
         {
          "avg_temp": 9.1175,
          "level": "berlin",
          "year": "1951-01-01T00:00:00"
         },
         {
          "avg_temp": 8.696250000000003,
          "level": "world",
          "year": "1951-01-01T00:00:00"
         },
         {
          "avg_temp": 9.074375,
          "level": "berlin",
          "year": "1952-01-01T00:00:00"
         },
         {
          "avg_temp": 8.701875000000001,
          "level": "world",
          "year": "1952-01-01T00:00:00"
         },
         {
          "avg_temp": 9.119375,
          "level": "berlin",
          "year": "1953-01-01T00:00:00"
         },
         {
          "avg_temp": 8.712500000000002,
          "level": "world",
          "year": "1953-01-01T00:00:00"
         },
         {
          "avg_temp": 9.034374999999999,
          "level": "berlin",
          "year": "1954-01-01T00:00:00"
         },
         {
          "avg_temp": 8.693750000000001,
          "level": "world",
          "year": "1954-01-01T00:00:00"
         },
         {
          "avg_temp": 8.974374999999998,
          "level": "berlin",
          "year": "1955-01-01T00:00:00"
         },
         {
          "avg_temp": 8.685625000000002,
          "level": "world",
          "year": "1955-01-01T00:00:00"
         },
         {
          "avg_temp": 9.007499999999999,
          "level": "berlin",
          "year": "1956-01-01T00:00:00"
         },
         {
          "avg_temp": 8.655625000000002,
          "level": "world",
          "year": "1956-01-01T00:00:00"
         },
         {
          "avg_temp": 9.122499999999999,
          "level": "berlin",
          "year": "1957-01-01T00:00:00"
         },
         {
          "avg_temp": 8.653125000000001,
          "level": "world",
          "year": "1957-01-01T00:00:00"
         },
         {
          "avg_temp": 9.200624999999999,
          "level": "berlin",
          "year": "1958-01-01T00:00:00"
         },
         {
          "avg_temp": 8.655625000000002,
          "level": "world",
          "year": "1958-01-01T00:00:00"
         },
         {
          "avg_temp": 9.21375,
          "level": "berlin",
          "year": "1959-01-01T00:00:00"
         },
         {
          "avg_temp": 8.653750000000002,
          "level": "world",
          "year": "1959-01-01T00:00:00"
         },
         {
          "avg_temp": 9.208124999999999,
          "level": "berlin",
          "year": "1960-01-01T00:00:00"
         },
         {
          "avg_temp": 8.636875000000003,
          "level": "world",
          "year": "1960-01-01T00:00:00"
         },
         {
          "avg_temp": 9.21875,
          "level": "berlin",
          "year": "1961-01-01T00:00:00"
         },
         {
          "avg_temp": 8.650625000000003,
          "level": "world",
          "year": "1961-01-01T00:00:00"
         },
         {
          "avg_temp": 9.156875,
          "level": "berlin",
          "year": "1962-01-01T00:00:00"
         },
         {
          "avg_temp": 8.655000000000003,
          "level": "world",
          "year": "1962-01-01T00:00:00"
         },
         {
          "avg_temp": 9.115,
          "level": "berlin",
          "year": "1963-01-01T00:00:00"
         },
         {
          "avg_temp": 8.658750000000001,
          "level": "world",
          "year": "1963-01-01T00:00:00"
         },
         {
          "avg_temp": 9.045,
          "level": "berlin",
          "year": "1964-01-01T00:00:00"
         },
         {
          "avg_temp": 8.637500000000001,
          "level": "world",
          "year": "1964-01-01T00:00:00"
         },
         {
          "avg_temp": 8.938125000000001,
          "level": "berlin",
          "year": "1965-01-01T00:00:00"
         },
         {
          "avg_temp": 8.633750000000001,
          "level": "world",
          "year": "1965-01-01T00:00:00"
         },
         {
          "avg_temp": 8.936250000000001,
          "level": "berlin",
          "year": "1966-01-01T00:00:00"
         },
         {
          "avg_temp": 8.648125,
          "level": "world",
          "year": "1966-01-01T00:00:00"
         },
         {
          "avg_temp": 8.958750000000002,
          "level": "berlin",
          "year": "1967-01-01T00:00:00"
         },
         {
          "avg_temp": 8.6525,
          "level": "world",
          "year": "1967-01-01T00:00:00"
         },
         {
          "avg_temp": 9.000625000000003,
          "level": "berlin",
          "year": "1968-01-01T00:00:00"
         },
         {
          "avg_temp": 8.645,
          "level": "world",
          "year": "1968-01-01T00:00:00"
         },
         {
          "avg_temp": 8.894375000000004,
          "level": "berlin",
          "year": "1969-01-01T00:00:00"
         },
         {
          "avg_temp": 8.628124999999999,
          "level": "world",
          "year": "1969-01-01T00:00:00"
         },
         {
          "avg_temp": 8.895625000000004,
          "level": "berlin",
          "year": "1970-01-01T00:00:00"
         },
         {
          "avg_temp": 8.636874999999998,
          "level": "world",
          "year": "1970-01-01T00:00:00"
         },
         {
          "avg_temp": 8.969375000000003,
          "level": "berlin",
          "year": "1971-01-01T00:00:00"
         },
         {
          "avg_temp": 8.634999999999998,
          "level": "world",
          "year": "1971-01-01T00:00:00"
         },
         {
          "avg_temp": 9.051250000000003,
          "level": "berlin",
          "year": "1972-01-01T00:00:00"
         },
         {
          "avg_temp": 8.648749999999998,
          "level": "world",
          "year": "1972-01-01T00:00:00"
         },
         {
          "avg_temp": 9.037500000000003,
          "level": "berlin",
          "year": "1973-01-01T00:00:00"
         },
         {
          "avg_temp": 8.662499999999998,
          "level": "world",
          "year": "1973-01-01T00:00:00"
         },
         {
          "avg_temp": 9.090000000000003,
          "level": "berlin",
          "year": "1974-01-01T00:00:00"
         },
         {
          "avg_temp": 8.643749999999997,
          "level": "world",
          "year": "1974-01-01T00:00:00"
         },
         {
          "avg_temp": 9.102500000000004,
          "level": "berlin",
          "year": "1975-01-01T00:00:00"
         },
         {
          "avg_temp": 8.644374999999998,
          "level": "world",
          "year": "1975-01-01T00:00:00"
         },
         {
          "avg_temp": 9.098125000000005,
          "level": "berlin",
          "year": "1976-01-01T00:00:00"
         },
         {
          "avg_temp": 8.629999999999997,
          "level": "world",
          "year": "1976-01-01T00:00:00"
         },
         {
          "avg_temp": 9.081250000000004,
          "level": "berlin",
          "year": "1977-01-01T00:00:00"
         },
         {
          "avg_temp": 8.633124999999996,
          "level": "world",
          "year": "1977-01-01T00:00:00"
         },
         {
          "avg_temp": 9.126875000000005,
          "level": "berlin",
          "year": "1978-01-01T00:00:00"
         },
         {
          "avg_temp": 8.629374999999996,
          "level": "world",
          "year": "1978-01-01T00:00:00"
         },
         {
          "avg_temp": 9.152500000000005,
          "level": "berlin",
          "year": "1979-01-01T00:00:00"
         },
         {
          "avg_temp": 8.621249999999996,
          "level": "world",
          "year": "1979-01-01T00:00:00"
         },
         {
          "avg_temp": 9.116250000000004,
          "level": "berlin",
          "year": "1980-01-01T00:00:00"
         },
         {
          "avg_temp": 8.656874999999996,
          "level": "world",
          "year": "1980-01-01T00:00:00"
         },
         {
          "avg_temp": 9.169375000000004,
          "level": "berlin",
          "year": "1981-01-01T00:00:00"
         },
         {
          "avg_temp": 8.696874999999995,
          "level": "world",
          "year": "1981-01-01T00:00:00"
         },
         {
          "avg_temp": 9.215625000000005,
          "level": "berlin",
          "year": "1982-01-01T00:00:00"
         },
         {
          "avg_temp": 8.699374999999995,
          "level": "world",
          "year": "1982-01-01T00:00:00"
         },
         {
          "avg_temp": 9.223750000000004,
          "level": "berlin",
          "year": "1983-01-01T00:00:00"
         },
         {
          "avg_temp": 8.719999999999995,
          "level": "world",
          "year": "1983-01-01T00:00:00"
         },
         {
          "avg_temp": 9.202500000000004,
          "level": "berlin",
          "year": "1984-01-01T00:00:00"
         },
         {
          "avg_temp": 8.730624999999995,
          "level": "world",
          "year": "1984-01-01T00:00:00"
         },
         {
          "avg_temp": 9.204375000000004,
          "level": "berlin",
          "year": "1985-01-01T00:00:00"
         },
         {
          "avg_temp": 8.734374999999995,
          "level": "world",
          "year": "1985-01-01T00:00:00"
         },
         {
          "avg_temp": 9.226250000000004,
          "level": "berlin",
          "year": "1986-01-01T00:00:00"
         },
         {
          "avg_temp": 8.742499999999996,
          "level": "world",
          "year": "1986-01-01T00:00:00"
         },
         {
          "avg_temp": 9.135625000000005,
          "level": "berlin",
          "year": "1987-01-01T00:00:00"
         },
         {
          "avg_temp": 8.766874999999997,
          "level": "world",
          "year": "1987-01-01T00:00:00"
         },
         {
          "avg_temp": 9.206875000000005,
          "level": "berlin",
          "year": "1988-01-01T00:00:00"
         },
         {
          "avg_temp": 8.810624999999996,
          "level": "world",
          "year": "1988-01-01T00:00:00"
         },
         {
          "avg_temp": 9.299375000000005,
          "level": "berlin",
          "year": "1989-01-01T00:00:00"
         },
         {
          "avg_temp": 8.808749999999996,
          "level": "world",
          "year": "1989-01-01T00:00:00"
         },
         {
          "avg_temp": 9.350625000000004,
          "level": "berlin",
          "year": "1990-01-01T00:00:00"
         },
         {
          "avg_temp": 8.856249999999996,
          "level": "world",
          "year": "1990-01-01T00:00:00"
         },
         {
          "avg_temp": 9.305625000000004,
          "level": "berlin",
          "year": "1991-01-01T00:00:00"
         },
         {
          "avg_temp": 8.883749999999996,
          "level": "world",
          "year": "1991-01-01T00:00:00"
         },
         {
          "avg_temp": 9.382500000000004,
          "level": "berlin",
          "year": "1992-01-01T00:00:00"
         },
         {
          "avg_temp": 8.914374999999996,
          "level": "world",
          "year": "1992-01-01T00:00:00"
         },
         {
          "avg_temp": 9.370000000000005,
          "level": "berlin",
          "year": "1993-01-01T00:00:00"
         },
         {
          "avg_temp": 8.915624999999997,
          "level": "world",
          "year": "1993-01-01T00:00:00"
         },
         {
          "avg_temp": 9.468125000000004,
          "level": "berlin",
          "year": "1994-01-01T00:00:00"
         },
         {
          "avg_temp": 8.937499999999996,
          "level": "world",
          "year": "1994-01-01T00:00:00"
         },
         {
          "avg_temp": 9.544375000000004,
          "level": "berlin",
          "year": "1995-01-01T00:00:00"
         },
         {
          "avg_temp": 8.976249999999997,
          "level": "world",
          "year": "1995-01-01T00:00:00"
         },
         {
          "avg_temp": 9.520625000000004,
          "level": "berlin",
          "year": "1996-01-01T00:00:00"
         },
         {
          "avg_temp": 8.979999999999997,
          "level": "world",
          "year": "1996-01-01T00:00:00"
         },
         {
          "avg_temp": 9.555000000000003,
          "level": "berlin",
          "year": "1997-01-01T00:00:00"
         },
         {
          "avg_temp": 8.981874999999997,
          "level": "world",
          "year": "1997-01-01T00:00:00"
         },
         {
          "avg_temp": 9.553125000000003,
          "level": "berlin",
          "year": "1998-01-01T00:00:00"
         },
         {
          "avg_temp": 9.036874999999998,
          "level": "world",
          "year": "1998-01-01T00:00:00"
         },
         {
          "avg_temp": 9.576250000000003,
          "level": "berlin",
          "year": "1999-01-01T00:00:00"
         },
         {
          "avg_temp": 9.053124999999998,
          "level": "world",
          "year": "1999-01-01T00:00:00"
         },
         {
          "avg_temp": 9.702500000000004,
          "level": "berlin",
          "year": "2000-01-01T00:00:00"
         },
         {
          "avg_temp": 9.084999999999997,
          "level": "world",
          "year": "2000-01-01T00:00:00"
         },
         {
          "avg_temp": 9.779375000000003,
          "level": "berlin",
          "year": "2001-01-01T00:00:00"
         },
         {
          "avg_temp": 9.131874999999997,
          "level": "world",
          "year": "2001-01-01T00:00:00"
         },
         {
          "avg_temp": 9.871875000000003,
          "level": "berlin",
          "year": "2002-01-01T00:00:00"
         },
         {
          "avg_temp": 9.178124999999996,
          "level": "world",
          "year": "2002-01-01T00:00:00"
         },
         {
          "avg_temp": 9.995625000000002,
          "level": "berlin",
          "year": "2003-01-01T00:00:00"
         },
         {
          "avg_temp": 9.211874999999996,
          "level": "world",
          "year": "2003-01-01T00:00:00"
         },
         {
          "avg_temp": 9.983125000000001,
          "level": "berlin",
          "year": "2004-01-01T00:00:00"
         },
         {
          "avg_temp": 9.219374999999996,
          "level": "world",
          "year": "2004-01-01T00:00:00"
         },
         {
          "avg_temp": 9.933125,
          "level": "berlin",
          "year": "2005-01-01T00:00:00"
         },
         {
          "avg_temp": 9.268124999999996,
          "level": "world",
          "year": "2005-01-01T00:00:00"
         },
         {
          "avg_temp": 9.923125,
          "level": "berlin",
          "year": "2006-01-01T00:00:00"
         },
         {
          "avg_temp": 9.286874999999997,
          "level": "world",
          "year": "2006-01-01T00:00:00"
         },
         {
          "avg_temp": 10.018125000000001,
          "level": "berlin",
          "year": "2007-01-01T00:00:00"
         },
         {
          "avg_temp": 9.321249999999996,
          "level": "world",
          "year": "2007-01-01T00:00:00"
         },
         {
          "avg_temp": 10.035625000000001,
          "level": "berlin",
          "year": "2008-01-01T00:00:00"
         },
         {
          "avg_temp": 9.358124999999996,
          "level": "world",
          "year": "2008-01-01T00:00:00"
         },
         {
          "avg_temp": 10.080625000000001,
          "level": "berlin",
          "year": "2009-01-01T00:00:00"
         },
         {
          "avg_temp": 9.398124999999995,
          "level": "world",
          "year": "2009-01-01T00:00:00"
         },
         {
          "avg_temp": 9.966875000000002,
          "level": "berlin",
          "year": "2010-01-01T00:00:00"
         },
         {
          "avg_temp": 9.439374999999995,
          "level": "world",
          "year": "2010-01-01T00:00:00"
         },
         {
          "avg_temp": 10.017500000000002,
          "level": "berlin",
          "year": "2011-01-01T00:00:00"
         },
         {
          "avg_temp": 9.449999999999996,
          "level": "world",
          "year": "2011-01-01T00:00:00"
         },
         {
          "avg_temp": 10.147500000000003,
          "level": "berlin",
          "year": "2012-01-01T00:00:00"
         },
         {
          "avg_temp": 9.479374999999996,
          "level": "world",
          "year": "2012-01-01T00:00:00"
         },
         {
          "avg_temp": 10.171875000000004,
          "level": "berlin",
          "year": "2013-01-01T00:00:00"
         },
         {
          "avg_temp": 9.504999999999995,
          "level": "world",
          "year": "2013-01-01T00:00:00"
         }
        ]
       },
       "encoding": {
        "color": {
         "field": "level",
         "type": "nominal"
        },
        "x": {
         "field": "year",
         "title": "Year",
         "type": "temporal"
        },
        "y": {
         "field": "avg_temp",
         "scale": {
          "zero": false
         },
         "title": "Avg. Temp. [°C]",
         "type": "quantitative"
        }
       },
       "height": 400,
       "mark": "line",
       "title": "Avg. Temp. World vs. Berlin (Moving Window 16)",
       "width": 800
      },
      "image/png": "[encoded data removed]",
      "text/plain": [
       "<VegaLite 2 object>\n",
       "\n",
       "If you see this message, it means the renderer has not been properly enabled\n",
       "for the frontend that you are using. For more information, see\n",
       "https://altair-viz.github.io/user_guide/troubleshooting.html\n"
      ]
     },
     "execution_count": 326,
     "metadata": {},
     "output_type": "execute_result"
    }
   ],
   "source": [
    "avg_chart(16).properties(width=800, height=400)"
   ]
  },
  {
   "cell_type": "markdown",
   "metadata": {},
   "source": [
    "### **Analysis and Observations**\n",
    "\n",
    "- What do we see?\n",
    " - Global highly fluctuating until ~1850 maybe due to measurement issues\n",
    " - Local temperatur stronger fluctuating as more \"averaging out local effects on a global scale\"\n",
    " - However global and local weather seem to be correlated\n",
    " - Temperature for both, local and global, having a stronger tendency to go up since ~1900 and even sharper since ~1970/80\n",
    " - Berlin approx. 0.5 °C warmer that global average (relatively consistent)\n",
    "- Calculations\n",
    " - Correlations\n",
    " - Linear Regression (over different time scales)"
   ]
  },
  {
   "cell_type": "markdown",
   "metadata": {
    "toc-hr-collapsed": false
   },
   "source": [
    "# *Recap of Instructions from Udacity*\n",
    "\n",
    "## The Steps According to Instructions from Udacity\n",
    "The goal is to create a visualization and to describe the similarities and differences between global temperature trends and temperature trends in Berlin, Germany (and other places on earth). \n",
    "\n",
    "To do this, I followed the steps below:\n",
    "\n",
    "- **Extract the data** from the database. In Udacity, there's a workspace that is connected to a database. I exported the temperature data for the world as well as for Berlin, the city where I live.\n",
    " - I wrote a SQL query to extract the city level data for Berlin and exported it to CSV. \n",
    " - I wrote a SQL query to extract the global data and exported it to CSV.\n",
    "- **Open up the CSV** in Python (within a Jupyter Notebook in JupyterLab).\n",
    "\n",
    "- **Create a line chart** that compares Berlin's temperatures with the global temperatures. I made sure to plot the ***moving average*** rather than the yearly averages in order to smooth out the lines, making trends more observable (the last concept in the previous lesson goes over how to do this in a spreadsheet).\n",
    "- **Make observations** about the similarities and differences between the world averages and Berlins averages, as well as overall trends. Here are some questions I started with.\n",
    " - Is your Berlin hotter or cooler on average compared to the global average? Has the difference been consistent over time?\n",
    " - “How do the changes in Berlin's temperatures over time compare to the changes in the global average?”\n",
    " - What does the overall trend look like? Is the world getting hotter or cooler? Has the trend been consistent over the last few hundred years?\n",
    "\n",
    "## Submission\n",
    "My submission to Udacity is a PDF from this Notebook that includes:\n",
    "\n",
    "- **An outline** of steps taken to prepare the data to be visualized in the chart, such as:\n",
    " - What tools did I use for each step? (Python, SQL, Excel, etc)\n",
    " - How did I calculate the moving average?\n",
    " - What were my key considerations when deciding how to visualize the trends?\n",
    "- **Line chart** with local and global temperature trends\n",
    "- At least **four observations** about the similarities and/or differences in the trends\n",
    "\n",
    "I order to meet the Udacity reviewer's expectations I followed the following **rubric** as a self-assessment before submission.\n",
    "\n",
    "- Student is able to extract data from a database using SQL.\n",
    " - The SQL query used to extract the data is included.\n",
    " - The query runs without error and pulls the intended data.\n",
    "\n",
    "\n",
    "- Student is able to manipulate data in a spreadsheet or similar tool.\n",
    " - Moving averages are calculated to be used in the line chart.\n",
    " - Student is able to create a clear data visualization.\n",
    "\n",
    "\n",
    "- A line chart is included in the submission.\n",
    " - The chart and its axes have titles, and there's a clear legend (if applicable).\n",
    " - Student is able to interpret a data visualization.\n",
    "\n",
    "\n",
    "- The student includes four observations about their provided data visualization.\n",
    " - The four observations are accurate."
   ]
  }
 ],
 "metadata": {
  "kernelspec": {
   "display_name": "Python 3",
   "language": "python",
   "name": "python3"
  },
  "language_info": {
   "codemirror_mode": {
    "name": "ipython",
    "version": 3
   },
   "file_extension": ".py",
   "mimetype": "text/x-python",
   "name": "python",
   "nbconvert_exporter": "python",
   "pygments_lexer": "ipython3",
   "version": "3.7.2"
  }
 },
 "nbformat": 4,
 "nbformat_minor": 2
}
